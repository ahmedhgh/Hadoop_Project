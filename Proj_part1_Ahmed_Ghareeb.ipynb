{
 "cells": [
  {
   "cell_type": "code",
   "execution_count": 1,
   "metadata": {},
   "outputs": [],
   "source": [
    "import pandas as pd\n",
    "import numpy as np\n",
    "import matplotlib.pyplot as plt \n",
    "\n",
    "from sklearn import tree\n",
    "from sklearn.tree import DecisionTreeRegressor\n"
   ]
  },
  {
   "cell_type": "markdown",
   "metadata": {},
   "source": [
    "### Reading Month 1 Data"
   ]
  },
  {
   "cell_type": "code",
   "execution_count": 2,
   "metadata": {},
   "outputs": [
    {
     "name": "stdout",
     "output_type": "stream",
     "text": [
      "('Month 1 size', (2976, 6))\n"
     ]
    },
    {
     "data": {
      "text/html": [
       "<div>\n",
       "<style scoped>\n",
       "    .dataframe tbody tr th:only-of-type {\n",
       "        vertical-align: middle;\n",
       "    }\n",
       "\n",
       "    .dataframe tbody tr th {\n",
       "        vertical-align: top;\n",
       "    }\n",
       "\n",
       "    .dataframe thead th {\n",
       "        text-align: right;\n",
       "    }\n",
       "</style>\n",
       "<table border=\"1\" class=\"dataframe\">\n",
       "  <thead>\n",
       "    <tr style=\"text-align: right;\">\n",
       "      <th></th>\n",
       "      <th>Date_Time</th>\n",
       "      <th>TEMPERATURE</th>\n",
       "      <th>Day</th>\n",
       "      <th>Hour</th>\n",
       "      <th>Workday</th>\n",
       "      <th>CONSUMPTION</th>\n",
       "    </tr>\n",
       "  </thead>\n",
       "  <tbody>\n",
       "    <tr>\n",
       "      <th>0</th>\n",
       "      <td>01-01-17 0:00</td>\n",
       "      <td>35.099998</td>\n",
       "      <td>1</td>\n",
       "      <td>0</td>\n",
       "      <td>1</td>\n",
       "      <td>27.8</td>\n",
       "    </tr>\n",
       "    <tr>\n",
       "      <th>1</th>\n",
       "      <td>01-01-17 0:15</td>\n",
       "      <td>35.099998</td>\n",
       "      <td>1</td>\n",
       "      <td>0</td>\n",
       "      <td>1</td>\n",
       "      <td>29.0</td>\n",
       "    </tr>\n",
       "    <tr>\n",
       "      <th>2</th>\n",
       "      <td>01-01-17 0:30</td>\n",
       "      <td>35.099998</td>\n",
       "      <td>1</td>\n",
       "      <td>0</td>\n",
       "      <td>1</td>\n",
       "      <td>28.5</td>\n",
       "    </tr>\n",
       "    <tr>\n",
       "      <th>3</th>\n",
       "      <td>01-01-17 0:45</td>\n",
       "      <td>35.099998</td>\n",
       "      <td>1</td>\n",
       "      <td>0</td>\n",
       "      <td>1</td>\n",
       "      <td>28.0</td>\n",
       "    </tr>\n",
       "    <tr>\n",
       "      <th>4</th>\n",
       "      <td>01-01-17 1:00</td>\n",
       "      <td>33.200001</td>\n",
       "      <td>1</td>\n",
       "      <td>1</td>\n",
       "      <td>1</td>\n",
       "      <td>27.7</td>\n",
       "    </tr>\n",
       "  </tbody>\n",
       "</table>\n",
       "</div>"
      ],
      "text/plain": [
       "       Date_Time  TEMPERATURE  Day  Hour  Workday  CONSUMPTION\n",
       "0  01-01-17 0:00    35.099998    1     0        1         27.8\n",
       "1  01-01-17 0:15    35.099998    1     0        1         29.0\n",
       "2  01-01-17 0:30    35.099998    1     0        1         28.5\n",
       "3  01-01-17 0:45    35.099998    1     0        1         28.0\n",
       "4  01-01-17 1:00    33.200001    1     1        1         27.7"
      ]
     },
     "execution_count": 2,
     "metadata": {},
     "output_type": "execute_result"
    }
   ],
   "source": [
    "month1=pd.read_csv('month1_RL.csv')\n",
    "print('Month 1 size',month1.shape)\n",
    "month1.head()"
   ]
  },
  {
   "cell_type": "markdown",
   "metadata": {},
   "source": [
    "### Separating each input variable"
   ]
  },
  {
   "cell_type": "code",
   "execution_count": 3,
   "metadata": {},
   "outputs": [
    {
     "data": {
      "text/html": [
       "<div>\n",
       "<style scoped>\n",
       "    .dataframe tbody tr th:only-of-type {\n",
       "        vertical-align: middle;\n",
       "    }\n",
       "\n",
       "    .dataframe tbody tr th {\n",
       "        vertical-align: top;\n",
       "    }\n",
       "\n",
       "    .dataframe thead th {\n",
       "        text-align: right;\n",
       "    }\n",
       "</style>\n",
       "<table border=\"1\" class=\"dataframe\">\n",
       "  <thead>\n",
       "    <tr style=\"text-align: right;\">\n",
       "      <th></th>\n",
       "      <th>TEMPERATURE</th>\n",
       "      <th>Day</th>\n",
       "      <th>Hour</th>\n",
       "      <th>Workday</th>\n",
       "    </tr>\n",
       "  </thead>\n",
       "  <tbody>\n",
       "    <tr>\n",
       "      <th>0</th>\n",
       "      <td>35.099998</td>\n",
       "      <td>1</td>\n",
       "      <td>0</td>\n",
       "      <td>1</td>\n",
       "    </tr>\n",
       "    <tr>\n",
       "      <th>1</th>\n",
       "      <td>35.099998</td>\n",
       "      <td>1</td>\n",
       "      <td>0</td>\n",
       "      <td>1</td>\n",
       "    </tr>\n",
       "    <tr>\n",
       "      <th>2</th>\n",
       "      <td>35.099998</td>\n",
       "      <td>1</td>\n",
       "      <td>0</td>\n",
       "      <td>1</td>\n",
       "    </tr>\n",
       "    <tr>\n",
       "      <th>3</th>\n",
       "      <td>35.099998</td>\n",
       "      <td>1</td>\n",
       "      <td>0</td>\n",
       "      <td>1</td>\n",
       "    </tr>\n",
       "    <tr>\n",
       "      <th>4</th>\n",
       "      <td>33.200001</td>\n",
       "      <td>1</td>\n",
       "      <td>1</td>\n",
       "      <td>1</td>\n",
       "    </tr>\n",
       "  </tbody>\n",
       "</table>\n",
       "</div>"
      ],
      "text/plain": [
       "   TEMPERATURE  Day  Hour  Workday\n",
       "0    35.099998    1     0        1\n",
       "1    35.099998    1     0        1\n",
       "2    35.099998    1     0        1\n",
       "3    35.099998    1     0        1\n",
       "4    33.200001    1     1        1"
      ]
     },
     "execution_count": 3,
     "metadata": {},
     "output_type": "execute_result"
    }
   ],
   "source": [
    "X_month1_temperature=month1.iloc[:,1:2]\n",
    "X_month1_day=month1.iloc[:,2:3]\n",
    "X_month1_hour=month1.iloc[:,3:4]\n",
    "X_month1_workday=month1.iloc[:,4:5]\n",
    "X_month1=month1.iloc[:,1:5]\n",
    "X_month1.head()"
   ]
  },
  {
   "cell_type": "markdown",
   "metadata": {},
   "source": [
    "### Energy consumption for Month 1"
   ]
  },
  {
   "cell_type": "code",
   "execution_count": 4,
   "metadata": {},
   "outputs": [
    {
     "data": {
      "text/html": [
       "<div>\n",
       "<style scoped>\n",
       "    .dataframe tbody tr th:only-of-type {\n",
       "        vertical-align: middle;\n",
       "    }\n",
       "\n",
       "    .dataframe tbody tr th {\n",
       "        vertical-align: top;\n",
       "    }\n",
       "\n",
       "    .dataframe thead th {\n",
       "        text-align: right;\n",
       "    }\n",
       "</style>\n",
       "<table border=\"1\" class=\"dataframe\">\n",
       "  <thead>\n",
       "    <tr style=\"text-align: right;\">\n",
       "      <th></th>\n",
       "      <th>CONSUMPTION</th>\n",
       "    </tr>\n",
       "  </thead>\n",
       "  <tbody>\n",
       "    <tr>\n",
       "      <th>0</th>\n",
       "      <td>27.8</td>\n",
       "    </tr>\n",
       "    <tr>\n",
       "      <th>1</th>\n",
       "      <td>29.0</td>\n",
       "    </tr>\n",
       "    <tr>\n",
       "      <th>2</th>\n",
       "      <td>28.5</td>\n",
       "    </tr>\n",
       "    <tr>\n",
       "      <th>3</th>\n",
       "      <td>28.0</td>\n",
       "    </tr>\n",
       "    <tr>\n",
       "      <th>4</th>\n",
       "      <td>27.7</td>\n",
       "    </tr>\n",
       "  </tbody>\n",
       "</table>\n",
       "</div>"
      ],
      "text/plain": [
       "   CONSUMPTION\n",
       "0         27.8\n",
       "1         29.0\n",
       "2         28.5\n",
       "3         28.0\n",
       "4         27.7"
      ]
     },
     "execution_count": 4,
     "metadata": {},
     "output_type": "execute_result"
    }
   ],
   "source": [
    "Y_month1=month1.iloc[:,5:6]\n",
    "Y_month1.head()\n"
   ]
  },
  {
   "cell_type": "markdown",
   "metadata": {},
   "source": [
    "### Fitting each variable"
   ]
  },
  {
   "cell_type": "code",
   "execution_count": 5,
   "metadata": {},
   "outputs": [],
   "source": [
    "clf1 = tree.DecisionTreeRegressor(max_depth=4,max_features=1)\n",
    "clf1 = clf1.fit(X_month1_temperature, Y_month1)\n",
    "\n",
    "clf2 = tree.DecisionTreeRegressor(max_depth=4,max_features=1)\n",
    "clf2 = clf2.fit(X_month1_day, Y_month1)\n",
    "\n",
    "clf3 = tree.DecisionTreeRegressor(max_depth=4,max_features=1)\n",
    "clf3 = clf3.fit(X_month1_hour, Y_month1)\n",
    "\n",
    "clf4 = tree.DecisionTreeRegressor(max_depth=4,max_features=1)\n",
    "clf4 = clf4.fit(X_month1_workday, Y_month1)\n",
    "\n",
    "clf5 = tree.DecisionTreeRegressor(max_depth=4,max_features=4)\n",
    "clf5 = clf5.fit(X_month1, Y_month1)\n"
   ]
  },
  {
   "cell_type": "markdown",
   "metadata": {},
   "source": [
    "### Interpretation with respect to temperature"
   ]
  },
  {
   "cell_type": "code",
   "execution_count": 6,
   "metadata": {},
   "outputs": [
    {
     "data": {
      "image/svg+xml": [
       "<?xml version=\"1.0\" encoding=\"UTF-8\" standalone=\"no\"?>\n",
       "<!DOCTYPE svg PUBLIC \"-//W3C//DTD SVG 1.1//EN\"\n",
       " \"http://www.w3.org/Graphics/SVG/1.1/DTD/svg11.dtd\">\n",
       "<!-- Generated by graphviz version 2.38.0 (20140413.2041)\n",
       " -->\n",
       "<!-- Title: Tree Pages: 1 -->\n",
       "<svg width=\"805pt\" height=\"1126pt\"\n",
       " viewBox=\"0.00 0.00 805.00 1126.00\" xmlns=\"http://www.w3.org/2000/svg\" xmlns:xlink=\"http://www.w3.org/1999/xlink\">\n",
       "<g id=\"graph0\" class=\"graph\" transform=\"scale(1 1) rotate(0) translate(4 1122)\">\n",
       "<title>Tree</title>\n",
       "<polygon fill=\"white\" stroke=\"none\" points=\"-4,4 -4,-1122 801,-1122 801,4 -4,4\"/>\n",
       "<!-- 0 -->\n",
       "<g id=\"node1\" class=\"node\"><title>0</title>\n",
       "<path fill=\"#e58139\" fill-opacity=\"0.486275\" stroke=\"black\" d=\"M123,-592.5C123,-592.5 12,-592.5 12,-592.5 6,-592.5 0,-586.5 0,-580.5 0,-580.5 0,-536.5 0,-536.5 0,-530.5 6,-524.5 12,-524.5 12,-524.5 123,-524.5 123,-524.5 129,-524.5 135,-530.5 135,-536.5 135,-536.5 135,-580.5 135,-580.5 135,-586.5 129,-592.5 123,-592.5\"/>\n",
       "<text text-anchor=\"start\" x=\"8\" y=\"-577.3\" font-family=\"Helvetica,sans-Serif\" font-size=\"14.00\">tempeature ≤ 10.65</text>\n",
       "<text text-anchor=\"start\" x=\"25.5\" y=\"-562.3\" font-family=\"Helvetica,sans-Serif\" font-size=\"14.00\">mse = 147.31</text>\n",
       "<text text-anchor=\"start\" x=\"19\" y=\"-547.3\" font-family=\"Helvetica,sans-Serif\" font-size=\"14.00\">samples = 2976</text>\n",
       "<text text-anchor=\"start\" x=\"26.5\" y=\"-532.3\" font-family=\"Helvetica,sans-Serif\" font-size=\"14.00\">value = 42.59</text>\n",
       "</g>\n",
       "<!-- 1 -->\n",
       "<g id=\"node2\" class=\"node\"><title>1</title>\n",
       "<path fill=\"#e58139\" fill-opacity=\"0.184314\" stroke=\"black\" d=\"M290.5,-734.5C290.5,-734.5 186.5,-734.5 186.5,-734.5 180.5,-734.5 174.5,-728.5 174.5,-722.5 174.5,-722.5 174.5,-678.5 174.5,-678.5 174.5,-672.5 180.5,-666.5 186.5,-666.5 186.5,-666.5 290.5,-666.5 290.5,-666.5 296.5,-666.5 302.5,-672.5 302.5,-678.5 302.5,-678.5 302.5,-722.5 302.5,-722.5 302.5,-728.5 296.5,-734.5 290.5,-734.5\"/>\n",
       "<text text-anchor=\"start\" x=\"182.5\" y=\"-719.3\" font-family=\"Helvetica,sans-Serif\" font-size=\"14.00\">tempeature ≤ 7.05</text>\n",
       "<text text-anchor=\"start\" x=\"196.5\" y=\"-704.3\" font-family=\"Helvetica,sans-Serif\" font-size=\"14.00\">mse = 75.172</text>\n",
       "<text text-anchor=\"start\" x=\"193.5\" y=\"-689.3\" font-family=\"Helvetica,sans-Serif\" font-size=\"14.00\">samples = 188</text>\n",
       "<text text-anchor=\"start\" x=\"197.5\" y=\"-674.3\" font-family=\"Helvetica,sans-Serif\" font-size=\"14.00\">value = 34.74</text>\n",
       "</g>\n",
       "<!-- 0&#45;&gt;1 -->\n",
       "<g id=\"edge1\" class=\"edge\"><title>0&#45;&gt;1</title>\n",
       "<path fill=\"none\" stroke=\"black\" d=\"M108.98,-592.513C133.051,-612.738 163.734,-638.519 189.082,-659.818\"/>\n",
       "<polygon fill=\"black\" stroke=\"black\" points=\"186.857,-662.519 196.765,-666.273 191.36,-657.16 186.857,-662.519\"/>\n",
       "<text text-anchor=\"middle\" x=\"171.859\" y=\"-664.735\" font-family=\"Helvetica,sans-Serif\" font-size=\"14.00\">True</text>\n",
       "</g>\n",
       "<!-- 16 -->\n",
       "<g id=\"node17\" class=\"node\"><title>16</title>\n",
       "<path fill=\"#e58139\" fill-opacity=\"0.505882\" stroke=\"black\" d=\"M294,-451.5C294,-451.5 183,-451.5 183,-451.5 177,-451.5 171,-445.5 171,-439.5 171,-439.5 171,-395.5 171,-395.5 171,-389.5 177,-383.5 183,-383.5 183,-383.5 294,-383.5 294,-383.5 300,-383.5 306,-389.5 306,-395.5 306,-395.5 306,-439.5 306,-439.5 306,-445.5 300,-451.5 294,-451.5\"/>\n",
       "<text text-anchor=\"start\" x=\"179\" y=\"-436.3\" font-family=\"Helvetica,sans-Serif\" font-size=\"14.00\">tempeature ≤ 34.45</text>\n",
       "<text text-anchor=\"start\" x=\"193\" y=\"-421.3\" font-family=\"Helvetica,sans-Serif\" font-size=\"14.00\">mse = 147.739</text>\n",
       "<text text-anchor=\"start\" x=\"190\" y=\"-406.3\" font-family=\"Helvetica,sans-Serif\" font-size=\"14.00\">samples = 2788</text>\n",
       "<text text-anchor=\"start\" x=\"193.5\" y=\"-391.3\" font-family=\"Helvetica,sans-Serif\" font-size=\"14.00\">value = 43.119</text>\n",
       "</g>\n",
       "<!-- 0&#45;&gt;16 -->\n",
       "<g id=\"edge16\" class=\"edge\"><title>0&#45;&gt;16</title>\n",
       "<path fill=\"none\" stroke=\"black\" d=\"M109.41,-524.368C133.298,-504.438 163.586,-479.167 188.712,-458.205\"/>\n",
       "<polygon fill=\"black\" stroke=\"black\" points=\"191.238,-460.656 196.674,-451.562 186.753,-455.281 191.238,-460.656\"/>\n",
       "<text text-anchor=\"middle\" x=\"171.775\" y=\"-445.613\" font-family=\"Helvetica,sans-Serif\" font-size=\"14.00\">False</text>\n",
       "</g>\n",
       "<!-- 2 -->\n",
       "<g id=\"node3\" class=\"node\"><title>2</title>\n",
       "<path fill=\"#e58139\" fill-opacity=\"0.019608\" stroke=\"black\" d=\"M457.5,-940.5C457.5,-940.5 361.5,-940.5 361.5,-940.5 355.5,-940.5 349.5,-934.5 349.5,-928.5 349.5,-928.5 349.5,-884.5 349.5,-884.5 349.5,-878.5 355.5,-872.5 361.5,-872.5 361.5,-872.5 457.5,-872.5 457.5,-872.5 463.5,-872.5 469.5,-878.5 469.5,-884.5 469.5,-884.5 469.5,-928.5 469.5,-928.5 469.5,-934.5 463.5,-940.5 457.5,-940.5\"/>\n",
       "<text text-anchor=\"start\" x=\"357.5\" y=\"-925.3\" font-family=\"Helvetica,sans-Serif\" font-size=\"14.00\">tempeature ≤ 4.3</text>\n",
       "<text text-anchor=\"start\" x=\"371.5\" y=\"-910.3\" font-family=\"Helvetica,sans-Serif\" font-size=\"14.00\">mse = 0.201</text>\n",
       "<text text-anchor=\"start\" x=\"368.5\" y=\"-895.3\" font-family=\"Helvetica,sans-Serif\" font-size=\"14.00\">samples = 60</text>\n",
       "<text text-anchor=\"start\" x=\"364.5\" y=\"-880.3\" font-family=\"Helvetica,sans-Serif\" font-size=\"14.00\">value = 30.342</text>\n",
       "</g>\n",
       "<!-- 1&#45;&gt;2 -->\n",
       "<g id=\"edge2\" class=\"edge\"><title>1&#45;&gt;2</title>\n",
       "<path fill=\"none\" stroke=\"black\" d=\"M267.407,-734.517C296.641,-770.151 342.599,-826.171 374.068,-864.529\"/>\n",
       "<polygon fill=\"black\" stroke=\"black\" points=\"371.503,-866.921 380.552,-872.433 376.915,-862.482 371.503,-866.921\"/>\n",
       "</g>\n",
       "<!-- 9 -->\n",
       "<g id=\"node10\" class=\"node\"><title>9</title>\n",
       "<path fill=\"#e58139\" fill-opacity=\"0.266667\" stroke=\"black\" d=\"M461.5,-734.5C461.5,-734.5 357.5,-734.5 357.5,-734.5 351.5,-734.5 345.5,-728.5 345.5,-722.5 345.5,-722.5 345.5,-678.5 345.5,-678.5 345.5,-672.5 351.5,-666.5 357.5,-666.5 357.5,-666.5 461.5,-666.5 461.5,-666.5 467.5,-666.5 473.5,-672.5 473.5,-678.5 473.5,-678.5 473.5,-722.5 473.5,-722.5 473.5,-728.5 467.5,-734.5 461.5,-734.5\"/>\n",
       "<text text-anchor=\"start\" x=\"353.5\" y=\"-719.3\" font-family=\"Helvetica,sans-Serif\" font-size=\"14.00\">tempeature ≤ 7.75</text>\n",
       "<text text-anchor=\"start\" x=\"367.5\" y=\"-704.3\" font-family=\"Helvetica,sans-Serif\" font-size=\"14.00\">mse = 96.993</text>\n",
       "<text text-anchor=\"start\" x=\"364.5\" y=\"-689.3\" font-family=\"Helvetica,sans-Serif\" font-size=\"14.00\">samples = 128</text>\n",
       "<text text-anchor=\"start\" x=\"364.5\" y=\"-674.3\" font-family=\"Helvetica,sans-Serif\" font-size=\"14.00\">value = 36.802</text>\n",
       "</g>\n",
       "<!-- 1&#45;&gt;9 -->\n",
       "<g id=\"edge9\" class=\"edge\"><title>1&#45;&gt;9</title>\n",
       "<path fill=\"none\" stroke=\"black\" d=\"M302.91,-700.5C313.415,-700.5 324.384,-700.5 335.11,-700.5\"/>\n",
       "<polygon fill=\"black\" stroke=\"black\" points=\"335.297,-704 345.297,-700.5 335.296,-697 335.297,-704\"/>\n",
       "</g>\n",
       "<!-- 3 -->\n",
       "<g id=\"node4\" class=\"node\"><title>3</title>\n",
       "<path fill=\"#e58139\" fill-opacity=\"0.003922\" stroke=\"black\" d=\"M628.5,-1054.5C628.5,-1054.5 532.5,-1054.5 532.5,-1054.5 526.5,-1054.5 520.5,-1048.5 520.5,-1042.5 520.5,-1042.5 520.5,-998.5 520.5,-998.5 520.5,-992.5 526.5,-986.5 532.5,-986.5 532.5,-986.5 628.5,-986.5 628.5,-986.5 634.5,-986.5 640.5,-992.5 640.5,-998.5 640.5,-998.5 640.5,-1042.5 640.5,-1042.5 640.5,-1048.5 634.5,-1054.5 628.5,-1054.5\"/>\n",
       "<text text-anchor=\"start\" x=\"528.5\" y=\"-1039.3\" font-family=\"Helvetica,sans-Serif\" font-size=\"14.00\">tempeature ≤ 3.4</text>\n",
       "<text text-anchor=\"start\" x=\"546\" y=\"-1024.3\" font-family=\"Helvetica,sans-Serif\" font-size=\"14.00\">mse = 0.12</text>\n",
       "<text text-anchor=\"start\" x=\"543\" y=\"-1009.3\" font-family=\"Helvetica,sans-Serif\" font-size=\"14.00\">samples = 8</text>\n",
       "<text text-anchor=\"start\" x=\"535.5\" y=\"-994.3\" font-family=\"Helvetica,sans-Serif\" font-size=\"14.00\">value = 29.938</text>\n",
       "</g>\n",
       "<!-- 2&#45;&gt;3 -->\n",
       "<g id=\"edge3\" class=\"edge\"><title>2&#45;&gt;3</title>\n",
       "<path fill=\"none\" stroke=\"black\" d=\"M461.206,-940.704C479.838,-953.272 501.095,-967.612 520.402,-980.635\"/>\n",
       "<polygon fill=\"black\" stroke=\"black\" points=\"518.583,-983.63 528.83,-986.32 522.497,-977.827 518.583,-983.63\"/>\n",
       "</g>\n",
       "<!-- 6 -->\n",
       "<g id=\"node7\" class=\"node\"><title>6</title>\n",
       "<path fill=\"#e58139\" fill-opacity=\"0.019608\" stroke=\"black\" d=\"M628.5,-940.5C628.5,-940.5 532.5,-940.5 532.5,-940.5 526.5,-940.5 520.5,-934.5 520.5,-928.5 520.5,-928.5 520.5,-884.5 520.5,-884.5 520.5,-878.5 526.5,-872.5 532.5,-872.5 532.5,-872.5 628.5,-872.5 628.5,-872.5 634.5,-872.5 640.5,-878.5 640.5,-884.5 640.5,-884.5 640.5,-928.5 640.5,-928.5 640.5,-934.5 634.5,-940.5 628.5,-940.5\"/>\n",
       "<text text-anchor=\"start\" x=\"528.5\" y=\"-925.3\" font-family=\"Helvetica,sans-Serif\" font-size=\"14.00\">tempeature ≤ 6.6</text>\n",
       "<text text-anchor=\"start\" x=\"542.5\" y=\"-910.3\" font-family=\"Helvetica,sans-Serif\" font-size=\"14.00\">mse = 0.185</text>\n",
       "<text text-anchor=\"start\" x=\"539.5\" y=\"-895.3\" font-family=\"Helvetica,sans-Serif\" font-size=\"14.00\">samples = 52</text>\n",
       "<text text-anchor=\"start\" x=\"535.5\" y=\"-880.3\" font-family=\"Helvetica,sans-Serif\" font-size=\"14.00\">value = 30.404</text>\n",
       "</g>\n",
       "<!-- 2&#45;&gt;6 -->\n",
       "<g id=\"edge6\" class=\"edge\"><title>2&#45;&gt;6</title>\n",
       "<path fill=\"none\" stroke=\"black\" d=\"M469.608,-906.5C482.73,-906.5 496.753,-906.5 510.24,-906.5\"/>\n",
       "<polygon fill=\"black\" stroke=\"black\" points=\"510.425,-910 520.425,-906.5 510.425,-903 510.425,-910\"/>\n",
       "</g>\n",
       "<!-- 4 -->\n",
       "<g id=\"node5\" class=\"node\"><title>4</title>\n",
       "<path fill=\"none\" stroke=\"black\" d=\"M781.5,-1118C781.5,-1118 699.5,-1118 699.5,-1118 693.5,-1118 687.5,-1112 687.5,-1106 687.5,-1106 687.5,-1077 687.5,-1077 687.5,-1071 693.5,-1065 699.5,-1065 699.5,-1065 781.5,-1065 781.5,-1065 787.5,-1065 793.5,-1071 793.5,-1077 793.5,-1077 793.5,-1106 793.5,-1106 793.5,-1112 787.5,-1118 781.5,-1118\"/>\n",
       "<text text-anchor=\"start\" x=\"702.5\" y=\"-1102.8\" font-family=\"Helvetica,sans-Serif\" font-size=\"14.00\">mse = 0.017</text>\n",
       "<text text-anchor=\"start\" x=\"703\" y=\"-1087.8\" font-family=\"Helvetica,sans-Serif\" font-size=\"14.00\">samples = 4</text>\n",
       "<text text-anchor=\"start\" x=\"695.5\" y=\"-1072.8\" font-family=\"Helvetica,sans-Serif\" font-size=\"14.00\">value = 29.875</text>\n",
       "</g>\n",
       "<!-- 3&#45;&gt;4 -->\n",
       "<g id=\"edge4\" class=\"edge\"><title>3&#45;&gt;4</title>\n",
       "<path fill=\"none\" stroke=\"black\" d=\"M640.783,-1047.14C652.994,-1052.63 665.877,-1058.42 678.159,-1063.94\"/>\n",
       "<polygon fill=\"black\" stroke=\"black\" points=\"676.857,-1067.19 687.413,-1068.09 679.727,-1060.8 676.857,-1067.19\"/>\n",
       "</g>\n",
       "<!-- 5 -->\n",
       "<g id=\"node6\" class=\"node\"><title>5</title>\n",
       "<path fill=\"#e58139\" fill-opacity=\"0.003922\" stroke=\"black\" d=\"M774.5,-1047C774.5,-1047 706.5,-1047 706.5,-1047 700.5,-1047 694.5,-1041 694.5,-1035 694.5,-1035 694.5,-1006 694.5,-1006 694.5,-1000 700.5,-994 706.5,-994 706.5,-994 774.5,-994 774.5,-994 780.5,-994 786.5,-1000 786.5,-1006 786.5,-1006 786.5,-1035 786.5,-1035 786.5,-1041 780.5,-1047 774.5,-1047\"/>\n",
       "<text text-anchor=\"start\" x=\"702.5\" y=\"-1031.8\" font-family=\"Helvetica,sans-Serif\" font-size=\"14.00\">mse = 0.215</text>\n",
       "<text text-anchor=\"start\" x=\"703\" y=\"-1016.8\" font-family=\"Helvetica,sans-Serif\" font-size=\"14.00\">samples = 4</text>\n",
       "<text text-anchor=\"start\" x=\"703\" y=\"-1001.8\" font-family=\"Helvetica,sans-Serif\" font-size=\"14.00\">value = 30.0</text>\n",
       "</g>\n",
       "<!-- 3&#45;&gt;5 -->\n",
       "<g id=\"edge5\" class=\"edge\"><title>3&#45;&gt;5</title>\n",
       "<path fill=\"none\" stroke=\"black\" d=\"M640.783,-1020.5C655.016,-1020.5 670.162,-1020.5 684.206,-1020.5\"/>\n",
       "<polygon fill=\"black\" stroke=\"black\" points=\"684.209,-1024 694.209,-1020.5 684.209,-1017 684.209,-1024\"/>\n",
       "</g>\n",
       "<!-- 7 -->\n",
       "<g id=\"node8\" class=\"node\"><title>7</title>\n",
       "<path fill=\"#e58139\" fill-opacity=\"0.019608\" stroke=\"black\" d=\"M781.5,-976C781.5,-976 699.5,-976 699.5,-976 693.5,-976 687.5,-970 687.5,-964 687.5,-964 687.5,-935 687.5,-935 687.5,-929 693.5,-923 699.5,-923 699.5,-923 781.5,-923 781.5,-923 787.5,-923 793.5,-929 793.5,-935 793.5,-935 793.5,-964 793.5,-964 793.5,-970 787.5,-976 781.5,-976\"/>\n",
       "<text text-anchor=\"start\" x=\"702.5\" y=\"-960.8\" font-family=\"Helvetica,sans-Serif\" font-size=\"14.00\">mse = 0.198</text>\n",
       "<text text-anchor=\"start\" x=\"699.5\" y=\"-945.8\" font-family=\"Helvetica,sans-Serif\" font-size=\"14.00\">samples = 44</text>\n",
       "<text text-anchor=\"start\" x=\"695.5\" y=\"-930.8\" font-family=\"Helvetica,sans-Serif\" font-size=\"14.00\">value = 30.364</text>\n",
       "</g>\n",
       "<!-- 6&#45;&gt;7 -->\n",
       "<g id=\"edge7\" class=\"edge\"><title>6&#45;&gt;7</title>\n",
       "<path fill=\"none\" stroke=\"black\" d=\"M640.783,-922.634C652.755,-925.892 665.372,-929.326 677.436,-932.609\"/>\n",
       "<polygon fill=\"black\" stroke=\"black\" points=\"676.845,-936.076 687.413,-935.325 678.684,-929.321 676.845,-936.076\"/>\n",
       "</g>\n",
       "<!-- 8 -->\n",
       "<g id=\"node9\" class=\"node\"><title>8</title>\n",
       "<path fill=\"#e58139\" fill-opacity=\"0.027451\" stroke=\"black\" d=\"M781.5,-905C781.5,-905 699.5,-905 699.5,-905 693.5,-905 687.5,-899 687.5,-893 687.5,-893 687.5,-864 687.5,-864 687.5,-858 693.5,-852 699.5,-852 699.5,-852 781.5,-852 781.5,-852 787.5,-852 793.5,-858 793.5,-864 793.5,-864 793.5,-893 793.5,-893 793.5,-899 787.5,-905 781.5,-905\"/>\n",
       "<text text-anchor=\"start\" x=\"702.5\" y=\"-889.8\" font-family=\"Helvetica,sans-Serif\" font-size=\"14.00\">mse = 0.054</text>\n",
       "<text text-anchor=\"start\" x=\"703\" y=\"-874.8\" font-family=\"Helvetica,sans-Serif\" font-size=\"14.00\">samples = 8</text>\n",
       "<text text-anchor=\"start\" x=\"695.5\" y=\"-859.8\" font-family=\"Helvetica,sans-Serif\" font-size=\"14.00\">value = 30.625</text>\n",
       "</g>\n",
       "<!-- 6&#45;&gt;8 -->\n",
       "<g id=\"edge8\" class=\"edge\"><title>6&#45;&gt;8</title>\n",
       "<path fill=\"none\" stroke=\"black\" d=\"M640.783,-895.994C652.755,-893.873 665.372,-891.637 677.436,-889.499\"/>\n",
       "<polygon fill=\"black\" stroke=\"black\" points=\"678.178,-892.922 687.413,-887.731 676.956,-886.029 678.178,-892.922\"/>\n",
       "</g>\n",
       "<!-- 10 -->\n",
       "<g id=\"node11\" class=\"node\"><title>10</title>\n",
       "<path fill=\"#e58139\" fill-opacity=\"0.400000\" stroke=\"black\" d=\"M632.5,-777.5C632.5,-777.5 528.5,-777.5 528.5,-777.5 522.5,-777.5 516.5,-771.5 516.5,-765.5 516.5,-765.5 516.5,-721.5 516.5,-721.5 516.5,-715.5 522.5,-709.5 528.5,-709.5 528.5,-709.5 632.5,-709.5 632.5,-709.5 638.5,-709.5 644.5,-715.5 644.5,-721.5 644.5,-721.5 644.5,-765.5 644.5,-765.5 644.5,-771.5 638.5,-777.5 632.5,-777.5\"/>\n",
       "<text text-anchor=\"start\" x=\"524.5\" y=\"-762.3\" font-family=\"Helvetica,sans-Serif\" font-size=\"14.00\">tempeature ≤ 7.65</text>\n",
       "<text text-anchor=\"start\" x=\"542.5\" y=\"-747.3\" font-family=\"Helvetica,sans-Serif\" font-size=\"14.00\">mse = 108.5</text>\n",
       "<text text-anchor=\"start\" x=\"539.5\" y=\"-732.3\" font-family=\"Helvetica,sans-Serif\" font-size=\"14.00\">samples = 44</text>\n",
       "<text text-anchor=\"start\" x=\"535.5\" y=\"-717.3\" font-family=\"Helvetica,sans-Serif\" font-size=\"14.00\">value = 40.323</text>\n",
       "</g>\n",
       "<!-- 9&#45;&gt;10 -->\n",
       "<g id=\"edge10\" class=\"edge\"><title>9&#45;&gt;10</title>\n",
       "<path fill=\"none\" stroke=\"black\" d=\"M473.91,-716.634C484.523,-719.334 495.61,-722.155 506.442,-724.911\"/>\n",
       "<polygon fill=\"black\" stroke=\"black\" points=\"505.742,-728.345 516.297,-727.419 507.468,-721.561 505.742,-728.345\"/>\n",
       "</g>\n",
       "<!-- 13 -->\n",
       "<g id=\"node14\" class=\"node\"><title>13</title>\n",
       "<path fill=\"#e58139\" fill-opacity=\"0.196078\" stroke=\"black\" d=\"M628.5,-691.5C628.5,-691.5 532.5,-691.5 532.5,-691.5 526.5,-691.5 520.5,-685.5 520.5,-679.5 520.5,-679.5 520.5,-635.5 520.5,-635.5 520.5,-629.5 526.5,-623.5 532.5,-623.5 532.5,-623.5 628.5,-623.5 628.5,-623.5 634.5,-623.5 640.5,-629.5 640.5,-635.5 640.5,-635.5 640.5,-679.5 640.5,-679.5 640.5,-685.5 634.5,-691.5 628.5,-691.5\"/>\n",
       "<text text-anchor=\"start\" x=\"528.5\" y=\"-676.3\" font-family=\"Helvetica,sans-Serif\" font-size=\"14.00\">tempeature ≤ 8.8</text>\n",
       "<text text-anchor=\"start\" x=\"538.5\" y=\"-661.3\" font-family=\"Helvetica,sans-Serif\" font-size=\"14.00\">mse = 81.074</text>\n",
       "<text text-anchor=\"start\" x=\"539.5\" y=\"-646.3\" font-family=\"Helvetica,sans-Serif\" font-size=\"14.00\">samples = 84</text>\n",
       "<text text-anchor=\"start\" x=\"535.5\" y=\"-631.3\" font-family=\"Helvetica,sans-Serif\" font-size=\"14.00\">value = 34.958</text>\n",
       "</g>\n",
       "<!-- 9&#45;&gt;13 -->\n",
       "<g id=\"edge13\" class=\"edge\"><title>9&#45;&gt;13</title>\n",
       "<path fill=\"none\" stroke=\"black\" d=\"M473.91,-684.366C485.837,-681.331 498.363,-678.144 510.453,-675.068\"/>\n",
       "<polygon fill=\"black\" stroke=\"black\" points=\"511.654,-678.374 520.482,-672.516 509.928,-671.59 511.654,-678.374\"/>\n",
       "</g>\n",
       "<!-- 11 -->\n",
       "<g id=\"node12\" class=\"node\"><title>11</title>\n",
       "<path fill=\"#e58139\" fill-opacity=\"0.341176\" stroke=\"black\" d=\"M781.5,-834C781.5,-834 699.5,-834 699.5,-834 693.5,-834 687.5,-828 687.5,-822 687.5,-822 687.5,-793 687.5,-793 687.5,-787 693.5,-781 699.5,-781 699.5,-781 781.5,-781 781.5,-781 787.5,-781 793.5,-787 793.5,-793 793.5,-793 793.5,-822 793.5,-822 793.5,-828 787.5,-834 781.5,-834\"/>\n",
       "<text text-anchor=\"start\" x=\"702.5\" y=\"-818.8\" font-family=\"Helvetica,sans-Serif\" font-size=\"14.00\">mse = 92.14</text>\n",
       "<text text-anchor=\"start\" x=\"699.5\" y=\"-803.8\" font-family=\"Helvetica,sans-Serif\" font-size=\"14.00\">samples = 40</text>\n",
       "<text text-anchor=\"start\" x=\"695.5\" y=\"-788.8\" font-family=\"Helvetica,sans-Serif\" font-size=\"14.00\">value = 38.755</text>\n",
       "</g>\n",
       "<!-- 10&#45;&gt;11 -->\n",
       "<g id=\"edge11\" class=\"edge\"><title>10&#45;&gt;11</title>\n",
       "<path fill=\"none\" stroke=\"black\" d=\"M644.854,-769.162C655.744,-773.574 667.047,-778.152 677.891,-782.544\"/>\n",
       "<polygon fill=\"black\" stroke=\"black\" points=\"676.697,-785.837 687.279,-786.347 679.325,-779.349 676.697,-785.837\"/>\n",
       "</g>\n",
       "<!-- 12 -->\n",
       "<g id=\"node13\" class=\"node\"><title>12</title>\n",
       "<path fill=\"#e58139\" stroke=\"black\" d=\"M774.5,-763C774.5,-763 706.5,-763 706.5,-763 700.5,-763 694.5,-757 694.5,-751 694.5,-751 694.5,-722 694.5,-722 694.5,-716 700.5,-710 706.5,-710 706.5,-710 774.5,-710 774.5,-710 780.5,-710 786.5,-716 786.5,-722 786.5,-722 786.5,-751 786.5,-751 786.5,-757 780.5,-763 774.5,-763\"/>\n",
       "<text text-anchor=\"start\" x=\"702.5\" y=\"-747.8\" font-family=\"Helvetica,sans-Serif\" font-size=\"14.00\">mse = 1.745</text>\n",
       "<text text-anchor=\"start\" x=\"703\" y=\"-732.8\" font-family=\"Helvetica,sans-Serif\" font-size=\"14.00\">samples = 4</text>\n",
       "<text text-anchor=\"start\" x=\"703\" y=\"-717.8\" font-family=\"Helvetica,sans-Serif\" font-size=\"14.00\">value = 56.0</text>\n",
       "</g>\n",
       "<!-- 10&#45;&gt;12 -->\n",
       "<g id=\"edge12\" class=\"edge\"><title>10&#45;&gt;12</title>\n",
       "<path fill=\"none\" stroke=\"black\" d=\"M644.854,-740.693C657.732,-740.123 671.188,-739.526 683.778,-738.969\"/>\n",
       "<polygon fill=\"black\" stroke=\"black\" points=\"684.282,-742.45 694.118,-738.511 683.973,-735.457 684.282,-742.45\"/>\n",
       "</g>\n",
       "<!-- 14 -->\n",
       "<g id=\"node15\" class=\"node\"><title>14</title>\n",
       "<path fill=\"#e58139\" fill-opacity=\"0.062745\" stroke=\"black\" d=\"M777.5,-692C777.5,-692 703.5,-692 703.5,-692 697.5,-692 691.5,-686 691.5,-680 691.5,-680 691.5,-651 691.5,-651 691.5,-645 697.5,-639 703.5,-639 703.5,-639 777.5,-639 777.5,-639 783.5,-639 789.5,-645 789.5,-651 789.5,-651 789.5,-680 789.5,-680 789.5,-686 783.5,-692 777.5,-692\"/>\n",
       "<text text-anchor=\"start\" x=\"702.5\" y=\"-676.8\" font-family=\"Helvetica,sans-Serif\" font-size=\"14.00\">mse = 4.065</text>\n",
       "<text text-anchor=\"start\" x=\"699.5\" y=\"-661.8\" font-family=\"Helvetica,sans-Serif\" font-size=\"14.00\">samples = 36</text>\n",
       "<text text-anchor=\"start\" x=\"703\" y=\"-646.8\" font-family=\"Helvetica,sans-Serif\" font-size=\"14.00\">value = 31.5</text>\n",
       "</g>\n",
       "<!-- 13&#45;&gt;14 -->\n",
       "<g id=\"edge14\" class=\"edge\"><title>13&#45;&gt;14</title>\n",
       "<path fill=\"none\" stroke=\"black\" d=\"M640.783,-660.502C653.98,-661.17 667.961,-661.878 681.121,-662.544\"/>\n",
       "<polygon fill=\"black\" stroke=\"black\" points=\"681.305,-666.058 691.469,-663.068 681.659,-659.067 681.305,-666.058\"/>\n",
       "</g>\n",
       "<!-- 15 -->\n",
       "<g id=\"node16\" class=\"node\"><title>15</title>\n",
       "<path fill=\"#e58139\" fill-opacity=\"0.294118\" stroke=\"black\" d=\"M782,-621C782,-621 699,-621 699,-621 693,-621 687,-615 687,-609 687,-609 687,-580 687,-580 687,-574 693,-568 699,-568 699,-568 782,-568 782,-568 788,-568 794,-574 794,-580 794,-580 794,-609 794,-609 794,-615 788,-621 782,-621\"/>\n",
       "<text text-anchor=\"start\" x=\"695\" y=\"-605.8\" font-family=\"Helvetica,sans-Serif\" font-size=\"14.00\">mse = 123.132</text>\n",
       "<text text-anchor=\"start\" x=\"699.5\" y=\"-590.8\" font-family=\"Helvetica,sans-Serif\" font-size=\"14.00\">samples = 48</text>\n",
       "<text text-anchor=\"start\" x=\"695.5\" y=\"-575.8\" font-family=\"Helvetica,sans-Serif\" font-size=\"14.00\">value = 37.552</text>\n",
       "</g>\n",
       "<!-- 13&#45;&gt;15 -->\n",
       "<g id=\"edge15\" class=\"edge\"><title>13&#45;&gt;15</title>\n",
       "<path fill=\"none\" stroke=\"black\" d=\"M640.783,-633.862C652.736,-629.096 665.333,-624.073 677.38,-619.269\"/>\n",
       "<polygon fill=\"black\" stroke=\"black\" points=\"678.909,-622.428 686.901,-615.473 676.316,-615.926 678.909,-622.428\"/>\n",
       "</g>\n",
       "<!-- 17 -->\n",
       "<g id=\"node18\" class=\"node\"><title>17</title>\n",
       "<path fill=\"#e58139\" fill-opacity=\"0.443137\" stroke=\"black\" d=\"M465,-451.5C465,-451.5 354,-451.5 354,-451.5 348,-451.5 342,-445.5 342,-439.5 342,-439.5 342,-395.5 342,-395.5 342,-389.5 348,-383.5 354,-383.5 354,-383.5 465,-383.5 465,-383.5 471,-383.5 477,-389.5 477,-395.5 477,-395.5 477,-439.5 477,-439.5 477,-445.5 471,-451.5 465,-451.5\"/>\n",
       "<text text-anchor=\"start\" x=\"350\" y=\"-436.3\" font-family=\"Helvetica,sans-Serif\" font-size=\"14.00\">tempeature ≤ 25.75</text>\n",
       "<text text-anchor=\"start\" x=\"364\" y=\"-421.3\" font-family=\"Helvetica,sans-Serif\" font-size=\"14.00\">mse = 143.617</text>\n",
       "<text text-anchor=\"start\" x=\"361\" y=\"-406.3\" font-family=\"Helvetica,sans-Serif\" font-size=\"14.00\">samples = 1272</text>\n",
       "<text text-anchor=\"start\" x=\"364.5\" y=\"-391.3\" font-family=\"Helvetica,sans-Serif\" font-size=\"14.00\">value = 41.439</text>\n",
       "</g>\n",
       "<!-- 16&#45;&gt;17 -->\n",
       "<g id=\"edge17\" class=\"edge\"><title>16&#45;&gt;17</title>\n",
       "<path fill=\"none\" stroke=\"black\" d=\"M306.293,-417.5C314.624,-417.5 323.194,-417.5 331.661,-417.5\"/>\n",
       "<polygon fill=\"black\" stroke=\"black\" points=\"331.915,-421 341.915,-417.5 331.915,-414 331.915,-421\"/>\n",
       "</g>\n",
       "<!-- 24 -->\n",
       "<g id=\"node25\" class=\"node\"><title>24</title>\n",
       "<path fill=\"#e58139\" fill-opacity=\"0.560784\" stroke=\"black\" d=\"M465,-245.5C465,-245.5 354,-245.5 354,-245.5 348,-245.5 342,-239.5 342,-233.5 342,-233.5 342,-189.5 342,-189.5 342,-183.5 348,-177.5 354,-177.5 354,-177.5 465,-177.5 465,-177.5 471,-177.5 477,-183.5 477,-189.5 477,-189.5 477,-233.5 477,-233.5 477,-239.5 471,-245.5 465,-245.5\"/>\n",
       "<text text-anchor=\"start\" x=\"350\" y=\"-230.3\" font-family=\"Helvetica,sans-Serif\" font-size=\"14.00\">tempeature ≤ 39.15</text>\n",
       "<text text-anchor=\"start\" x=\"364\" y=\"-215.3\" font-family=\"Helvetica,sans-Serif\" font-size=\"14.00\">mse = 146.842</text>\n",
       "<text text-anchor=\"start\" x=\"361\" y=\"-200.3\" font-family=\"Helvetica,sans-Serif\" font-size=\"14.00\">samples = 1516</text>\n",
       "<text text-anchor=\"start\" x=\"364.5\" y=\"-185.3\" font-family=\"Helvetica,sans-Serif\" font-size=\"14.00\">value = 44.529</text>\n",
       "</g>\n",
       "<!-- 16&#45;&gt;24 -->\n",
       "<g id=\"edge24\" class=\"edge\"><title>16&#45;&gt;24</title>\n",
       "<path fill=\"none\" stroke=\"black\" d=\"M267.407,-383.483C296.641,-347.849 342.599,-291.829 374.068,-253.471\"/>\n",
       "<polygon fill=\"black\" stroke=\"black\" points=\"376.915,-255.518 380.552,-245.567 371.503,-251.079 376.915,-255.518\"/>\n",
       "</g>\n",
       "<!-- 18 -->\n",
       "<g id=\"node19\" class=\"node\"><title>18</title>\n",
       "<path fill=\"#e58139\" fill-opacity=\"0.552941\" stroke=\"black\" d=\"M636,-494.5C636,-494.5 525,-494.5 525,-494.5 519,-494.5 513,-488.5 513,-482.5 513,-482.5 513,-438.5 513,-438.5 513,-432.5 519,-426.5 525,-426.5 525,-426.5 636,-426.5 636,-426.5 642,-426.5 648,-432.5 648,-438.5 648,-438.5 648,-482.5 648,-482.5 648,-488.5 642,-494.5 636,-494.5\"/>\n",
       "<text text-anchor=\"start\" x=\"521\" y=\"-479.3\" font-family=\"Helvetica,sans-Serif\" font-size=\"14.00\">tempeature ≤ 14.45</text>\n",
       "<text text-anchor=\"start\" x=\"535\" y=\"-464.3\" font-family=\"Helvetica,sans-Serif\" font-size=\"14.00\">mse = 140.286</text>\n",
       "<text text-anchor=\"start\" x=\"535.5\" y=\"-449.3\" font-family=\"Helvetica,sans-Serif\" font-size=\"14.00\">samples = 408</text>\n",
       "<text text-anchor=\"start\" x=\"535.5\" y=\"-434.3\" font-family=\"Helvetica,sans-Serif\" font-size=\"14.00\">value = 44.345</text>\n",
       "</g>\n",
       "<!-- 17&#45;&gt;18 -->\n",
       "<g id=\"edge18\" class=\"edge\"><title>17&#45;&gt;18</title>\n",
       "<path fill=\"none\" stroke=\"black\" d=\"M477.293,-434.495C485.807,-436.661 494.571,-438.891 503.22,-441.091\"/>\n",
       "<polygon fill=\"black\" stroke=\"black\" points=\"502.361,-444.484 512.915,-443.558 504.087,-437.7 502.361,-444.484\"/>\n",
       "</g>\n",
       "<!-- 21 -->\n",
       "<g id=\"node22\" class=\"node\"><title>21</title>\n",
       "<path fill=\"#e58139\" fill-opacity=\"0.388235\" stroke=\"black\" d=\"M636,-408.5C636,-408.5 525,-408.5 525,-408.5 519,-408.5 513,-402.5 513,-396.5 513,-396.5 513,-352.5 513,-352.5 513,-346.5 519,-340.5 525,-340.5 525,-340.5 636,-340.5 636,-340.5 642,-340.5 648,-346.5 648,-352.5 648,-352.5 648,-396.5 648,-396.5 648,-402.5 642,-408.5 636,-408.5\"/>\n",
       "<text text-anchor=\"start\" x=\"521\" y=\"-393.3\" font-family=\"Helvetica,sans-Serif\" font-size=\"14.00\">tempeature ≤ 26.55</text>\n",
       "<text text-anchor=\"start\" x=\"535\" y=\"-378.3\" font-family=\"Helvetica,sans-Serif\" font-size=\"14.00\">mse = 139.321</text>\n",
       "<text text-anchor=\"start\" x=\"535.5\" y=\"-363.3\" font-family=\"Helvetica,sans-Serif\" font-size=\"14.00\">samples = 864</text>\n",
       "<text text-anchor=\"start\" x=\"535.5\" y=\"-348.3\" font-family=\"Helvetica,sans-Serif\" font-size=\"14.00\">value = 40.067</text>\n",
       "</g>\n",
       "<!-- 17&#45;&gt;21 -->\n",
       "<g id=\"edge21\" class=\"edge\"><title>17&#45;&gt;21</title>\n",
       "<path fill=\"none\" stroke=\"black\" d=\"M477.293,-400.505C485.807,-398.339 494.571,-396.109 503.22,-393.909\"/>\n",
       "<polygon fill=\"black\" stroke=\"black\" points=\"504.087,-397.3 512.915,-391.442 502.361,-390.516 504.087,-397.3\"/>\n",
       "</g>\n",
       "<!-- 19 -->\n",
       "<g id=\"node20\" class=\"node\"><title>19</title>\n",
       "<path fill=\"#e58139\" fill-opacity=\"0.400000\" stroke=\"black\" d=\"M782,-550C782,-550 699,-550 699,-550 693,-550 687,-544 687,-538 687,-538 687,-509 687,-509 687,-503 693,-497 699,-497 699,-497 782,-497 782,-497 788,-497 794,-503 794,-509 794,-509 794,-538 794,-538 794,-544 788,-550 782,-550\"/>\n",
       "<text text-anchor=\"start\" x=\"695\" y=\"-534.8\" font-family=\"Helvetica,sans-Serif\" font-size=\"14.00\">mse = 136.761</text>\n",
       "<text text-anchor=\"start\" x=\"695.5\" y=\"-519.8\" font-family=\"Helvetica,sans-Serif\" font-size=\"14.00\">samples = 120</text>\n",
       "<text text-anchor=\"start\" x=\"695.5\" y=\"-504.8\" font-family=\"Helvetica,sans-Serif\" font-size=\"14.00\">value = 40.294</text>\n",
       "</g>\n",
       "<!-- 18&#45;&gt;19 -->\n",
       "<g id=\"edge19\" class=\"edge\"><title>18&#45;&gt;19</title>\n",
       "<path fill=\"none\" stroke=\"black\" d=\"M648.048,-487.035C657.789,-490.919 667.789,-494.906 677.436,-498.753\"/>\n",
       "<polygon fill=\"black\" stroke=\"black\" points=\"676.356,-502.09 686.941,-502.543 678.949,-495.588 676.356,-502.09\"/>\n",
       "</g>\n",
       "<!-- 20 -->\n",
       "<g id=\"node21\" class=\"node\"><title>20</title>\n",
       "<path fill=\"#e58139\" fill-opacity=\"0.619608\" stroke=\"black\" d=\"M781.5,-479C781.5,-479 699.5,-479 699.5,-479 693.5,-479 687.5,-473 687.5,-467 687.5,-467 687.5,-438 687.5,-438 687.5,-432 693.5,-426 699.5,-426 699.5,-426 781.5,-426 781.5,-426 787.5,-426 793.5,-432 793.5,-438 793.5,-438 793.5,-467 793.5,-467 793.5,-473 787.5,-479 781.5,-479\"/>\n",
       "<text text-anchor=\"start\" x=\"698.5\" y=\"-463.8\" font-family=\"Helvetica,sans-Serif\" font-size=\"14.00\">mse = 132.07</text>\n",
       "<text text-anchor=\"start\" x=\"695.5\" y=\"-448.8\" font-family=\"Helvetica,sans-Serif\" font-size=\"14.00\">samples = 288</text>\n",
       "<text text-anchor=\"start\" x=\"695.5\" y=\"-433.8\" font-family=\"Helvetica,sans-Serif\" font-size=\"14.00\">value = 46.032</text>\n",
       "</g>\n",
       "<!-- 18&#45;&gt;20 -->\n",
       "<g id=\"edge20\" class=\"edge\"><title>18&#45;&gt;20</title>\n",
       "<path fill=\"none\" stroke=\"black\" d=\"M648.048,-457.13C657.71,-456.641 667.627,-456.139 677.201,-455.654\"/>\n",
       "<polygon fill=\"black\" stroke=\"black\" points=\"677.616,-459.138 687.426,-455.137 677.262,-452.147 677.616,-459.138\"/>\n",
       "</g>\n",
       "<!-- 22 -->\n",
       "<g id=\"node23\" class=\"node\"><title>22</title>\n",
       "<path fill=\"#e58139\" fill-opacity=\"0.094118\" stroke=\"black\" d=\"M781.5,-408C781.5,-408 699.5,-408 699.5,-408 693.5,-408 687.5,-402 687.5,-396 687.5,-396 687.5,-367 687.5,-367 687.5,-361 693.5,-355 699.5,-355 699.5,-355 781.5,-355 781.5,-355 787.5,-355 793.5,-361 793.5,-367 793.5,-367 793.5,-396 793.5,-396 793.5,-402 787.5,-408 781.5,-408\"/>\n",
       "<text text-anchor=\"start\" x=\"698.5\" y=\"-392.8\" font-family=\"Helvetica,sans-Serif\" font-size=\"14.00\">mse = 76.976</text>\n",
       "<text text-anchor=\"start\" x=\"699.5\" y=\"-377.8\" font-family=\"Helvetica,sans-Serif\" font-size=\"14.00\">samples = 72</text>\n",
       "<text text-anchor=\"start\" x=\"695.5\" y=\"-362.8\" font-family=\"Helvetica,sans-Serif\" font-size=\"14.00\">value = 32.321</text>\n",
       "</g>\n",
       "<!-- 21&#45;&gt;22 -->\n",
       "<g id=\"edge22\" class=\"edge\"><title>21&#45;&gt;22</title>\n",
       "<path fill=\"none\" stroke=\"black\" d=\"M648.048,-377.448C657.71,-377.876 667.627,-378.316 677.201,-378.74\"/>\n",
       "<polygon fill=\"black\" stroke=\"black\" points=\"677.281,-382.247 687.426,-379.193 677.591,-375.254 677.281,-382.247\"/>\n",
       "</g>\n",
       "<!-- 23 -->\n",
       "<g id=\"node24\" class=\"node\"><title>23</title>\n",
       "<path fill=\"#e58139\" fill-opacity=\"0.415686\" stroke=\"black\" d=\"M782,-337C782,-337 699,-337 699,-337 693,-337 687,-331 687,-325 687,-325 687,-296 687,-296 687,-290 693,-284 699,-284 699,-284 782,-284 782,-284 788,-284 794,-290 794,-296 794,-296 794,-325 794,-325 794,-331 788,-337 782,-337\"/>\n",
       "<text text-anchor=\"start\" x=\"695\" y=\"-321.8\" font-family=\"Helvetica,sans-Serif\" font-size=\"14.00\">mse = 139.037</text>\n",
       "<text text-anchor=\"start\" x=\"695.5\" y=\"-306.8\" font-family=\"Helvetica,sans-Serif\" font-size=\"14.00\">samples = 792</text>\n",
       "<text text-anchor=\"start\" x=\"695.5\" y=\"-291.8\" font-family=\"Helvetica,sans-Serif\" font-size=\"14.00\">value = 40.771</text>\n",
       "</g>\n",
       "<!-- 21&#45;&gt;23 -->\n",
       "<g id=\"edge23\" class=\"edge\"><title>21&#45;&gt;23</title>\n",
       "<path fill=\"none\" stroke=\"black\" d=\"M648.048,-347.544C657.789,-343.598 667.789,-339.547 677.436,-335.64\"/>\n",
       "<polygon fill=\"black\" stroke=\"black\" points=\"678.987,-338.788 686.941,-331.79 676.359,-332.3 678.987,-338.788\"/>\n",
       "</g>\n",
       "<!-- 25 -->\n",
       "<g id=\"node26\" class=\"node\"><title>25</title>\n",
       "<path fill=\"#e58139\" fill-opacity=\"0.737255\" stroke=\"black\" d=\"M632.5,-245.5C632.5,-245.5 528.5,-245.5 528.5,-245.5 522.5,-245.5 516.5,-239.5 516.5,-233.5 516.5,-233.5 516.5,-189.5 516.5,-189.5 516.5,-183.5 522.5,-177.5 528.5,-177.5 528.5,-177.5 632.5,-177.5 632.5,-177.5 638.5,-177.5 644.5,-183.5 644.5,-189.5 644.5,-189.5 644.5,-233.5 644.5,-233.5 644.5,-239.5 638.5,-245.5 632.5,-245.5\"/>\n",
       "<text text-anchor=\"start\" x=\"524.5\" y=\"-230.3\" font-family=\"Helvetica,sans-Serif\" font-size=\"14.00\">tempeature ≤ 37.4</text>\n",
       "<text text-anchor=\"start\" x=\"535\" y=\"-215.3\" font-family=\"Helvetica,sans-Serif\" font-size=\"14.00\">mse = 125.289</text>\n",
       "<text text-anchor=\"start\" x=\"535.5\" y=\"-200.3\" font-family=\"Helvetica,sans-Serif\" font-size=\"14.00\">samples = 372</text>\n",
       "<text text-anchor=\"start\" x=\"535.5\" y=\"-185.3\" font-family=\"Helvetica,sans-Serif\" font-size=\"14.00\">value = 49.145</text>\n",
       "</g>\n",
       "<!-- 24&#45;&gt;25 -->\n",
       "<g id=\"edge25\" class=\"edge\"><title>24&#45;&gt;25</title>\n",
       "<path fill=\"none\" stroke=\"black\" d=\"M477.293,-211.5C486.88,-211.5 496.785,-211.5 506.484,-211.5\"/>\n",
       "<polygon fill=\"black\" stroke=\"black\" points=\"506.496,-215 516.496,-211.5 506.496,-208 506.496,-215\"/>\n",
       "</g>\n",
       "<!-- 28 -->\n",
       "<g id=\"node29\" class=\"node\"><title>28</title>\n",
       "<path fill=\"#e58139\" fill-opacity=\"0.501961\" stroke=\"black\" d=\"M636,-131.5C636,-131.5 525,-131.5 525,-131.5 519,-131.5 513,-125.5 513,-119.5 513,-119.5 513,-75.5 513,-75.5 513,-69.5 519,-63.5 525,-63.5 525,-63.5 636,-63.5 636,-63.5 642,-63.5 648,-69.5 648,-75.5 648,-75.5 648,-119.5 648,-119.5 648,-125.5 642,-131.5 636,-131.5\"/>\n",
       "<text text-anchor=\"start\" x=\"521\" y=\"-116.3\" font-family=\"Helvetica,sans-Serif\" font-size=\"14.00\">tempeature ≤ 40.75</text>\n",
       "<text text-anchor=\"start\" x=\"535\" y=\"-101.3\" font-family=\"Helvetica,sans-Serif\" font-size=\"14.00\">mse = 144.669</text>\n",
       "<text text-anchor=\"start\" x=\"532\" y=\"-86.3\" font-family=\"Helvetica,sans-Serif\" font-size=\"14.00\">samples = 1144</text>\n",
       "<text text-anchor=\"start\" x=\"535.5\" y=\"-71.3\" font-family=\"Helvetica,sans-Serif\" font-size=\"14.00\">value = 43.028</text>\n",
       "</g>\n",
       "<!-- 24&#45;&gt;28 -->\n",
       "<g id=\"edge28\" class=\"edge\"><title>24&#45;&gt;28</title>\n",
       "<path fill=\"none\" stroke=\"black\" d=\"M461.206,-177.296C479.838,-164.728 501.095,-150.388 520.402,-137.365\"/>\n",
       "<polygon fill=\"black\" stroke=\"black\" points=\"522.497,-140.173 528.83,-131.68 518.583,-134.37 522.497,-140.173\"/>\n",
       "</g>\n",
       "<!-- 26 -->\n",
       "<g id=\"node27\" class=\"node\"><title>26</title>\n",
       "<path fill=\"#e58139\" fill-opacity=\"0.701961\" stroke=\"black\" d=\"M782,-266C782,-266 699,-266 699,-266 693,-266 687,-260 687,-254 687,-254 687,-225 687,-225 687,-219 693,-213 699,-213 699,-213 782,-213 782,-213 788,-213 794,-219 794,-225 794,-225 794,-254 794,-254 794,-260 788,-266 782,-266\"/>\n",
       "<text text-anchor=\"start\" x=\"695\" y=\"-250.8\" font-family=\"Helvetica,sans-Serif\" font-size=\"14.00\">mse = 129.916</text>\n",
       "<text text-anchor=\"start\" x=\"695.5\" y=\"-235.8\" font-family=\"Helvetica,sans-Serif\" font-size=\"14.00\">samples = 252</text>\n",
       "<text text-anchor=\"start\" x=\"703\" y=\"-220.8\" font-family=\"Helvetica,sans-Serif\" font-size=\"14.00\">value = 48.2</text>\n",
       "</g>\n",
       "<!-- 25&#45;&gt;26 -->\n",
       "<g id=\"edge26\" class=\"edge\"><title>25&#45;&gt;26</title>\n",
       "<path fill=\"none\" stroke=\"black\" d=\"M644.854,-222.727C655.394,-224.595 666.321,-226.532 676.843,-228.396\"/>\n",
       "<polygon fill=\"black\" stroke=\"black\" points=\"676.325,-231.859 686.782,-230.158 677.546,-224.966 676.325,-231.859\"/>\n",
       "</g>\n",
       "<!-- 27 -->\n",
       "<g id=\"node28\" class=\"node\"><title>27</title>\n",
       "<path fill=\"#e58139\" fill-opacity=\"0.811765\" stroke=\"black\" d=\"M782,-195C782,-195 699,-195 699,-195 693,-195 687,-189 687,-183 687,-183 687,-154 687,-154 687,-148 693,-142 699,-142 699,-142 782,-142 782,-142 788,-142 794,-148 794,-154 794,-154 794,-183 794,-183 794,-189 788,-195 782,-195\"/>\n",
       "<text text-anchor=\"start\" x=\"695\" y=\"-179.8\" font-family=\"Helvetica,sans-Serif\" font-size=\"14.00\">mse = 109.755</text>\n",
       "<text text-anchor=\"start\" x=\"695.5\" y=\"-164.8\" font-family=\"Helvetica,sans-Serif\" font-size=\"14.00\">samples = 120</text>\n",
       "<text text-anchor=\"start\" x=\"699.5\" y=\"-149.8\" font-family=\"Helvetica,sans-Serif\" font-size=\"14.00\">value = 51.13</text>\n",
       "</g>\n",
       "<!-- 25&#45;&gt;27 -->\n",
       "<g id=\"edge27\" class=\"edge\"><title>25&#45;&gt;27</title>\n",
       "<path fill=\"none\" stroke=\"black\" d=\"M644.854,-194.258C655.394,-191.39 666.321,-188.416 676.843,-185.552\"/>\n",
       "<polygon fill=\"black\" stroke=\"black\" points=\"678.052,-188.851 686.782,-182.847 676.214,-182.096 678.052,-188.851\"/>\n",
       "</g>\n",
       "<!-- 29 -->\n",
       "<g id=\"node30\" class=\"node\"><title>29</title>\n",
       "<path fill=\"#e58139\" fill-opacity=\"0.247059\" stroke=\"black\" d=\"M782,-124C782,-124 699,-124 699,-124 693,-124 687,-118 687,-112 687,-112 687,-83 687,-83 687,-77 693,-71 699,-71 699,-71 782,-71 782,-71 788,-71 794,-77 794,-83 794,-83 794,-112 794,-112 794,-118 788,-124 782,-124\"/>\n",
       "<text text-anchor=\"start\" x=\"695\" y=\"-108.8\" font-family=\"Helvetica,sans-Serif\" font-size=\"14.00\">mse = 126.877</text>\n",
       "<text text-anchor=\"start\" x=\"695.5\" y=\"-93.8\" font-family=\"Helvetica,sans-Serif\" font-size=\"14.00\">samples = 132</text>\n",
       "<text text-anchor=\"start\" x=\"695.5\" y=\"-78.8\" font-family=\"Helvetica,sans-Serif\" font-size=\"14.00\">value = 36.323</text>\n",
       "</g>\n",
       "<!-- 28&#45;&gt;29 -->\n",
       "<g id=\"edge29\" class=\"edge\"><title>28&#45;&gt;29</title>\n",
       "<path fill=\"none\" stroke=\"black\" d=\"M648.048,-97.5C657.586,-97.5 667.373,-97.5 676.832,-97.5\"/>\n",
       "<polygon fill=\"black\" stroke=\"black\" points=\"676.941,-101 686.941,-97.5 676.941,-94.0001 676.941,-101\"/>\n",
       "</g>\n",
       "<!-- 30 -->\n",
       "<g id=\"node31\" class=\"node\"><title>30</title>\n",
       "<path fill=\"#e58139\" fill-opacity=\"0.537255\" stroke=\"black\" d=\"M785,-53C785,-53 696,-53 696,-53 690,-53 684,-47 684,-41 684,-41 684,-12 684,-12 684,-6 690,-0 696,-0 696,-0 785,-0 785,-0 791,-0 797,-6 797,-12 797,-12 797,-41 797,-41 797,-47 791,-53 785,-53\"/>\n",
       "<text text-anchor=\"start\" x=\"695\" y=\"-37.8\" font-family=\"Helvetica,sans-Serif\" font-size=\"14.00\">mse = 140.361</text>\n",
       "<text text-anchor=\"start\" x=\"692\" y=\"-22.8\" font-family=\"Helvetica,sans-Serif\" font-size=\"14.00\">samples = 1012</text>\n",
       "<text text-anchor=\"start\" x=\"695.5\" y=\"-7.8\" font-family=\"Helvetica,sans-Serif\" font-size=\"14.00\">value = 43.903</text>\n",
       "</g>\n",
       "<!-- 28&#45;&gt;30 -->\n",
       "<g id=\"edge30\" class=\"edge\"><title>28&#45;&gt;30</title>\n",
       "<path fill=\"none\" stroke=\"black\" d=\"M648.048,-67.5954C656.719,-63.699 665.595,-59.7104 674.245,-55.8236\"/>\n",
       "<polygon fill=\"black\" stroke=\"black\" points=\"675.834,-58.9467 683.521,-51.6553 672.965,-52.5617 675.834,-58.9467\"/>\n",
       "</g>\n",
       "</g>\n",
       "</svg>\n"
      ],
      "text/plain": [
       "<graphviz.files.Source at 0x7f6a52b49e10>"
      ]
     },
     "execution_count": 6,
     "metadata": {},
     "output_type": "execute_result"
    }
   ],
   "source": [
    "import graphviz \n",
    "dot_data = tree.export_graphviz(clf1, out_file=None) \n",
    "graph = graphviz.Source(dot_data) \n",
    "graph.render(\"month\")\n",
    "dot_data = tree.export_graphviz(clf1, out_file=None, \n",
    "                         feature_names=[\"tempeature\"],    \n",
    "                         filled=True, rounded=True,  \n",
    "                         special_characters=True,\n",
    "                               rotate=True)\n",
    "graph = graphviz.Source(dot_data) \n",
    "graph"
   ]
  },
  {
   "cell_type": "code",
   "execution_count": null,
   "metadata": {},
   "outputs": [],
   "source": []
  },
  {
   "cell_type": "markdown",
   "metadata": {},
   "source": [
    "### Interpretation with respect to day"
   ]
  },
  {
   "cell_type": "code",
   "execution_count": 7,
   "metadata": {},
   "outputs": [
    {
     "data": {
      "image/svg+xml": [
       "<?xml version=\"1.0\" encoding=\"UTF-8\" standalone=\"no\"?>\n",
       "<!DOCTYPE svg PUBLIC \"-//W3C//DTD SVG 1.1//EN\"\n",
       " \"http://www.w3.org/Graphics/SVG/1.1/DTD/svg11.dtd\">\n",
       "<!-- Generated by graphviz version 2.38.0 (20140413.2041)\n",
       " -->\n",
       "<!-- Title: Tree Pages: 1 -->\n",
       "<svg width=\"711pt\" height=\"716pt\"\n",
       " viewBox=\"0.00 0.00 711.00 716.00\" xmlns=\"http://www.w3.org/2000/svg\" xmlns:xlink=\"http://www.w3.org/1999/xlink\">\n",
       "<g id=\"graph0\" class=\"graph\" transform=\"scale(1 1) rotate(0) translate(4 712)\">\n",
       "<title>Tree</title>\n",
       "<polygon fill=\"white\" stroke=\"none\" points=\"-4,4 -4,-712 707,-712 707,4 -4,4\"/>\n",
       "<!-- 0 -->\n",
       "<g id=\"node1\" class=\"node\"><title>0</title>\n",
       "<path fill=\"#e58139\" fill-opacity=\"0.560784\" stroke=\"black\" d=\"M101,-387.5C101,-387.5 12,-387.5 12,-387.5 6,-387.5 0,-381.5 0,-375.5 0,-375.5 0,-331.5 0,-331.5 0,-325.5 6,-319.5 12,-319.5 12,-319.5 101,-319.5 101,-319.5 107,-319.5 113,-325.5 113,-331.5 113,-331.5 113,-375.5 113,-375.5 113,-381.5 107,-387.5 101,-387.5\"/>\n",
       "<text text-anchor=\"start\" x=\"24.5\" y=\"-372.3\" font-family=\"Helvetica,sans-Serif\" font-size=\"14.00\">day ≤ 16.5</text>\n",
       "<text text-anchor=\"start\" x=\"14.5\" y=\"-357.3\" font-family=\"Helvetica,sans-Serif\" font-size=\"14.00\">mse = 147.31</text>\n",
       "<text text-anchor=\"start\" x=\"8\" y=\"-342.3\" font-family=\"Helvetica,sans-Serif\" font-size=\"14.00\">samples = 2976</text>\n",
       "<text text-anchor=\"start\" x=\"15.5\" y=\"-327.3\" font-family=\"Helvetica,sans-Serif\" font-size=\"14.00\">value = 42.59</text>\n",
       "</g>\n",
       "<!-- 1 -->\n",
       "<g id=\"node2\" class=\"node\"><title>1</title>\n",
       "<path fill=\"#e58139\" fill-opacity=\"0.392157\" stroke=\"black\" d=\"M250,-518.5C250,-518.5 161,-518.5 161,-518.5 155,-518.5 149,-512.5 149,-506.5 149,-506.5 149,-462.5 149,-462.5 149,-456.5 155,-450.5 161,-450.5 161,-450.5 250,-450.5 250,-450.5 256,-450.5 262,-456.5 262,-462.5 262,-462.5 262,-506.5 262,-506.5 262,-512.5 256,-518.5 250,-518.5\"/>\n",
       "<text text-anchor=\"start\" x=\"177\" y=\"-503.3\" font-family=\"Helvetica,sans-Serif\" font-size=\"14.00\">day ≤ 2.5</text>\n",
       "<text text-anchor=\"start\" x=\"160\" y=\"-488.3\" font-family=\"Helvetica,sans-Serif\" font-size=\"14.00\">mse = 144.662</text>\n",
       "<text text-anchor=\"start\" x=\"157\" y=\"-473.3\" font-family=\"Helvetica,sans-Serif\" font-size=\"14.00\">samples = 1536</text>\n",
       "<text text-anchor=\"start\" x=\"160.5\" y=\"-458.3\" font-family=\"Helvetica,sans-Serif\" font-size=\"14.00\">value = 38.191</text>\n",
       "</g>\n",
       "<!-- 0&#45;&gt;1 -->\n",
       "<g id=\"edge1\" class=\"edge\"><title>0&#45;&gt;1</title>\n",
       "<path fill=\"none\" stroke=\"black\" d=\"M95.7388,-387.577C114.974,-404.718 138.432,-425.623 158.631,-443.624\"/>\n",
       "<polygon fill=\"black\" stroke=\"black\" points=\"156.403,-446.326 166.198,-450.367 161.06,-441.1 156.403,-446.326\"/>\n",
       "<text text-anchor=\"middle\" x=\"141.239\" y=\"-448.103\" font-family=\"Helvetica,sans-Serif\" font-size=\"14.00\">True</text>\n",
       "</g>\n",
       "<!-- 12 -->\n",
       "<g id=\"node13\" class=\"node\"><title>12</title>\n",
       "<path fill=\"#e58139\" fill-opacity=\"0.737255\" stroke=\"black\" d=\"M250,-257.5C250,-257.5 161,-257.5 161,-257.5 155,-257.5 149,-251.5 149,-245.5 149,-245.5 149,-201.5 149,-201.5 149,-195.5 155,-189.5 161,-189.5 161,-189.5 250,-189.5 250,-189.5 256,-189.5 262,-195.5 262,-201.5 262,-201.5 262,-245.5 262,-245.5 262,-251.5 256,-257.5 250,-257.5\"/>\n",
       "<text text-anchor=\"start\" x=\"173.5\" y=\"-242.3\" font-family=\"Helvetica,sans-Serif\" font-size=\"14.00\">day ≤ 29.5</text>\n",
       "<text text-anchor=\"start\" x=\"160\" y=\"-227.3\" font-family=\"Helvetica,sans-Serif\" font-size=\"14.00\">mse = 107.477</text>\n",
       "<text text-anchor=\"start\" x=\"157\" y=\"-212.3\" font-family=\"Helvetica,sans-Serif\" font-size=\"14.00\">samples = 1440</text>\n",
       "<text text-anchor=\"start\" x=\"160.5\" y=\"-197.3\" font-family=\"Helvetica,sans-Serif\" font-size=\"14.00\">value = 47.282</text>\n",
       "</g>\n",
       "<!-- 0&#45;&gt;12 -->\n",
       "<g id=\"edge12\" class=\"edge\"><title>0&#45;&gt;12</title>\n",
       "<path fill=\"none\" stroke=\"black\" d=\"M96.1225,-319.344C115.206,-302.467 138.373,-281.979 158.382,-264.285\"/>\n",
       "<polygon fill=\"black\" stroke=\"black\" points=\"160.708,-266.9 165.88,-257.653 156.071,-261.656 160.708,-266.9\"/>\n",
       "<text text-anchor=\"middle\" x=\"140.927\" y=\"-252.422\" font-family=\"Helvetica,sans-Serif\" font-size=\"14.00\">False</text>\n",
       "</g>\n",
       "<!-- 2 -->\n",
       "<g id=\"node3\" class=\"node\"><title>2</title>\n",
       "<path fill=\"#e58139\" fill-opacity=\"0.007843\" stroke=\"black\" d=\"M395.5,-644.5C395.5,-644.5 313.5,-644.5 313.5,-644.5 307.5,-644.5 301.5,-638.5 301.5,-632.5 301.5,-632.5 301.5,-588.5 301.5,-588.5 301.5,-582.5 307.5,-576.5 313.5,-576.5 313.5,-576.5 395.5,-576.5 395.5,-576.5 401.5,-576.5 407.5,-582.5 407.5,-588.5 407.5,-588.5 407.5,-632.5 407.5,-632.5 407.5,-638.5 401.5,-644.5 395.5,-644.5\"/>\n",
       "<text text-anchor=\"start\" x=\"326\" y=\"-629.3\" font-family=\"Helvetica,sans-Serif\" font-size=\"14.00\">day ≤ 1.5</text>\n",
       "<text text-anchor=\"start\" x=\"316.5\" y=\"-614.3\" font-family=\"Helvetica,sans-Serif\" font-size=\"14.00\">mse = 4.009</text>\n",
       "<text text-anchor=\"start\" x=\"309.5\" y=\"-599.3\" font-family=\"Helvetica,sans-Serif\" font-size=\"14.00\">samples = 192</text>\n",
       "<text text-anchor=\"start\" x=\"309.5\" y=\"-584.3\" font-family=\"Helvetica,sans-Serif\" font-size=\"14.00\">value = 28.108</text>\n",
       "</g>\n",
       "<!-- 1&#45;&gt;2 -->\n",
       "<g id=\"edge2\" class=\"edge\"><title>1&#45;&gt;2</title>\n",
       "<path fill=\"none\" stroke=\"black\" d=\"M246.28,-518.597C264.664,-534.355 286.642,-553.193 305.899,-569.7\"/>\n",
       "<polygon fill=\"black\" stroke=\"black\" points=\"303.818,-572.525 313.688,-576.375 308.373,-567.21 303.818,-572.525\"/>\n",
       "</g>\n",
       "<!-- 5 -->\n",
       "<g id=\"node6\" class=\"node\"><title>5</title>\n",
       "<path fill=\"#e58139\" fill-opacity=\"0.447059\" stroke=\"black\" d=\"M399,-518.5C399,-518.5 310,-518.5 310,-518.5 304,-518.5 298,-512.5 298,-506.5 298,-506.5 298,-462.5 298,-462.5 298,-456.5 304,-450.5 310,-450.5 310,-450.5 399,-450.5 399,-450.5 405,-450.5 411,-456.5 411,-462.5 411,-462.5 411,-506.5 411,-506.5 411,-512.5 405,-518.5 399,-518.5\"/>\n",
       "<text text-anchor=\"start\" x=\"322.5\" y=\"-503.3\" font-family=\"Helvetica,sans-Serif\" font-size=\"14.00\">day ≤ 13.5</text>\n",
       "<text text-anchor=\"start\" x=\"309\" y=\"-488.3\" font-family=\"Helvetica,sans-Serif\" font-size=\"14.00\">mse = 148.158</text>\n",
       "<text text-anchor=\"start\" x=\"306\" y=\"-473.3\" font-family=\"Helvetica,sans-Serif\" font-size=\"14.00\">samples = 1344</text>\n",
       "<text text-anchor=\"start\" x=\"309.5\" y=\"-458.3\" font-family=\"Helvetica,sans-Serif\" font-size=\"14.00\">value = 39.631</text>\n",
       "</g>\n",
       "<!-- 1&#45;&gt;5 -->\n",
       "<g id=\"edge5\" class=\"edge\"><title>1&#45;&gt;5</title>\n",
       "<path fill=\"none\" stroke=\"black\" d=\"M262.074,-484.5C270.489,-484.5 279.238,-484.5 287.842,-484.5\"/>\n",
       "<polygon fill=\"black\" stroke=\"black\" points=\"287.847,-488 297.847,-484.5 287.847,-481 287.847,-488\"/>\n",
       "</g>\n",
       "<!-- 3 -->\n",
       "<g id=\"node4\" class=\"node\"><title>3</title>\n",
       "<path fill=\"#e58139\" fill-opacity=\"0.019608\" stroke=\"black\" d=\"M544.5,-708C544.5,-708 462.5,-708 462.5,-708 456.5,-708 450.5,-702 450.5,-696 450.5,-696 450.5,-667 450.5,-667 450.5,-661 456.5,-655 462.5,-655 462.5,-655 544.5,-655 544.5,-655 550.5,-655 556.5,-661 556.5,-667 556.5,-667 556.5,-696 556.5,-696 556.5,-702 550.5,-708 544.5,-708\"/>\n",
       "<text text-anchor=\"start\" x=\"465.5\" y=\"-692.8\" font-family=\"Helvetica,sans-Serif\" font-size=\"14.00\">mse = 0.363</text>\n",
       "<text text-anchor=\"start\" x=\"462.5\" y=\"-677.8\" font-family=\"Helvetica,sans-Serif\" font-size=\"14.00\">samples = 96</text>\n",
       "<text text-anchor=\"start\" x=\"458.5\" y=\"-662.8\" font-family=\"Helvetica,sans-Serif\" font-size=\"14.00\">value = 28.344</text>\n",
       "</g>\n",
       "<!-- 2&#45;&gt;3 -->\n",
       "<g id=\"edge3\" class=\"edge\"><title>2&#45;&gt;3</title>\n",
       "<path fill=\"none\" stroke=\"black\" d=\"M407.741,-635.732C418.572,-640.963 430.077,-646.52 441.199,-651.892\"/>\n",
       "<polygon fill=\"black\" stroke=\"black\" points=\"439.901,-655.152 450.428,-656.349 442.945,-648.848 439.901,-655.152\"/>\n",
       "</g>\n",
       "<!-- 4 -->\n",
       "<g id=\"node5\" class=\"node\"><title>4</title>\n",
       "<path fill=\"none\" stroke=\"black\" d=\"M544.5,-637C544.5,-637 462.5,-637 462.5,-637 456.5,-637 450.5,-631 450.5,-625 450.5,-625 450.5,-596 450.5,-596 450.5,-590 456.5,-584 462.5,-584 462.5,-584 544.5,-584 544.5,-584 550.5,-584 556.5,-590 556.5,-596 556.5,-596 556.5,-625 556.5,-625 556.5,-631 550.5,-637 544.5,-637\"/>\n",
       "<text text-anchor=\"start\" x=\"465.5\" y=\"-621.8\" font-family=\"Helvetica,sans-Serif\" font-size=\"14.00\">mse = 7.544</text>\n",
       "<text text-anchor=\"start\" x=\"462.5\" y=\"-606.8\" font-family=\"Helvetica,sans-Serif\" font-size=\"14.00\">samples = 96</text>\n",
       "<text text-anchor=\"start\" x=\"458.5\" y=\"-591.8\" font-family=\"Helvetica,sans-Serif\" font-size=\"14.00\">value = 27.873</text>\n",
       "</g>\n",
       "<!-- 2&#45;&gt;4 -->\n",
       "<g id=\"edge4\" class=\"edge\"><title>2&#45;&gt;4</title>\n",
       "<path fill=\"none\" stroke=\"black\" d=\"M407.741,-610.5C418.247,-610.5 429.387,-610.5 440.197,-610.5\"/>\n",
       "<polygon fill=\"black\" stroke=\"black\" points=\"440.428,-614 450.428,-610.5 440.428,-607 440.428,-614\"/>\n",
       "</g>\n",
       "<!-- 6 -->\n",
       "<g id=\"node7\" class=\"node\"><title>6</title>\n",
       "<path fill=\"#e58139\" fill-opacity=\"0.541176\" stroke=\"black\" d=\"M548,-565.5C548,-565.5 459,-565.5 459,-565.5 453,-565.5 447,-559.5 447,-553.5 447,-553.5 447,-509.5 447,-509.5 447,-503.5 453,-497.5 459,-497.5 459,-497.5 548,-497.5 548,-497.5 554,-497.5 560,-503.5 560,-509.5 560,-509.5 560,-553.5 560,-553.5 560,-559.5 554,-565.5 548,-565.5\"/>\n",
       "<text text-anchor=\"start\" x=\"475\" y=\"-550.3\" font-family=\"Helvetica,sans-Serif\" font-size=\"14.00\">day ≤ 8.5</text>\n",
       "<text text-anchor=\"start\" x=\"458\" y=\"-535.3\" font-family=\"Helvetica,sans-Serif\" font-size=\"14.00\">mse = 150.495</text>\n",
       "<text text-anchor=\"start\" x=\"455\" y=\"-520.3\" font-family=\"Helvetica,sans-Serif\" font-size=\"14.00\">samples = 1056</text>\n",
       "<text text-anchor=\"start\" x=\"462.5\" y=\"-505.3\" font-family=\"Helvetica,sans-Serif\" font-size=\"14.00\">value = 42.09</text>\n",
       "</g>\n",
       "<!-- 5&#45;&gt;6 -->\n",
       "<g id=\"edge6\" class=\"edge\"><title>5&#45;&gt;6</title>\n",
       "<path fill=\"none\" stroke=\"black\" d=\"M411.074,-502.269C419.581,-504.988 428.428,-507.817 437.123,-510.597\"/>\n",
       "<polygon fill=\"black\" stroke=\"black\" points=\"436.256,-513.994 446.847,-513.706 438.388,-507.327 436.256,-513.994\"/>\n",
       "</g>\n",
       "<!-- 9 -->\n",
       "<g id=\"node10\" class=\"node\"><title>9</title>\n",
       "<path fill=\"#e58139\" fill-opacity=\"0.105882\" stroke=\"black\" d=\"M544.5,-479.5C544.5,-479.5 462.5,-479.5 462.5,-479.5 456.5,-479.5 450.5,-473.5 450.5,-467.5 450.5,-467.5 450.5,-423.5 450.5,-423.5 450.5,-417.5 456.5,-411.5 462.5,-411.5 462.5,-411.5 544.5,-411.5 544.5,-411.5 550.5,-411.5 556.5,-417.5 556.5,-423.5 556.5,-423.5 556.5,-467.5 556.5,-467.5 556.5,-473.5 550.5,-479.5 544.5,-479.5\"/>\n",
       "<text text-anchor=\"start\" x=\"471.5\" y=\"-464.3\" font-family=\"Helvetica,sans-Serif\" font-size=\"14.00\">day ≤ 15.5</text>\n",
       "<text text-anchor=\"start\" x=\"465.5\" y=\"-449.3\" font-family=\"Helvetica,sans-Serif\" font-size=\"14.00\">mse = 36.15</text>\n",
       "<text text-anchor=\"start\" x=\"458.5\" y=\"-434.3\" font-family=\"Helvetica,sans-Serif\" font-size=\"14.00\">samples = 288</text>\n",
       "<text text-anchor=\"start\" x=\"458.5\" y=\"-419.3\" font-family=\"Helvetica,sans-Serif\" font-size=\"14.00\">value = 30.616</text>\n",
       "</g>\n",
       "<!-- 5&#45;&gt;9 -->\n",
       "<g id=\"edge9\" class=\"edge\"><title>5&#45;&gt;9</title>\n",
       "<path fill=\"none\" stroke=\"black\" d=\"M411.074,-469.756C420.709,-467.2 430.781,-464.527 440.572,-461.93\"/>\n",
       "<polygon fill=\"black\" stroke=\"black\" points=\"441.475,-465.311 450.243,-459.364 439.68,-458.546 441.475,-465.311\"/>\n",
       "</g>\n",
       "<!-- 7 -->\n",
       "<g id=\"node8\" class=\"node\"><title>7</title>\n",
       "<path fill=\"#e58139\" fill-opacity=\"0.486275\" stroke=\"black\" d=\"M691,-629C691,-629 608,-629 608,-629 602,-629 596,-623 596,-617 596,-617 596,-588 596,-588 596,-582 602,-576 608,-576 608,-576 691,-576 691,-576 697,-576 703,-582 703,-588 703,-588 703,-617 703,-617 703,-623 697,-629 691,-629\"/>\n",
       "<text text-anchor=\"start\" x=\"604\" y=\"-613.8\" font-family=\"Helvetica,sans-Serif\" font-size=\"14.00\">mse = 141.722</text>\n",
       "<text text-anchor=\"start\" x=\"604.5\" y=\"-598.8\" font-family=\"Helvetica,sans-Serif\" font-size=\"14.00\">samples = 576</text>\n",
       "<text text-anchor=\"start\" x=\"604.5\" y=\"-583.8\" font-family=\"Helvetica,sans-Serif\" font-size=\"14.00\">value = 40.656</text>\n",
       "</g>\n",
       "<!-- 6&#45;&gt;7 -->\n",
       "<g id=\"edge7\" class=\"edge\"><title>6&#45;&gt;7</title>\n",
       "<path fill=\"none\" stroke=\"black\" d=\"M560.174,-558.95C568.868,-563.237 577.896,-567.688 586.716,-572.037\"/>\n",
       "<polygon fill=\"black\" stroke=\"black\" points=\"585.292,-575.237 595.809,-576.52 588.388,-568.959 585.292,-575.237\"/>\n",
       "</g>\n",
       "<!-- 8 -->\n",
       "<g id=\"node9\" class=\"node\"><title>8</title>\n",
       "<path fill=\"#e58139\" fill-opacity=\"0.603922\" stroke=\"black\" d=\"M691,-558C691,-558 608,-558 608,-558 602,-558 596,-552 596,-546 596,-546 596,-517 596,-517 596,-511 602,-505 608,-505 608,-505 691,-505 691,-505 697,-505 703,-511 703,-517 703,-517 703,-546 703,-546 703,-552 697,-558 691,-558\"/>\n",
       "<text text-anchor=\"start\" x=\"604\" y=\"-542.8\" font-family=\"Helvetica,sans-Serif\" font-size=\"14.00\">mse = 155.591</text>\n",
       "<text text-anchor=\"start\" x=\"604.5\" y=\"-527.8\" font-family=\"Helvetica,sans-Serif\" font-size=\"14.00\">samples = 480</text>\n",
       "<text text-anchor=\"start\" x=\"604.5\" y=\"-512.8\" font-family=\"Helvetica,sans-Serif\" font-size=\"14.00\">value = 43.811</text>\n",
       "</g>\n",
       "<!-- 6&#45;&gt;8 -->\n",
       "<g id=\"edge8\" class=\"edge\"><title>6&#45;&gt;8</title>\n",
       "<path fill=\"none\" stroke=\"black\" d=\"M560.174,-531.5C568.502,-531.5 577.137,-531.5 585.601,-531.5\"/>\n",
       "<polygon fill=\"black\" stroke=\"black\" points=\"585.809,-535 595.809,-531.5 585.809,-528 585.809,-535\"/>\n",
       "</g>\n",
       "<!-- 10 -->\n",
       "<g id=\"node11\" class=\"node\"><title>10</title>\n",
       "<path fill=\"#e58139\" fill-opacity=\"0.019608\" stroke=\"black\" d=\"M690.5,-487C690.5,-487 608.5,-487 608.5,-487 602.5,-487 596.5,-481 596.5,-475 596.5,-475 596.5,-446 596.5,-446 596.5,-440 602.5,-434 608.5,-434 608.5,-434 690.5,-434 690.5,-434 696.5,-434 702.5,-440 702.5,-446 702.5,-446 702.5,-475 702.5,-475 702.5,-481 696.5,-487 690.5,-487\"/>\n",
       "<text text-anchor=\"start\" x=\"611.5\" y=\"-471.8\" font-family=\"Helvetica,sans-Serif\" font-size=\"14.00\">mse = 0.296</text>\n",
       "<text text-anchor=\"start\" x=\"604.5\" y=\"-456.8\" font-family=\"Helvetica,sans-Serif\" font-size=\"14.00\">samples = 192</text>\n",
       "<text text-anchor=\"start\" x=\"604.5\" y=\"-441.8\" font-family=\"Helvetica,sans-Serif\" font-size=\"14.00\">value = 28.405</text>\n",
       "</g>\n",
       "<!-- 9&#45;&gt;10 -->\n",
       "<g id=\"edge10\" class=\"edge\"><title>9&#45;&gt;10</title>\n",
       "<path fill=\"none\" stroke=\"black\" d=\"M556.895,-450.958C566.444,-451.953 576.492,-452.999 586.292,-454.02\"/>\n",
       "<polygon fill=\"black\" stroke=\"black\" points=\"586.077,-457.516 596.385,-455.071 586.802,-450.554 586.077,-457.516\"/>\n",
       "</g>\n",
       "<!-- 11 -->\n",
       "<g id=\"node12\" class=\"node\"><title>11</title>\n",
       "<path fill=\"#e58139\" fill-opacity=\"0.270588\" stroke=\"black\" d=\"M690.5,-416C690.5,-416 608.5,-416 608.5,-416 602.5,-416 596.5,-410 596.5,-404 596.5,-404 596.5,-375 596.5,-375 596.5,-369 602.5,-363 608.5,-363 608.5,-363 690.5,-363 690.5,-363 696.5,-363 702.5,-369 702.5,-375 702.5,-375 702.5,-404 702.5,-404 702.5,-410 696.5,-416 690.5,-416\"/>\n",
       "<text text-anchor=\"start\" x=\"607.5\" y=\"-400.8\" font-family=\"Helvetica,sans-Serif\" font-size=\"14.00\">mse = 78.525</text>\n",
       "<text text-anchor=\"start\" x=\"608.5\" y=\"-385.8\" font-family=\"Helvetica,sans-Serif\" font-size=\"14.00\">samples = 96</text>\n",
       "<text text-anchor=\"start\" x=\"604.5\" y=\"-370.8\" font-family=\"Helvetica,sans-Serif\" font-size=\"14.00\">value = 35.039</text>\n",
       "</g>\n",
       "<!-- 9&#45;&gt;11 -->\n",
       "<g id=\"edge11\" class=\"edge\"><title>9&#45;&gt;11</title>\n",
       "<path fill=\"none\" stroke=\"black\" d=\"M556.895,-425.124C566.645,-421.332 576.915,-417.339 586.911,-413.451\"/>\n",
       "<polygon fill=\"black\" stroke=\"black\" points=\"588.334,-416.653 596.385,-409.767 585.797,-410.129 588.334,-416.653\"/>\n",
       "</g>\n",
       "<!-- 13 -->\n",
       "<g id=\"node14\" class=\"node\"><title>13</title>\n",
       "<path fill=\"#e58139\" fill-opacity=\"0.705882\" stroke=\"black\" d=\"M399,-257.5C399,-257.5 310,-257.5 310,-257.5 304,-257.5 298,-251.5 298,-245.5 298,-245.5 298,-201.5 298,-201.5 298,-195.5 304,-189.5 310,-189.5 310,-189.5 399,-189.5 399,-189.5 405,-189.5 411,-195.5 411,-201.5 411,-201.5 411,-245.5 411,-245.5 411,-251.5 405,-257.5 399,-257.5\"/>\n",
       "<text text-anchor=\"start\" x=\"322.5\" y=\"-242.3\" font-family=\"Helvetica,sans-Serif\" font-size=\"14.00\">day ≤ 27.5</text>\n",
       "<text text-anchor=\"start\" x=\"309\" y=\"-227.3\" font-family=\"Helvetica,sans-Serif\" font-size=\"14.00\">mse = 109.457</text>\n",
       "<text text-anchor=\"start\" x=\"306\" y=\"-212.3\" font-family=\"Helvetica,sans-Serif\" font-size=\"14.00\">samples = 1248</text>\n",
       "<text text-anchor=\"start\" x=\"313.5\" y=\"-197.3\" font-family=\"Helvetica,sans-Serif\" font-size=\"14.00\">value = 46.41</text>\n",
       "</g>\n",
       "<!-- 12&#45;&gt;13 -->\n",
       "<g id=\"edge13\" class=\"edge\"><title>12&#45;&gt;13</title>\n",
       "<path fill=\"none\" stroke=\"black\" d=\"M262.074,-223.5C270.489,-223.5 279.238,-223.5 287.842,-223.5\"/>\n",
       "<polygon fill=\"black\" stroke=\"black\" points=\"287.847,-227 297.847,-223.5 287.847,-220 287.847,-227\"/>\n",
       "</g>\n",
       "<!-- 20 -->\n",
       "<g id=\"node21\" class=\"node\"><title>20</title>\n",
       "<path fill=\"#e58139\" fill-opacity=\"0.952941\" stroke=\"black\" d=\"M395.5,-131.5C395.5,-131.5 313.5,-131.5 313.5,-131.5 307.5,-131.5 301.5,-125.5 301.5,-119.5 301.5,-119.5 301.5,-75.5 301.5,-75.5 301.5,-69.5 307.5,-63.5 313.5,-63.5 313.5,-63.5 395.5,-63.5 395.5,-63.5 401.5,-63.5 407.5,-69.5 407.5,-75.5 407.5,-75.5 407.5,-119.5 407.5,-119.5 407.5,-125.5 401.5,-131.5 395.5,-131.5\"/>\n",
       "<text text-anchor=\"start\" x=\"322.5\" y=\"-116.3\" font-family=\"Helvetica,sans-Serif\" font-size=\"14.00\">day ≤ 30.5</text>\n",
       "<text text-anchor=\"start\" x=\"312.5\" y=\"-101.3\" font-family=\"Helvetica,sans-Serif\" font-size=\"14.00\">mse = 57.496</text>\n",
       "<text text-anchor=\"start\" x=\"309.5\" y=\"-86.3\" font-family=\"Helvetica,sans-Serif\" font-size=\"14.00\">samples = 192</text>\n",
       "<text text-anchor=\"start\" x=\"309.5\" y=\"-71.3\" font-family=\"Helvetica,sans-Serif\" font-size=\"14.00\">value = 52.953</text>\n",
       "</g>\n",
       "<!-- 12&#45;&gt;20 -->\n",
       "<g id=\"edge20\" class=\"edge\"><title>12&#45;&gt;20</title>\n",
       "<path fill=\"none\" stroke=\"black\" d=\"M246.28,-189.403C264.664,-173.645 286.642,-154.807 305.899,-138.3\"/>\n",
       "<polygon fill=\"black\" stroke=\"black\" points=\"308.373,-140.79 313.688,-131.625 303.818,-135.475 308.373,-140.79\"/>\n",
       "</g>\n",
       "<!-- 14 -->\n",
       "<g id=\"node15\" class=\"node\"><title>14</title>\n",
       "<path fill=\"#e58139\" fill-opacity=\"0.745098\" stroke=\"black\" d=\"M548,-296.5C548,-296.5 459,-296.5 459,-296.5 453,-296.5 447,-290.5 447,-284.5 447,-284.5 447,-240.5 447,-240.5 447,-234.5 453,-228.5 459,-228.5 459,-228.5 548,-228.5 548,-228.5 554,-228.5 560,-234.5 560,-240.5 560,-240.5 560,-284.5 560,-284.5 560,-290.5 554,-296.5 548,-296.5\"/>\n",
       "<text text-anchor=\"start\" x=\"471.5\" y=\"-281.3\" font-family=\"Helvetica,sans-Serif\" font-size=\"14.00\">day ≤ 22.5</text>\n",
       "<text text-anchor=\"start\" x=\"458\" y=\"-266.3\" font-family=\"Helvetica,sans-Serif\" font-size=\"14.00\">mse = 106.186</text>\n",
       "<text text-anchor=\"start\" x=\"455\" y=\"-251.3\" font-family=\"Helvetica,sans-Serif\" font-size=\"14.00\">samples = 1056</text>\n",
       "<text text-anchor=\"start\" x=\"458.5\" y=\"-236.3\" font-family=\"Helvetica,sans-Serif\" font-size=\"14.00\">value = 47.425</text>\n",
       "</g>\n",
       "<!-- 13&#45;&gt;14 -->\n",
       "<g id=\"edge14\" class=\"edge\"><title>13&#45;&gt;14</title>\n",
       "<path fill=\"none\" stroke=\"black\" d=\"M411.074,-238.244C419.581,-240.501 428.428,-242.848 437.123,-245.155\"/>\n",
       "<polygon fill=\"black\" stroke=\"black\" points=\"436.284,-248.553 446.847,-247.735 438.079,-241.788 436.284,-248.553\"/>\n",
       "</g>\n",
       "<!-- 17 -->\n",
       "<g id=\"node18\" class=\"node\"><title>17</title>\n",
       "<path fill=\"#e58139\" fill-opacity=\"0.494118\" stroke=\"black\" d=\"M544.5,-210.5C544.5,-210.5 462.5,-210.5 462.5,-210.5 456.5,-210.5 450.5,-204.5 450.5,-198.5 450.5,-198.5 450.5,-154.5 450.5,-154.5 450.5,-148.5 456.5,-142.5 462.5,-142.5 462.5,-142.5 544.5,-142.5 544.5,-142.5 550.5,-142.5 556.5,-148.5 556.5,-154.5 556.5,-154.5 556.5,-198.5 556.5,-198.5 556.5,-204.5 550.5,-210.5 544.5,-210.5\"/>\n",
       "<text text-anchor=\"start\" x=\"471.5\" y=\"-195.3\" font-family=\"Helvetica,sans-Serif\" font-size=\"14.00\">day ≤ 28.5</text>\n",
       "<text text-anchor=\"start\" x=\"461.5\" y=\"-180.3\" font-family=\"Helvetica,sans-Serif\" font-size=\"14.00\">mse = 90.628</text>\n",
       "<text text-anchor=\"start\" x=\"458.5\" y=\"-165.3\" font-family=\"Helvetica,sans-Serif\" font-size=\"14.00\">samples = 192</text>\n",
       "<text text-anchor=\"start\" x=\"458.5\" y=\"-150.3\" font-family=\"Helvetica,sans-Serif\" font-size=\"14.00\">value = 40.828</text>\n",
       "</g>\n",
       "<!-- 13&#45;&gt;17 -->\n",
       "<g id=\"edge17\" class=\"edge\"><title>13&#45;&gt;17</title>\n",
       "<path fill=\"none\" stroke=\"black\" d=\"M411.074,-205.731C420.709,-202.651 430.781,-199.431 440.572,-196.3\"/>\n",
       "<polygon fill=\"black\" stroke=\"black\" points=\"441.784,-199.587 450.243,-193.208 439.652,-192.92 441.784,-199.587\"/>\n",
       "</g>\n",
       "<!-- 15 -->\n",
       "<g id=\"node16\" class=\"node\"><title>15</title>\n",
       "<path fill=\"#e58139\" fill-opacity=\"0.658824\" stroke=\"black\" d=\"M691,-345C691,-345 608,-345 608,-345 602,-345 596,-339 596,-333 596,-333 596,-304 596,-304 596,-298 602,-292 608,-292 608,-292 691,-292 691,-292 697,-292 703,-298 703,-304 703,-304 703,-333 703,-333 703,-339 697,-345 691,-345\"/>\n",
       "<text text-anchor=\"start\" x=\"604\" y=\"-329.8\" font-family=\"Helvetica,sans-Serif\" font-size=\"14.00\">mse = 105.924</text>\n",
       "<text text-anchor=\"start\" x=\"604.5\" y=\"-314.8\" font-family=\"Helvetica,sans-Serif\" font-size=\"14.00\">samples = 576</text>\n",
       "<text text-anchor=\"start\" x=\"604.5\" y=\"-299.8\" font-family=\"Helvetica,sans-Serif\" font-size=\"14.00\">value = 45.248</text>\n",
       "</g>\n",
       "<!-- 14&#45;&gt;15 -->\n",
       "<g id=\"edge15\" class=\"edge\"><title>14&#45;&gt;15</title>\n",
       "<path fill=\"none\" stroke=\"black\" d=\"M560.174,-284.151C568.776,-287.496 577.706,-290.969 586.438,-294.365\"/>\n",
       "<polygon fill=\"black\" stroke=\"black\" points=\"585.22,-297.647 595.809,-298.009 587.758,-291.123 585.22,-297.647\"/>\n",
       "</g>\n",
       "<!-- 16 -->\n",
       "<g id=\"node17\" class=\"node\"><title>16</title>\n",
       "<path fill=\"#e58139\" fill-opacity=\"0.843137\" stroke=\"black\" d=\"M690.5,-274C690.5,-274 608.5,-274 608.5,-274 602.5,-274 596.5,-268 596.5,-262 596.5,-262 596.5,-233 596.5,-233 596.5,-227 602.5,-221 608.5,-221 608.5,-221 690.5,-221 690.5,-221 696.5,-221 702.5,-227 702.5,-233 702.5,-233 702.5,-262 702.5,-262 702.5,-268 696.5,-274 690.5,-274\"/>\n",
       "<text text-anchor=\"start\" x=\"607.5\" y=\"-258.8\" font-family=\"Helvetica,sans-Serif\" font-size=\"14.00\">mse = 93.998</text>\n",
       "<text text-anchor=\"start\" x=\"604.5\" y=\"-243.8\" font-family=\"Helvetica,sans-Serif\" font-size=\"14.00\">samples = 480</text>\n",
       "<text text-anchor=\"start\" x=\"604.5\" y=\"-228.8\" font-family=\"Helvetica,sans-Serif\" font-size=\"14.00\">value = 50.036</text>\n",
       "</g>\n",
       "<!-- 14&#45;&gt;16 -->\n",
       "<g id=\"edge16\" class=\"edge\"><title>14&#45;&gt;16</title>\n",
       "<path fill=\"none\" stroke=\"black\" d=\"M560.174,-256.701C568.707,-255.812 577.562,-254.889 586.227,-253.987\"/>\n",
       "<polygon fill=\"black\" stroke=\"black\" points=\"586.695,-257.457 596.279,-252.94 585.97,-250.495 586.695,-257.457\"/>\n",
       "</g>\n",
       "<!-- 18 -->\n",
       "<g id=\"node19\" class=\"node\"><title>18</title>\n",
       "<path fill=\"#e58139\" fill-opacity=\"0.474510\" stroke=\"black\" d=\"M690.5,-203C690.5,-203 608.5,-203 608.5,-203 602.5,-203 596.5,-197 596.5,-191 596.5,-191 596.5,-162 596.5,-162 596.5,-156 602.5,-150 608.5,-150 608.5,-150 690.5,-150 690.5,-150 696.5,-150 702.5,-156 702.5,-162 702.5,-162 702.5,-191 702.5,-191 702.5,-197 696.5,-203 690.5,-203\"/>\n",
       "<text text-anchor=\"start\" x=\"607.5\" y=\"-187.8\" font-family=\"Helvetica,sans-Serif\" font-size=\"14.00\">mse = 75.115</text>\n",
       "<text text-anchor=\"start\" x=\"608.5\" y=\"-172.8\" font-family=\"Helvetica,sans-Serif\" font-size=\"14.00\">samples = 96</text>\n",
       "<text text-anchor=\"start\" x=\"604.5\" y=\"-157.8\" font-family=\"Helvetica,sans-Serif\" font-size=\"14.00\">value = 40.361</text>\n",
       "</g>\n",
       "<!-- 17&#45;&gt;18 -->\n",
       "<g id=\"edge18\" class=\"edge\"><title>17&#45;&gt;18</title>\n",
       "<path fill=\"none\" stroke=\"black\" d=\"M556.895,-176.5C566.444,-176.5 576.492,-176.5 586.292,-176.5\"/>\n",
       "<polygon fill=\"black\" stroke=\"black\" points=\"586.385,-180 596.385,-176.5 586.385,-173 586.385,-180\"/>\n",
       "</g>\n",
       "<!-- 19 -->\n",
       "<g id=\"node20\" class=\"node\"><title>19</title>\n",
       "<path fill=\"#e58139\" fill-opacity=\"0.509804\" stroke=\"black\" d=\"M691,-132C691,-132 608,-132 608,-132 602,-132 596,-126 596,-120 596,-120 596,-91 596,-91 596,-85 602,-79 608,-79 608,-79 691,-79 691,-79 697,-79 703,-85 703,-91 703,-91 703,-120 703,-120 703,-126 697,-132 691,-132\"/>\n",
       "<text text-anchor=\"start\" x=\"604\" y=\"-116.8\" font-family=\"Helvetica,sans-Serif\" font-size=\"14.00\">mse = 105.705</text>\n",
       "<text text-anchor=\"start\" x=\"608.5\" y=\"-101.8\" font-family=\"Helvetica,sans-Serif\" font-size=\"14.00\">samples = 96</text>\n",
       "<text text-anchor=\"start\" x=\"604.5\" y=\"-86.8\" font-family=\"Helvetica,sans-Serif\" font-size=\"14.00\">value = 41.295</text>\n",
       "</g>\n",
       "<!-- 17&#45;&gt;19 -->\n",
       "<g id=\"edge19\" class=\"edge\"><title>17&#45;&gt;19</title>\n",
       "<path fill=\"none\" stroke=\"black\" d=\"M556.895,-150.667C566.623,-145.87 576.867,-140.819 586.842,-135.901\"/>\n",
       "<polygon fill=\"black\" stroke=\"black\" points=\"588.482,-138.995 595.903,-131.433 585.386,-132.716 588.482,-138.995\"/>\n",
       "</g>\n",
       "<!-- 21 -->\n",
       "<g id=\"node22\" class=\"node\"><title>21</title>\n",
       "<path fill=\"#e58139\" fill-opacity=\"0.905882\" stroke=\"black\" d=\"M544.5,-124C544.5,-124 462.5,-124 462.5,-124 456.5,-124 450.5,-118 450.5,-112 450.5,-112 450.5,-83 450.5,-83 450.5,-77 456.5,-71 462.5,-71 462.5,-71 544.5,-71 544.5,-71 550.5,-71 556.5,-77 556.5,-83 556.5,-83 556.5,-112 556.5,-112 556.5,-118 550.5,-124 544.5,-124\"/>\n",
       "<text text-anchor=\"start\" x=\"461.5\" y=\"-108.8\" font-family=\"Helvetica,sans-Serif\" font-size=\"14.00\">mse = 89.698</text>\n",
       "<text text-anchor=\"start\" x=\"462.5\" y=\"-93.8\" font-family=\"Helvetica,sans-Serif\" font-size=\"14.00\">samples = 96</text>\n",
       "<text text-anchor=\"start\" x=\"458.5\" y=\"-78.8\" font-family=\"Helvetica,sans-Serif\" font-size=\"14.00\">value = 51.726</text>\n",
       "</g>\n",
       "<!-- 20&#45;&gt;21 -->\n",
       "<g id=\"edge21\" class=\"edge\"><title>20&#45;&gt;21</title>\n",
       "<path fill=\"none\" stroke=\"black\" d=\"M407.741,-97.5C418.247,-97.5 429.387,-97.5 440.197,-97.5\"/>\n",
       "<polygon fill=\"black\" stroke=\"black\" points=\"440.428,-101 450.428,-97.5 440.428,-94.0001 440.428,-101\"/>\n",
       "</g>\n",
       "<!-- 22 -->\n",
       "<g id=\"node23\" class=\"node\"><title>22</title>\n",
       "<path fill=\"#e58139\" stroke=\"black\" d=\"M541.5,-53C541.5,-53 465.5,-53 465.5,-53 459.5,-53 453.5,-47 453.5,-41 453.5,-41 453.5,-12 453.5,-12 453.5,-6 459.5,-3.55271e-15 465.5,-3.55271e-15 465.5,-3.55271e-15 541.5,-3.55271e-15 541.5,-3.55271e-15 547.5,-3.55271e-15 553.5,-6 553.5,-12 553.5,-12 553.5,-41 553.5,-41 553.5,-47 547.5,-53 541.5,-53\"/>\n",
       "<text text-anchor=\"start\" x=\"461.5\" y=\"-37.8\" font-family=\"Helvetica,sans-Serif\" font-size=\"14.00\">mse = 22.282</text>\n",
       "<text text-anchor=\"start\" x=\"462.5\" y=\"-22.8\" font-family=\"Helvetica,sans-Serif\" font-size=\"14.00\">samples = 96</text>\n",
       "<text text-anchor=\"start\" x=\"462.5\" y=\"-7.8\" font-family=\"Helvetica,sans-Serif\" font-size=\"14.00\">value = 54.18</text>\n",
       "</g>\n",
       "<!-- 20&#45;&gt;22 -->\n",
       "<g id=\"edge22\" class=\"edge\"><title>20&#45;&gt;22</title>\n",
       "<path fill=\"none\" stroke=\"black\" d=\"M407.741,-72.2681C419.578,-66.551 432.219,-60.445 444.286,-54.6169\"/>\n",
       "<polygon fill=\"black\" stroke=\"black\" points=\"445.896,-57.7262 453.379,-50.2253 442.852,-51.4229 445.896,-57.7262\"/>\n",
       "</g>\n",
       "</g>\n",
       "</svg>\n"
      ],
      "text/plain": [
       "<graphviz.files.Source at 0x7f6a52ae4f90>"
      ]
     },
     "execution_count": 7,
     "metadata": {},
     "output_type": "execute_result"
    }
   ],
   "source": [
    "dot_data = tree.export_graphviz(clf2, out_file=None, \n",
    "                         feature_names=[\"day\"],    \n",
    "                         filled=True, rounded=True,  \n",
    "                         special_characters=True,\n",
    "                               rotate=True)\n",
    "graph = graphviz.Source(dot_data) \n",
    "graph\n"
   ]
  },
  {
   "cell_type": "markdown",
   "metadata": {},
   "source": [
    "### Interpretation with respect to hour"
   ]
  },
  {
   "cell_type": "code",
   "execution_count": 8,
   "metadata": {},
   "outputs": [
    {
     "data": {
      "image/svg+xml": [
       "<?xml version=\"1.0\" encoding=\"UTF-8\" standalone=\"no\"?>\n",
       "<!DOCTYPE svg PUBLIC \"-//W3C//DTD SVG 1.1//EN\"\n",
       " \"http://www.w3.org/Graphics/SVG/1.1/DTD/svg11.dtd\">\n",
       "<!-- Generated by graphviz version 2.38.0 (20140413.2041)\n",
       " -->\n",
       "<!-- Title: Tree Pages: 1 -->\n",
       "<svg width=\"711pt\" height=\"708pt\"\n",
       " viewBox=\"0.00 0.00 711.00 708.00\" xmlns=\"http://www.w3.org/2000/svg\" xmlns:xlink=\"http://www.w3.org/1999/xlink\">\n",
       "<g id=\"graph0\" class=\"graph\" transform=\"scale(1 1) rotate(0) translate(4 704)\">\n",
       "<title>Tree</title>\n",
       "<polygon fill=\"white\" stroke=\"none\" points=\"-4,4 -4,-704 707,-704 707,4 -4,4\"/>\n",
       "<!-- 0 -->\n",
       "<g id=\"node1\" class=\"node\"><title>0</title>\n",
       "<path fill=\"#e58139\" fill-opacity=\"0.607843\" stroke=\"black\" d=\"M101,-485.5C101,-485.5 12,-485.5 12,-485.5 6,-485.5 0,-479.5 0,-473.5 0,-473.5 0,-429.5 0,-429.5 0,-423.5 6,-417.5 12,-417.5 12,-417.5 101,-417.5 101,-417.5 107,-417.5 113,-423.5 113,-429.5 113,-429.5 113,-473.5 113,-473.5 113,-479.5 107,-485.5 101,-485.5\"/>\n",
       "<text text-anchor=\"start\" x=\"25.5\" y=\"-470.3\" font-family=\"Helvetica,sans-Serif\" font-size=\"14.00\">hour ≤ 3.5</text>\n",
       "<text text-anchor=\"start\" x=\"14.5\" y=\"-455.3\" font-family=\"Helvetica,sans-Serif\" font-size=\"14.00\">mse = 147.31</text>\n",
       "<text text-anchor=\"start\" x=\"8\" y=\"-440.3\" font-family=\"Helvetica,sans-Serif\" font-size=\"14.00\">samples = 2976</text>\n",
       "<text text-anchor=\"start\" x=\"15.5\" y=\"-425.3\" font-family=\"Helvetica,sans-Serif\" font-size=\"14.00\">value = 42.59</text>\n",
       "</g>\n",
       "<!-- 1 -->\n",
       "<g id=\"node2\" class=\"node\"><title>1</title>\n",
       "<path fill=\"#e58139\" fill-opacity=\"0.050980\" stroke=\"black\" d=\"M246.5,-535.5C246.5,-535.5 164.5,-535.5 164.5,-535.5 158.5,-535.5 152.5,-529.5 152.5,-523.5 152.5,-523.5 152.5,-479.5 152.5,-479.5 152.5,-473.5 158.5,-467.5 164.5,-467.5 164.5,-467.5 246.5,-467.5 246.5,-467.5 252.5,-467.5 258.5,-473.5 258.5,-479.5 258.5,-479.5 258.5,-523.5 258.5,-523.5 258.5,-529.5 252.5,-535.5 246.5,-535.5\"/>\n",
       "<text text-anchor=\"start\" x=\"174.5\" y=\"-520.3\" font-family=\"Helvetica,sans-Serif\" font-size=\"14.00\">hour ≤ 2.5</text>\n",
       "<text text-anchor=\"start\" x=\"163.5\" y=\"-505.3\" font-family=\"Helvetica,sans-Serif\" font-size=\"14.00\">mse = 20.499</text>\n",
       "<text text-anchor=\"start\" x=\"160.5\" y=\"-490.3\" font-family=\"Helvetica,sans-Serif\" font-size=\"14.00\">samples = 496</text>\n",
       "<text text-anchor=\"start\" x=\"160.5\" y=\"-475.3\" font-family=\"Helvetica,sans-Serif\" font-size=\"14.00\">value = 31.023</text>\n",
       "</g>\n",
       "<!-- 0&#45;&gt;1 -->\n",
       "<g id=\"edge1\" class=\"edge\"><title>0&#45;&gt;1</title>\n",
       "<path fill=\"none\" stroke=\"black\" d=\"M113.074,-470.403C122.709,-473.68 132.781,-477.106 142.572,-480.436\"/>\n",
       "<polygon fill=\"black\" stroke=\"black\" points=\"141.649,-483.819 152.243,-483.726 143.903,-477.192 141.649,-483.819\"/>\n",
       "<text text-anchor=\"middle\" x=\"129.815\" y=\"-491.069\" font-family=\"Helvetica,sans-Serif\" font-size=\"14.00\">True</text>\n",
       "</g>\n",
       "<!-- 8 -->\n",
       "<g id=\"node9\" class=\"node\"><title>8</title>\n",
       "<path fill=\"#e58139\" fill-opacity=\"0.717647\" stroke=\"black\" d=\"M250,-435.5C250,-435.5 161,-435.5 161,-435.5 155,-435.5 149,-429.5 149,-423.5 149,-423.5 149,-379.5 149,-379.5 149,-373.5 155,-367.5 161,-367.5 161,-367.5 250,-367.5 250,-367.5 256,-367.5 262,-373.5 262,-379.5 262,-379.5 262,-423.5 262,-423.5 262,-429.5 256,-435.5 250,-435.5\"/>\n",
       "<text text-anchor=\"start\" x=\"170.5\" y=\"-420.3\" font-family=\"Helvetica,sans-Serif\" font-size=\"14.00\">hour ≤ 17.5</text>\n",
       "<text text-anchor=\"start\" x=\"163.5\" y=\"-405.3\" font-family=\"Helvetica,sans-Serif\" font-size=\"14.00\">mse = 140.56</text>\n",
       "<text text-anchor=\"start\" x=\"157\" y=\"-390.3\" font-family=\"Helvetica,sans-Serif\" font-size=\"14.00\">samples = 2480</text>\n",
       "<text text-anchor=\"start\" x=\"160.5\" y=\"-375.3\" font-family=\"Helvetica,sans-Serif\" font-size=\"14.00\">value = 44.903</text>\n",
       "</g>\n",
       "<!-- 0&#45;&gt;8 -->\n",
       "<g id=\"edge8\" class=\"edge\"><title>0&#45;&gt;8</title>\n",
       "<path fill=\"none\" stroke=\"black\" d=\"M113.074,-432.597C121.581,-429.704 130.428,-426.694 139.123,-423.737\"/>\n",
       "<polygon fill=\"black\" stroke=\"black\" points=\"140.507,-426.963 148.847,-420.43 138.253,-420.336 140.507,-426.963\"/>\n",
       "<text text-anchor=\"middle\" x=\"126.418\" y=\"-405.686\" font-family=\"Helvetica,sans-Serif\" font-size=\"14.00\">False</text>\n",
       "</g>\n",
       "<!-- 2 -->\n",
       "<g id=\"node3\" class=\"node\"><title>2</title>\n",
       "<path fill=\"#e58139\" fill-opacity=\"0.011765\" stroke=\"black\" d=\"M395.5,-628.5C395.5,-628.5 313.5,-628.5 313.5,-628.5 307.5,-628.5 301.5,-622.5 301.5,-616.5 301.5,-616.5 301.5,-572.5 301.5,-572.5 301.5,-566.5 307.5,-560.5 313.5,-560.5 313.5,-560.5 395.5,-560.5 395.5,-560.5 401.5,-560.5 407.5,-566.5 407.5,-572.5 407.5,-572.5 407.5,-616.5 407.5,-616.5 407.5,-622.5 401.5,-628.5 395.5,-628.5\"/>\n",
       "<text text-anchor=\"start\" x=\"323.5\" y=\"-613.3\" font-family=\"Helvetica,sans-Serif\" font-size=\"14.00\">hour ≤ 0.5</text>\n",
       "<text text-anchor=\"start\" x=\"312.5\" y=\"-598.3\" font-family=\"Helvetica,sans-Serif\" font-size=\"14.00\">mse = 15.427</text>\n",
       "<text text-anchor=\"start\" x=\"309.5\" y=\"-583.3\" font-family=\"Helvetica,sans-Serif\" font-size=\"14.00\">samples = 372</text>\n",
       "<text text-anchor=\"start\" x=\"309.5\" y=\"-568.3\" font-family=\"Helvetica,sans-Serif\" font-size=\"14.00\">value = 30.234</text>\n",
       "</g>\n",
       "<!-- 1&#45;&gt;2 -->\n",
       "<g id=\"edge2\" class=\"edge\"><title>1&#45;&gt;2</title>\n",
       "<path fill=\"none\" stroke=\"black\" d=\"M258.741,-534.55C269.788,-541.54 281.537,-548.973 292.866,-556.139\"/>\n",
       "<polygon fill=\"black\" stroke=\"black\" points=\"291.106,-559.168 301.428,-561.556 294.848,-553.252 291.106,-559.168\"/>\n",
       "</g>\n",
       "<!-- 7 -->\n",
       "<g id=\"node8\" class=\"node\"><title>7</title>\n",
       "<path fill=\"#e58139\" fill-opacity=\"0.164706\" stroke=\"black\" d=\"M395.5,-528C395.5,-528 313.5,-528 313.5,-528 307.5,-528 301.5,-522 301.5,-516 301.5,-516 301.5,-487 301.5,-487 301.5,-481 307.5,-475 313.5,-475 313.5,-475 395.5,-475 395.5,-475 401.5,-475 407.5,-481 407.5,-487 407.5,-487 407.5,-516 407.5,-516 407.5,-522 401.5,-528 395.5,-528\"/>\n",
       "<text text-anchor=\"start\" x=\"312.5\" y=\"-512.8\" font-family=\"Helvetica,sans-Serif\" font-size=\"14.00\">mse = 28.251</text>\n",
       "<text text-anchor=\"start\" x=\"309.5\" y=\"-497.8\" font-family=\"Helvetica,sans-Serif\" font-size=\"14.00\">samples = 124</text>\n",
       "<text text-anchor=\"start\" x=\"309.5\" y=\"-482.8\" font-family=\"Helvetica,sans-Serif\" font-size=\"14.00\">value = 33.389</text>\n",
       "</g>\n",
       "<!-- 1&#45;&gt;7 -->\n",
       "<g id=\"edge7\" class=\"edge\"><title>1&#45;&gt;7</title>\n",
       "<path fill=\"none\" stroke=\"black\" d=\"M258.741,-501.5C269.247,-501.5 280.387,-501.5 291.197,-501.5\"/>\n",
       "<polygon fill=\"black\" stroke=\"black\" points=\"291.428,-505 301.428,-501.5 291.428,-498 291.428,-505\"/>\n",
       "</g>\n",
       "<!-- 3 -->\n",
       "<g id=\"node4\" class=\"node\"><title>3</title>\n",
       "<path fill=\"none\" stroke=\"black\" d=\"M544.5,-700C544.5,-700 462.5,-700 462.5,-700 456.5,-700 450.5,-694 450.5,-688 450.5,-688 450.5,-659 450.5,-659 450.5,-653 456.5,-647 462.5,-647 462.5,-647 544.5,-647 544.5,-647 550.5,-647 556.5,-653 556.5,-659 556.5,-659 556.5,-688 556.5,-688 556.5,-694 550.5,-700 544.5,-700\"/>\n",
       "<text text-anchor=\"start\" x=\"461.5\" y=\"-684.8\" font-family=\"Helvetica,sans-Serif\" font-size=\"14.00\">mse = 13.546</text>\n",
       "<text text-anchor=\"start\" x=\"458.5\" y=\"-669.8\" font-family=\"Helvetica,sans-Serif\" font-size=\"14.00\">samples = 124</text>\n",
       "<text text-anchor=\"start\" x=\"458.5\" y=\"-654.8\" font-family=\"Helvetica,sans-Serif\" font-size=\"14.00\">value = 29.996</text>\n",
       "</g>\n",
       "<!-- 2&#45;&gt;3 -->\n",
       "<g id=\"edge3\" class=\"edge\"><title>2&#45;&gt;3</title>\n",
       "<path fill=\"none\" stroke=\"black\" d=\"M407.741,-622.575C419.446,-628.866 431.939,-635.579 443.884,-641.999\"/>\n",
       "<polygon fill=\"black\" stroke=\"black\" points=\"442.424,-645.188 452.889,-646.839 445.738,-639.022 442.424,-645.188\"/>\n",
       "</g>\n",
       "<!-- 4 -->\n",
       "<g id=\"node5\" class=\"node\"><title>4</title>\n",
       "<path fill=\"#e58139\" fill-opacity=\"0.015686\" stroke=\"black\" d=\"M544.5,-628.5C544.5,-628.5 462.5,-628.5 462.5,-628.5 456.5,-628.5 450.5,-622.5 450.5,-616.5 450.5,-616.5 450.5,-572.5 450.5,-572.5 450.5,-566.5 456.5,-560.5 462.5,-560.5 462.5,-560.5 544.5,-560.5 544.5,-560.5 550.5,-560.5 556.5,-566.5 556.5,-572.5 556.5,-572.5 556.5,-616.5 556.5,-616.5 556.5,-622.5 550.5,-628.5 544.5,-628.5\"/>\n",
       "<text text-anchor=\"start\" x=\"472.5\" y=\"-613.3\" font-family=\"Helvetica,sans-Serif\" font-size=\"14.00\">hour ≤ 1.5</text>\n",
       "<text text-anchor=\"start\" x=\"461.5\" y=\"-598.3\" font-family=\"Helvetica,sans-Serif\" font-size=\"14.00\">mse = 16.324</text>\n",
       "<text text-anchor=\"start\" x=\"458.5\" y=\"-583.3\" font-family=\"Helvetica,sans-Serif\" font-size=\"14.00\">samples = 248</text>\n",
       "<text text-anchor=\"start\" x=\"458.5\" y=\"-568.3\" font-family=\"Helvetica,sans-Serif\" font-size=\"14.00\">value = 30.353</text>\n",
       "</g>\n",
       "<!-- 2&#45;&gt;4 -->\n",
       "<g id=\"edge4\" class=\"edge\"><title>2&#45;&gt;4</title>\n",
       "<path fill=\"none\" stroke=\"black\" d=\"M407.741,-594.5C418.247,-594.5 429.387,-594.5 440.197,-594.5\"/>\n",
       "<polygon fill=\"black\" stroke=\"black\" points=\"440.428,-598 450.428,-594.5 440.428,-591 440.428,-598\"/>\n",
       "</g>\n",
       "<!-- 5 -->\n",
       "<g id=\"node6\" class=\"node\"><title>5</title>\n",
       "<path fill=\"#e58139\" fill-opacity=\"0.011765\" stroke=\"black\" d=\"M690.5,-692C690.5,-692 608.5,-692 608.5,-692 602.5,-692 596.5,-686 596.5,-680 596.5,-680 596.5,-651 596.5,-651 596.5,-645 602.5,-639 608.5,-639 608.5,-639 690.5,-639 690.5,-639 696.5,-639 702.5,-645 702.5,-651 702.5,-651 702.5,-680 702.5,-680 702.5,-686 696.5,-692 690.5,-692\"/>\n",
       "<text text-anchor=\"start\" x=\"607.5\" y=\"-676.8\" font-family=\"Helvetica,sans-Serif\" font-size=\"14.00\">mse = 14.863</text>\n",
       "<text text-anchor=\"start\" x=\"604.5\" y=\"-661.8\" font-family=\"Helvetica,sans-Serif\" font-size=\"14.00\">samples = 124</text>\n",
       "<text text-anchor=\"start\" x=\"604.5\" y=\"-646.8\" font-family=\"Helvetica,sans-Serif\" font-size=\"14.00\">value = 30.275</text>\n",
       "</g>\n",
       "<!-- 4&#45;&gt;5 -->\n",
       "<g id=\"edge5\" class=\"edge\"><title>4&#45;&gt;5</title>\n",
       "<path fill=\"none\" stroke=\"black\" d=\"M556.895,-620.333C566.746,-625.191 577.127,-630.309 587.22,-635.286\"/>\n",
       "<polygon fill=\"black\" stroke=\"black\" points=\"585.869,-638.522 596.385,-639.805 588.964,-632.243 585.869,-638.522\"/>\n",
       "</g>\n",
       "<!-- 6 -->\n",
       "<g id=\"node7\" class=\"node\"><title>6</title>\n",
       "<path fill=\"#e58139\" fill-opacity=\"0.019608\" stroke=\"black\" d=\"M690.5,-621C690.5,-621 608.5,-621 608.5,-621 602.5,-621 596.5,-615 596.5,-609 596.5,-609 596.5,-580 596.5,-580 596.5,-574 602.5,-568 608.5,-568 608.5,-568 690.5,-568 690.5,-568 696.5,-568 702.5,-574 702.5,-580 702.5,-580 702.5,-609 702.5,-609 702.5,-615 696.5,-621 690.5,-621\"/>\n",
       "<text text-anchor=\"start\" x=\"607.5\" y=\"-605.8\" font-family=\"Helvetica,sans-Serif\" font-size=\"14.00\">mse = 17.773</text>\n",
       "<text text-anchor=\"start\" x=\"604.5\" y=\"-590.8\" font-family=\"Helvetica,sans-Serif\" font-size=\"14.00\">samples = 124</text>\n",
       "<text text-anchor=\"start\" x=\"604.5\" y=\"-575.8\" font-family=\"Helvetica,sans-Serif\" font-size=\"14.00\">value = 30.431</text>\n",
       "</g>\n",
       "<!-- 4&#45;&gt;6 -->\n",
       "<g id=\"edge6\" class=\"edge\"><title>4&#45;&gt;6</title>\n",
       "<path fill=\"none\" stroke=\"black\" d=\"M556.895,-594.5C566.444,-594.5 576.492,-594.5 586.292,-594.5\"/>\n",
       "<polygon fill=\"black\" stroke=\"black\" points=\"586.385,-598 596.385,-594.5 586.385,-591 586.385,-598\"/>\n",
       "</g>\n",
       "<!-- 9 -->\n",
       "<g id=\"node10\" class=\"node\"><title>9</title>\n",
       "<path fill=\"#e58139\" fill-opacity=\"0.847059\" stroke=\"black\" d=\"M399,-435.5C399,-435.5 310,-435.5 310,-435.5 304,-435.5 298,-429.5 298,-423.5 298,-423.5 298,-379.5 298,-379.5 298,-373.5 304,-367.5 310,-367.5 310,-367.5 399,-367.5 399,-367.5 405,-367.5 411,-373.5 411,-379.5 411,-379.5 411,-423.5 411,-423.5 411,-429.5 405,-435.5 399,-435.5\"/>\n",
       "<text text-anchor=\"start\" x=\"323.5\" y=\"-420.3\" font-family=\"Helvetica,sans-Serif\" font-size=\"14.00\">hour ≤ 8.5</text>\n",
       "<text text-anchor=\"start\" x=\"309\" y=\"-405.3\" font-family=\"Helvetica,sans-Serif\" font-size=\"14.00\">mse = 130.505</text>\n",
       "<text text-anchor=\"start\" x=\"306\" y=\"-390.3\" font-family=\"Helvetica,sans-Serif\" font-size=\"14.00\">samples = 1736</text>\n",
       "<text text-anchor=\"start\" x=\"309.5\" y=\"-375.3\" font-family=\"Helvetica,sans-Serif\" font-size=\"14.00\">value = 47.527</text>\n",
       "</g>\n",
       "<!-- 8&#45;&gt;9 -->\n",
       "<g id=\"edge9\" class=\"edge\"><title>8&#45;&gt;9</title>\n",
       "<path fill=\"none\" stroke=\"black\" d=\"M262.074,-401.5C270.489,-401.5 279.238,-401.5 287.842,-401.5\"/>\n",
       "<polygon fill=\"black\" stroke=\"black\" points=\"287.847,-405 297.847,-401.5 287.847,-398 287.847,-405\"/>\n",
       "</g>\n",
       "<!-- 16 -->\n",
       "<g id=\"node17\" class=\"node\"><title>16</title>\n",
       "<path fill=\"#e58139\" fill-opacity=\"0.423529\" stroke=\"black\" d=\"M396,-245.5C396,-245.5 313,-245.5 313,-245.5 307,-245.5 301,-239.5 301,-233.5 301,-233.5 301,-189.5 301,-189.5 301,-183.5 307,-177.5 313,-177.5 313,-177.5 396,-177.5 396,-177.5 402,-177.5 408,-183.5 408,-189.5 408,-189.5 408,-233.5 408,-233.5 408,-239.5 402,-245.5 396,-245.5\"/>\n",
       "<text text-anchor=\"start\" x=\"319.5\" y=\"-230.3\" font-family=\"Helvetica,sans-Serif\" font-size=\"14.00\">hour ≤ 21.5</text>\n",
       "<text text-anchor=\"start\" x=\"309\" y=\"-215.3\" font-family=\"Helvetica,sans-Serif\" font-size=\"14.00\">mse = 110.473</text>\n",
       "<text text-anchor=\"start\" x=\"309.5\" y=\"-200.3\" font-family=\"Helvetica,sans-Serif\" font-size=\"14.00\">samples = 744</text>\n",
       "<text text-anchor=\"start\" x=\"309.5\" y=\"-185.3\" font-family=\"Helvetica,sans-Serif\" font-size=\"14.00\">value = 38.781</text>\n",
       "</g>\n",
       "<!-- 8&#45;&gt;16 -->\n",
       "<g id=\"edge16\" class=\"edge\"><title>8&#45;&gt;16</title>\n",
       "<path fill=\"none\" stroke=\"black\" d=\"M233.121,-367.092C257.785,-335.214 294.536,-287.712 320.939,-253.586\"/>\n",
       "<polygon fill=\"black\" stroke=\"black\" points=\"323.726,-255.703 327.077,-245.652 318.19,-251.419 323.726,-255.703\"/>\n",
       "</g>\n",
       "<!-- 10 -->\n",
       "<g id=\"node11\" class=\"node\"><title>10</title>\n",
       "<path fill=\"#e58139\" fill-opacity=\"0.611765\" stroke=\"black\" d=\"M545,-494.5C545,-494.5 462,-494.5 462,-494.5 456,-494.5 450,-488.5 450,-482.5 450,-482.5 450,-438.5 450,-438.5 450,-432.5 456,-426.5 462,-426.5 462,-426.5 545,-426.5 545,-426.5 551,-426.5 557,-432.5 557,-438.5 557,-438.5 557,-482.5 557,-482.5 557,-488.5 551,-494.5 545,-494.5\"/>\n",
       "<text text-anchor=\"start\" x=\"472.5\" y=\"-479.3\" font-family=\"Helvetica,sans-Serif\" font-size=\"14.00\">hour ≤ 5.5</text>\n",
       "<text text-anchor=\"start\" x=\"458\" y=\"-464.3\" font-family=\"Helvetica,sans-Serif\" font-size=\"14.00\">mse = 101.674</text>\n",
       "<text text-anchor=\"start\" x=\"458.5\" y=\"-449.3\" font-family=\"Helvetica,sans-Serif\" font-size=\"14.00\">samples = 620</text>\n",
       "<text text-anchor=\"start\" x=\"462.5\" y=\"-434.3\" font-family=\"Helvetica,sans-Serif\" font-size=\"14.00\">value = 42.67</text>\n",
       "</g>\n",
       "<!-- 9&#45;&gt;10 -->\n",
       "<g id=\"edge10\" class=\"edge\"><title>9&#45;&gt;10</title>\n",
       "<path fill=\"none\" stroke=\"black\" d=\"M411.074,-423.805C420.587,-427.623 430.526,-431.613 440.2,-435.495\"/>\n",
       "<polygon fill=\"black\" stroke=\"black\" points=\"439.176,-438.856 449.761,-439.332 441.784,-432.359 439.176,-438.856\"/>\n",
       "</g>\n",
       "<!-- 13 -->\n",
       "<g id=\"node14\" class=\"node\"><title>13</title>\n",
       "<path fill=\"#e58139\" fill-opacity=\"0.976471\" stroke=\"black\" d=\"M548,-408.5C548,-408.5 459,-408.5 459,-408.5 453,-408.5 447,-402.5 447,-396.5 447,-396.5 447,-352.5 447,-352.5 447,-346.5 453,-340.5 459,-340.5 459,-340.5 548,-340.5 548,-340.5 554,-340.5 560,-346.5 560,-352.5 560,-352.5 560,-396.5 560,-396.5 560,-402.5 554,-408.5 548,-408.5\"/>\n",
       "<text text-anchor=\"start\" x=\"468.5\" y=\"-393.3\" font-family=\"Helvetica,sans-Serif\" font-size=\"14.00\">hour ≤ 16.5</text>\n",
       "<text text-anchor=\"start\" x=\"458\" y=\"-378.3\" font-family=\"Helvetica,sans-Serif\" font-size=\"14.00\">mse = 126.129</text>\n",
       "<text text-anchor=\"start\" x=\"455\" y=\"-363.3\" font-family=\"Helvetica,sans-Serif\" font-size=\"14.00\">samples = 1116</text>\n",
       "<text text-anchor=\"start\" x=\"458.5\" y=\"-348.3\" font-family=\"Helvetica,sans-Serif\" font-size=\"14.00\">value = 50.226</text>\n",
       "</g>\n",
       "<!-- 9&#45;&gt;13 -->\n",
       "<g id=\"edge13\" class=\"edge\"><title>9&#45;&gt;13</title>\n",
       "<path fill=\"none\" stroke=\"black\" d=\"M411.074,-391.292C419.489,-389.747 428.238,-388.14 436.842,-386.56\"/>\n",
       "<polygon fill=\"black\" stroke=\"black\" points=\"437.644,-389.971 446.847,-384.722 436.379,-383.086 437.644,-389.971\"/>\n",
       "</g>\n",
       "<!-- 11 -->\n",
       "<g id=\"node12\" class=\"node\"><title>11</title>\n",
       "<path fill=\"#e58139\" fill-opacity=\"0.501961\" stroke=\"black\" d=\"M690.5,-550C690.5,-550 608.5,-550 608.5,-550 602.5,-550 596.5,-544 596.5,-538 596.5,-538 596.5,-509 596.5,-509 596.5,-503 602.5,-497 608.5,-497 608.5,-497 690.5,-497 690.5,-497 696.5,-497 702.5,-503 702.5,-509 702.5,-509 702.5,-538 702.5,-538 702.5,-544 696.5,-550 690.5,-550\"/>\n",
       "<text text-anchor=\"start\" x=\"607.5\" y=\"-534.8\" font-family=\"Helvetica,sans-Serif\" font-size=\"14.00\">mse = 74.689</text>\n",
       "<text text-anchor=\"start\" x=\"604.5\" y=\"-519.8\" font-family=\"Helvetica,sans-Serif\" font-size=\"14.00\">samples = 248</text>\n",
       "<text text-anchor=\"start\" x=\"604.5\" y=\"-504.8\" font-family=\"Helvetica,sans-Serif\" font-size=\"14.00\">value = 40.398</text>\n",
       "</g>\n",
       "<!-- 10&#45;&gt;11 -->\n",
       "<g id=\"edge11\" class=\"edge\"><title>10&#45;&gt;11</title>\n",
       "<path fill=\"none\" stroke=\"black\" d=\"M557.303,-483.601C566.914,-487.806 577.017,-492.226 586.856,-496.531\"/>\n",
       "<polygon fill=\"black\" stroke=\"black\" points=\"585.62,-499.81 596.185,-500.612 588.426,-493.397 585.62,-499.81\"/>\n",
       "</g>\n",
       "<!-- 12 -->\n",
       "<g id=\"node13\" class=\"node\"><title>12</title>\n",
       "<path fill=\"#e58139\" fill-opacity=\"0.686275\" stroke=\"black\" d=\"M691,-479C691,-479 608,-479 608,-479 602,-479 596,-473 596,-467 596,-467 596,-438 596,-438 596,-432 602,-426 608,-426 608,-426 691,-426 691,-426 697,-426 703,-432 703,-438 703,-438 703,-467 703,-467 703,-473 697,-479 691,-479\"/>\n",
       "<text text-anchor=\"start\" x=\"604\" y=\"-463.8\" font-family=\"Helvetica,sans-Serif\" font-size=\"14.00\">mse = 113.933</text>\n",
       "<text text-anchor=\"start\" x=\"604.5\" y=\"-448.8\" font-family=\"Helvetica,sans-Serif\" font-size=\"14.00\">samples = 372</text>\n",
       "<text text-anchor=\"start\" x=\"604.5\" y=\"-433.8\" font-family=\"Helvetica,sans-Serif\" font-size=\"14.00\">value = 44.184</text>\n",
       "</g>\n",
       "<!-- 10&#45;&gt;12 -->\n",
       "<g id=\"edge12\" class=\"edge\"><title>10&#45;&gt;12</title>\n",
       "<path fill=\"none\" stroke=\"black\" d=\"M557.303,-457.567C566.498,-457.056 576.145,-456.52 585.58,-455.996\"/>\n",
       "<polygon fill=\"black\" stroke=\"black\" points=\"585.913,-459.483 595.704,-455.433 585.525,-452.493 585.913,-459.483\"/>\n",
       "</g>\n",
       "<!-- 14 -->\n",
       "<g id=\"node15\" class=\"node\"><title>14</title>\n",
       "<path fill=\"#e58139\" stroke=\"black\" d=\"M691,-408C691,-408 608,-408 608,-408 602,-408 596,-402 596,-396 596,-396 596,-367 596,-367 596,-361 602,-355 608,-355 608,-355 691,-355 691,-355 697,-355 703,-361 703,-367 703,-367 703,-396 703,-396 703,-402 697,-408 691,-408\"/>\n",
       "<text text-anchor=\"start\" x=\"604\" y=\"-392.8\" font-family=\"Helvetica,sans-Serif\" font-size=\"14.00\">mse = 129.689</text>\n",
       "<text text-anchor=\"start\" x=\"604.5\" y=\"-377.8\" font-family=\"Helvetica,sans-Serif\" font-size=\"14.00\">samples = 992</text>\n",
       "<text text-anchor=\"start\" x=\"604.5\" y=\"-362.8\" font-family=\"Helvetica,sans-Serif\" font-size=\"14.00\">value = 50.715</text>\n",
       "</g>\n",
       "<!-- 13&#45;&gt;14 -->\n",
       "<g id=\"edge14\" class=\"edge\"><title>13&#45;&gt;14</title>\n",
       "<path fill=\"none\" stroke=\"black\" d=\"M560.174,-377.206C568.502,-377.611 577.137,-378.031 585.601,-378.442\"/>\n",
       "<polygon fill=\"black\" stroke=\"black\" points=\"585.651,-381.949 595.809,-378.939 585.991,-374.957 585.651,-381.949\"/>\n",
       "</g>\n",
       "<!-- 15 -->\n",
       "<g id=\"node16\" class=\"node\"><title>15</title>\n",
       "<path fill=\"#e58139\" fill-opacity=\"0.788235\" stroke=\"black\" d=\"M690.5,-337C690.5,-337 608.5,-337 608.5,-337 602.5,-337 596.5,-331 596.5,-325 596.5,-325 596.5,-296 596.5,-296 596.5,-290 602.5,-284 608.5,-284 608.5,-284 690.5,-284 690.5,-284 696.5,-284 702.5,-290 702.5,-296 702.5,-296 702.5,-325 702.5,-325 702.5,-331 696.5,-337 690.5,-337\"/>\n",
       "<text text-anchor=\"start\" x=\"607.5\" y=\"-321.8\" font-family=\"Helvetica,sans-Serif\" font-size=\"14.00\">mse = 80.416</text>\n",
       "<text text-anchor=\"start\" x=\"604.5\" y=\"-306.8\" font-family=\"Helvetica,sans-Serif\" font-size=\"14.00\">samples = 124</text>\n",
       "<text text-anchor=\"start\" x=\"604.5\" y=\"-291.8\" font-family=\"Helvetica,sans-Serif\" font-size=\"14.00\">value = 46.312</text>\n",
       "</g>\n",
       "<!-- 13&#45;&gt;15 -->\n",
       "<g id=\"edge15\" class=\"edge\"><title>13&#45;&gt;15</title>\n",
       "<path fill=\"none\" stroke=\"black\" d=\"M560.174,-349.756C568.985,-345.84 578.14,-341.771 587.074,-337.801\"/>\n",
       "<polygon fill=\"black\" stroke=\"black\" points=\"588.562,-340.969 596.279,-333.709 585.719,-334.572 588.562,-340.969\"/>\n",
       "</g>\n",
       "<!-- 17 -->\n",
       "<g id=\"node18\" class=\"node\"><title>17</title>\n",
       "<path fill=\"#e58139\" fill-opacity=\"0.478431\" stroke=\"black\" d=\"M545,-245.5C545,-245.5 462,-245.5 462,-245.5 456,-245.5 450,-239.5 450,-233.5 450,-233.5 450,-189.5 450,-189.5 450,-183.5 456,-177.5 462,-177.5 462,-177.5 545,-177.5 545,-177.5 551,-177.5 557,-183.5 557,-189.5 557,-189.5 557,-233.5 557,-233.5 557,-239.5 551,-245.5 545,-245.5\"/>\n",
       "<text text-anchor=\"start\" x=\"468.5\" y=\"-230.3\" font-family=\"Helvetica,sans-Serif\" font-size=\"14.00\">hour ≤ 19.5</text>\n",
       "<text text-anchor=\"start\" x=\"458\" y=\"-215.3\" font-family=\"Helvetica,sans-Serif\" font-size=\"14.00\">mse = 111.643</text>\n",
       "<text text-anchor=\"start\" x=\"458.5\" y=\"-200.3\" font-family=\"Helvetica,sans-Serif\" font-size=\"14.00\">samples = 496</text>\n",
       "<text text-anchor=\"start\" x=\"458.5\" y=\"-185.3\" font-family=\"Helvetica,sans-Serif\" font-size=\"14.00\">value = 39.876</text>\n",
       "</g>\n",
       "<!-- 16&#45;&gt;17 -->\n",
       "<g id=\"edge17\" class=\"edge\"><title>16&#45;&gt;17</title>\n",
       "<path fill=\"none\" stroke=\"black\" d=\"M408.155,-211.5C418.288,-211.5 428.998,-211.5 439.422,-211.5\"/>\n",
       "<polygon fill=\"black\" stroke=\"black\" points=\"439.718,-215 449.718,-211.5 439.718,-208 439.718,-215\"/>\n",
       "</g>\n",
       "<!-- 20 -->\n",
       "<g id=\"node21\" class=\"node\"><title>20</title>\n",
       "<path fill=\"#e58139\" fill-opacity=\"0.317647\" stroke=\"black\" d=\"M544.5,-131.5C544.5,-131.5 462.5,-131.5 462.5,-131.5 456.5,-131.5 450.5,-125.5 450.5,-119.5 450.5,-119.5 450.5,-75.5 450.5,-75.5 450.5,-69.5 456.5,-63.5 462.5,-63.5 462.5,-63.5 544.5,-63.5 544.5,-63.5 550.5,-63.5 556.5,-69.5 556.5,-75.5 556.5,-75.5 556.5,-119.5 556.5,-119.5 556.5,-125.5 550.5,-131.5 544.5,-131.5\"/>\n",
       "<text text-anchor=\"start\" x=\"468.5\" y=\"-116.3\" font-family=\"Helvetica,sans-Serif\" font-size=\"14.00\">hour ≤ 22.5</text>\n",
       "<text text-anchor=\"start\" x=\"461.5\" y=\"-101.3\" font-family=\"Helvetica,sans-Serif\" font-size=\"14.00\">mse = 100.94</text>\n",
       "<text text-anchor=\"start\" x=\"458.5\" y=\"-86.3\" font-family=\"Helvetica,sans-Serif\" font-size=\"14.00\">samples = 248</text>\n",
       "<text text-anchor=\"start\" x=\"458.5\" y=\"-71.3\" font-family=\"Helvetica,sans-Serif\" font-size=\"14.00\">value = 36.591</text>\n",
       "</g>\n",
       "<!-- 16&#45;&gt;20 -->\n",
       "<g id=\"edge20\" class=\"edge\"><title>16&#45;&gt;20</title>\n",
       "<path fill=\"none\" stroke=\"black\" d=\"M399.605,-177.296C415.594,-164.897 433.805,-150.774 450.417,-137.891\"/>\n",
       "<polygon fill=\"black\" stroke=\"black\" points=\"452.669,-140.574 458.426,-131.68 448.379,-135.042 452.669,-140.574\"/>\n",
       "</g>\n",
       "<!-- 18 -->\n",
       "<g id=\"node19\" class=\"node\"><title>18</title>\n",
       "<path fill=\"#e58139\" fill-opacity=\"0.501961\" stroke=\"black\" d=\"M691,-266C691,-266 608,-266 608,-266 602,-266 596,-260 596,-254 596,-254 596,-225 596,-225 596,-219 602,-213 608,-213 608,-213 691,-213 691,-213 697,-213 703,-219 703,-225 703,-225 703,-254 703,-254 703,-260 697,-266 691,-266\"/>\n",
       "<text text-anchor=\"start\" x=\"604\" y=\"-250.8\" font-family=\"Helvetica,sans-Serif\" font-size=\"14.00\">mse = 112.903</text>\n",
       "<text text-anchor=\"start\" x=\"604.5\" y=\"-235.8\" font-family=\"Helvetica,sans-Serif\" font-size=\"14.00\">samples = 248</text>\n",
       "<text text-anchor=\"start\" x=\"604.5\" y=\"-220.8\" font-family=\"Helvetica,sans-Serif\" font-size=\"14.00\">value = 40.398</text>\n",
       "</g>\n",
       "<!-- 17&#45;&gt;18 -->\n",
       "<g id=\"edge18\" class=\"edge\"><title>17&#45;&gt;18</title>\n",
       "<path fill=\"none\" stroke=\"black\" d=\"M557.303,-221.767C566.596,-223.574 576.35,-225.471 585.881,-227.324\"/>\n",
       "<polygon fill=\"black\" stroke=\"black\" points=\"585.22,-230.761 595.704,-229.234 586.556,-223.89 585.22,-230.761\"/>\n",
       "</g>\n",
       "<!-- 19 -->\n",
       "<g id=\"node20\" class=\"node\"><title>19</title>\n",
       "<path fill=\"#e58139\" fill-opacity=\"0.450980\" stroke=\"black\" d=\"M691,-195C691,-195 608,-195 608,-195 602,-195 596,-189 596,-183 596,-183 596,-154 596,-154 596,-148 602,-142 608,-142 608,-142 691,-142 691,-142 697,-142 703,-148 703,-154 703,-154 703,-183 703,-183 703,-189 697,-195 691,-195\"/>\n",
       "<text text-anchor=\"start\" x=\"604\" y=\"-179.8\" font-family=\"Helvetica,sans-Serif\" font-size=\"14.00\">mse = 109.837</text>\n",
       "<text text-anchor=\"start\" x=\"604.5\" y=\"-164.8\" font-family=\"Helvetica,sans-Serif\" font-size=\"14.00\">samples = 248</text>\n",
       "<text text-anchor=\"start\" x=\"604.5\" y=\"-149.8\" font-family=\"Helvetica,sans-Serif\" font-size=\"14.00\">value = 39.354</text>\n",
       "</g>\n",
       "<!-- 17&#45;&gt;19 -->\n",
       "<g id=\"edge19\" class=\"edge\"><title>17&#45;&gt;19</title>\n",
       "<path fill=\"none\" stroke=\"black\" d=\"M557.303,-195.733C566.596,-192.957 576.35,-190.045 585.881,-187.199\"/>\n",
       "<polygon fill=\"black\" stroke=\"black\" points=\"587.123,-190.481 595.704,-184.266 585.12,-183.773 587.123,-190.481\"/>\n",
       "</g>\n",
       "<!-- 21 -->\n",
       "<g id=\"node22\" class=\"node\"><title>21</title>\n",
       "<path fill=\"#e58139\" fill-opacity=\"0.329412\" stroke=\"black\" d=\"M691,-124C691,-124 608,-124 608,-124 602,-124 596,-118 596,-112 596,-112 596,-83 596,-83 596,-77 602,-71 608,-71 608,-71 691,-71 691,-71 697,-71 703,-77 703,-83 703,-83 703,-112 703,-112 703,-118 697,-124 691,-124\"/>\n",
       "<text text-anchor=\"start\" x=\"604\" y=\"-108.8\" font-family=\"Helvetica,sans-Serif\" font-size=\"14.00\">mse = 103.663</text>\n",
       "<text text-anchor=\"start\" x=\"604.5\" y=\"-93.8\" font-family=\"Helvetica,sans-Serif\" font-size=\"14.00\">samples = 124</text>\n",
       "<text text-anchor=\"start\" x=\"604.5\" y=\"-78.8\" font-family=\"Helvetica,sans-Serif\" font-size=\"14.00\">value = 36.781</text>\n",
       "</g>\n",
       "<!-- 20&#45;&gt;21 -->\n",
       "<g id=\"edge21\" class=\"edge\"><title>20&#45;&gt;21</title>\n",
       "<path fill=\"none\" stroke=\"black\" d=\"M556.895,-97.5C566.225,-97.5 576.032,-97.5 585.619,-97.5\"/>\n",
       "<polygon fill=\"black\" stroke=\"black\" points=\"585.903,-101 595.903,-97.5 585.903,-94.0001 585.903,-101\"/>\n",
       "</g>\n",
       "<!-- 22 -->\n",
       "<g id=\"node23\" class=\"node\"><title>22</title>\n",
       "<path fill=\"#e58139\" fill-opacity=\"0.309804\" stroke=\"black\" d=\"M690.5,-53C690.5,-53 608.5,-53 608.5,-53 602.5,-53 596.5,-47 596.5,-41 596.5,-41 596.5,-12 596.5,-12 596.5,-6 602.5,-3.55271e-15 608.5,-3.55271e-15 608.5,-3.55271e-15 690.5,-3.55271e-15 690.5,-3.55271e-15 696.5,-3.55271e-15 702.5,-6 702.5,-12 702.5,-12 702.5,-41 702.5,-41 702.5,-47 696.5,-53 690.5,-53\"/>\n",
       "<text text-anchor=\"start\" x=\"607.5\" y=\"-37.8\" font-family=\"Helvetica,sans-Serif\" font-size=\"14.00\">mse = 98.145</text>\n",
       "<text text-anchor=\"start\" x=\"604.5\" y=\"-22.8\" font-family=\"Helvetica,sans-Serif\" font-size=\"14.00\">samples = 124</text>\n",
       "<text text-anchor=\"start\" x=\"604.5\" y=\"-7.8\" font-family=\"Helvetica,sans-Serif\" font-size=\"14.00\">value = 36.401</text>\n",
       "</g>\n",
       "<!-- 20&#45;&gt;22 -->\n",
       "<g id=\"edge22\" class=\"edge\"><title>20&#45;&gt;22</title>\n",
       "<path fill=\"none\" stroke=\"black\" d=\"M556.895,-71.6665C566.746,-66.8094 577.127,-61.691 587.22,-56.7143\"/>\n",
       "<polygon fill=\"black\" stroke=\"black\" points=\"588.964,-59.7568 596.385,-52.1954 585.869,-53.4785 588.964,-59.7568\"/>\n",
       "</g>\n",
       "</g>\n",
       "</svg>\n"
      ],
      "text/plain": [
       "<graphviz.files.Source at 0x7f6a52b13a90>"
      ]
     },
     "execution_count": 8,
     "metadata": {},
     "output_type": "execute_result"
    }
   ],
   "source": [
    "dot_data = tree.export_graphviz(clf3, out_file=None, \n",
    "                         feature_names=[\"hour\"],    \n",
    "                         filled=True, rounded=True,  \n",
    "                         special_characters=True,\n",
    "                               rotate=True)\n",
    "graph = graphviz.Source(dot_data) \n",
    "graph"
   ]
  },
  {
   "cell_type": "markdown",
   "metadata": {},
   "source": [
    "### Interpretation with respect to workday"
   ]
  },
  {
   "cell_type": "code",
   "execution_count": 9,
   "metadata": {},
   "outputs": [
    {
     "data": {
      "image/svg+xml": [
       "<?xml version=\"1.0\" encoding=\"UTF-8\" standalone=\"no\"?>\n",
       "<!DOCTYPE svg PUBLIC \"-//W3C//DTD SVG 1.1//EN\"\n",
       " \"http://www.w3.org/Graphics/SVG/1.1/DTD/svg11.dtd\">\n",
       "<!-- Generated by graphviz version 2.38.0 (20140413.2041)\n",
       " -->\n",
       "<!-- Title: Tree Pages: 1 -->\n",
       "<svg width=\"270pt\" height=\"132pt\"\n",
       " viewBox=\"0.00 0.00 270.00 132.00\" xmlns=\"http://www.w3.org/2000/svg\" xmlns:xlink=\"http://www.w3.org/1999/xlink\">\n",
       "<g id=\"graph0\" class=\"graph\" transform=\"scale(1 1) rotate(0) translate(4 128)\">\n",
       "<title>Tree</title>\n",
       "<polygon fill=\"white\" stroke=\"none\" points=\"-4,4 -4,-128 266,-128 266,4 -4,4\"/>\n",
       "<!-- 0 -->\n",
       "<g id=\"node1\" class=\"node\"><title>0</title>\n",
       "<path fill=\"#e58139\" fill-opacity=\"0.741176\" stroke=\"black\" d=\"M101,-95.5C101,-95.5 12,-95.5 12,-95.5 6,-95.5 0,-89.5 0,-83.5 0,-83.5 0,-39.5 0,-39.5 0,-33.5 6,-27.5 12,-27.5 12,-27.5 101,-27.5 101,-27.5 107,-27.5 113,-33.5 113,-39.5 113,-39.5 113,-83.5 113,-83.5 113,-89.5 107,-95.5 101,-95.5\"/>\n",
       "<text text-anchor=\"start\" x=\"14\" y=\"-80.3\" font-family=\"Helvetica,sans-Serif\" font-size=\"14.00\">workday ≤ 0.5</text>\n",
       "<text text-anchor=\"start\" x=\"14.5\" y=\"-65.3\" font-family=\"Helvetica,sans-Serif\" font-size=\"14.00\">mse = 147.31</text>\n",
       "<text text-anchor=\"start\" x=\"8\" y=\"-50.3\" font-family=\"Helvetica,sans-Serif\" font-size=\"14.00\">samples = 2976</text>\n",
       "<text text-anchor=\"start\" x=\"15.5\" y=\"-35.3\" font-family=\"Helvetica,sans-Serif\" font-size=\"14.00\">value = 42.59</text>\n",
       "</g>\n",
       "<!-- 1 -->\n",
       "<g id=\"node2\" class=\"node\"><title>1</title>\n",
       "<path fill=\"none\" stroke=\"black\" d=\"M247,-124C247,-124 164,-124 164,-124 158,-124 152,-118 152,-112 152,-112 152,-83 152,-83 152,-77 158,-71 164,-71 164,-71 247,-71 247,-71 253,-71 259,-77 259,-83 259,-83 259,-112 259,-112 259,-118 253,-124 247,-124\"/>\n",
       "<text text-anchor=\"start\" x=\"160\" y=\"-108.8\" font-family=\"Helvetica,sans-Serif\" font-size=\"14.00\">mse = 127.554</text>\n",
       "<text text-anchor=\"start\" x=\"160.5\" y=\"-93.8\" font-family=\"Helvetica,sans-Serif\" font-size=\"14.00\">samples = 768</text>\n",
       "<text text-anchor=\"start\" x=\"160.5\" y=\"-78.8\" font-family=\"Helvetica,sans-Serif\" font-size=\"14.00\">value = 40.655</text>\n",
       "</g>\n",
       "<!-- 0&#45;&gt;1 -->\n",
       "<g id=\"edge1\" class=\"edge\"><title>0&#45;&gt;1</title>\n",
       "<path fill=\"none\" stroke=\"black\" d=\"M113.074,-75.1101C122.488,-77.4154 132.319,-79.8231 141.898,-82.1689\"/>\n",
       "<polygon fill=\"black\" stroke=\"black\" points=\"141.215,-85.605 151.761,-84.5842 142.88,-78.8059 141.215,-85.605\"/>\n",
       "<text text-anchor=\"middle\" x=\"130.385\" y=\"-93.8495\" font-family=\"Helvetica,sans-Serif\" font-size=\"14.00\">True</text>\n",
       "</g>\n",
       "<!-- 2 -->\n",
       "<g id=\"node3\" class=\"node\"><title>2</title>\n",
       "<path fill=\"#e58139\" stroke=\"black\" d=\"M250,-53C250,-53 161,-53 161,-53 155,-53 149,-47 149,-41 149,-41 149,-12 149,-12 149,-6 155,-0 161,-0 161,-0 250,-0 250,-0 256,-0 262,-6 262,-12 262,-12 262,-41 262,-41 262,-47 256,-53 250,-53\"/>\n",
       "<text text-anchor=\"start\" x=\"160\" y=\"-37.8\" font-family=\"Helvetica,sans-Serif\" font-size=\"14.00\">mse = 152.425</text>\n",
       "<text text-anchor=\"start\" x=\"157\" y=\"-22.8\" font-family=\"Helvetica,sans-Serif\" font-size=\"14.00\">samples = 2208</text>\n",
       "<text text-anchor=\"start\" x=\"160.5\" y=\"-7.8\" font-family=\"Helvetica,sans-Serif\" font-size=\"14.00\">value = 43.263</text>\n",
       "</g>\n",
       "<!-- 0&#45;&gt;2 -->\n",
       "<g id=\"edge2\" class=\"edge\"><title>0&#45;&gt;2</title>\n",
       "<path fill=\"none\" stroke=\"black\" d=\"M113.074,-48.268C121.489,-46.2644 130.238,-44.1814 138.842,-42.1328\"/>\n",
       "<polygon fill=\"black\" stroke=\"black\" points=\"139.93,-45.4718 148.847,-39.7507 138.308,-38.6622 139.93,-45.4718\"/>\n",
       "<text text-anchor=\"middle\" x=\"127.556\" y=\"-22.9483\" font-family=\"Helvetica,sans-Serif\" font-size=\"14.00\">False</text>\n",
       "</g>\n",
       "</g>\n",
       "</svg>\n"
      ],
      "text/plain": [
       "<graphviz.files.Source at 0x7f6a52b13ad0>"
      ]
     },
     "execution_count": 9,
     "metadata": {},
     "output_type": "execute_result"
    }
   ],
   "source": [
    "dot_data = tree.export_graphviz(clf4, out_file=None, \n",
    "                         feature_names=[\"workday\"],    \n",
    "                         filled=True, rounded=True,  \n",
    "                         special_characters=True,\n",
    "                               rotate=True)\n",
    "graph = graphviz.Source(dot_data) \n",
    "graph"
   ]
  },
  {
   "cell_type": "markdown",
   "metadata": {},
   "source": [
    "### Interpretation with respect to temperature,day,hour, workday or not"
   ]
  },
  {
   "cell_type": "code",
   "execution_count": 10,
   "metadata": {},
   "outputs": [
    {
     "data": {
      "image/svg+xml": [
       "<?xml version=\"1.0\" encoding=\"UTF-8\" standalone=\"no\"?>\n",
       "<!DOCTYPE svg PUBLIC \"-//W3C//DTD SVG 1.1//EN\"\n",
       " \"http://www.w3.org/Graphics/SVG/1.1/DTD/svg11.dtd\">\n",
       "<!-- Generated by graphviz version 2.38.0 (20140413.2041)\n",
       " -->\n",
       "<!-- Title: Tree Pages: 1 -->\n",
       "<svg width=\"741pt\" height=\"984pt\"\n",
       " viewBox=\"0.00 0.00 741.00 984.00\" xmlns=\"http://www.w3.org/2000/svg\" xmlns:xlink=\"http://www.w3.org/1999/xlink\">\n",
       "<g id=\"graph0\" class=\"graph\" transform=\"scale(1 1) rotate(0) translate(4 980)\">\n",
       "<title>Tree</title>\n",
       "<polygon fill=\"white\" stroke=\"none\" points=\"-4,4 -4,-980 737,-980 737,4 -4,4\"/>\n",
       "<!-- 0 -->\n",
       "<g id=\"node1\" class=\"node\"><title>0</title>\n",
       "<path fill=\"#e58139\" fill-opacity=\"0.572549\" stroke=\"black\" d=\"M101,-514.5C101,-514.5 12,-514.5 12,-514.5 6,-514.5 0,-508.5 0,-502.5 0,-502.5 0,-458.5 0,-458.5 0,-452.5 6,-446.5 12,-446.5 12,-446.5 101,-446.5 101,-446.5 107,-446.5 113,-452.5 113,-458.5 113,-458.5 113,-502.5 113,-502.5 113,-508.5 107,-514.5 101,-514.5\"/>\n",
       "<text text-anchor=\"start\" x=\"24.5\" y=\"-499.3\" font-family=\"Helvetica,sans-Serif\" font-size=\"14.00\">Hour ≤ 3.5</text>\n",
       "<text text-anchor=\"start\" x=\"14.5\" y=\"-484.3\" font-family=\"Helvetica,sans-Serif\" font-size=\"14.00\">mse = 147.31</text>\n",
       "<text text-anchor=\"start\" x=\"8\" y=\"-469.3\" font-family=\"Helvetica,sans-Serif\" font-size=\"14.00\">samples = 2976</text>\n",
       "<text text-anchor=\"start\" x=\"15.5\" y=\"-454.3\" font-family=\"Helvetica,sans-Serif\" font-size=\"14.00\">value = 42.59</text>\n",
       "</g>\n",
       "<!-- 1 -->\n",
       "<g id=\"node2\" class=\"node\"><title>1</title>\n",
       "<path fill=\"#e58139\" fill-opacity=\"0.125490\" stroke=\"black\" d=\"M246.5,-578.5C246.5,-578.5 164.5,-578.5 164.5,-578.5 158.5,-578.5 152.5,-572.5 152.5,-566.5 152.5,-566.5 152.5,-522.5 152.5,-522.5 152.5,-516.5 158.5,-510.5 164.5,-510.5 164.5,-510.5 246.5,-510.5 246.5,-510.5 252.5,-510.5 258.5,-516.5 258.5,-522.5 258.5,-522.5 258.5,-566.5 258.5,-566.5 258.5,-572.5 252.5,-578.5 246.5,-578.5\"/>\n",
       "<text text-anchor=\"start\" x=\"172\" y=\"-563.3\" font-family=\"Helvetica,sans-Serif\" font-size=\"14.00\">Day ≤ 30.5</text>\n",
       "<text text-anchor=\"start\" x=\"163.5\" y=\"-548.3\" font-family=\"Helvetica,sans-Serif\" font-size=\"14.00\">mse = 20.499</text>\n",
       "<text text-anchor=\"start\" x=\"160.5\" y=\"-533.3\" font-family=\"Helvetica,sans-Serif\" font-size=\"14.00\">samples = 496</text>\n",
       "<text text-anchor=\"start\" x=\"160.5\" y=\"-518.3\" font-family=\"Helvetica,sans-Serif\" font-size=\"14.00\">value = 31.023</text>\n",
       "</g>\n",
       "<!-- 0&#45;&gt;1 -->\n",
       "<g id=\"edge1\" class=\"edge\"><title>0&#45;&gt;1</title>\n",
       "<path fill=\"none\" stroke=\"black\" d=\"M113.074,-504.696C122.809,-508.934 132.991,-513.367 142.878,-517.671\"/>\n",
       "<polygon fill=\"black\" stroke=\"black\" points=\"141.677,-520.966 152.243,-521.749 144.472,-514.548 141.677,-520.966\"/>\n",
       "<text text-anchor=\"middle\" x=\"128.978\" y=\"-527.2\" font-family=\"Helvetica,sans-Serif\" font-size=\"14.00\">True</text>\n",
       "</g>\n",
       "<!-- 14 -->\n",
       "<g id=\"node15\" class=\"node\"><title>14</title>\n",
       "<path fill=\"#e58139\" fill-opacity=\"0.662745\" stroke=\"black\" d=\"M250,-450.5C250,-450.5 161,-450.5 161,-450.5 155,-450.5 149,-444.5 149,-438.5 149,-438.5 149,-394.5 149,-394.5 149,-388.5 155,-382.5 161,-382.5 161,-382.5 250,-382.5 250,-382.5 256,-382.5 262,-388.5 262,-394.5 262,-394.5 262,-438.5 262,-438.5 262,-444.5 256,-450.5 250,-450.5\"/>\n",
       "<text text-anchor=\"start\" x=\"172\" y=\"-435.3\" font-family=\"Helvetica,sans-Serif\" font-size=\"14.00\">Day ≤ 16.5</text>\n",
       "<text text-anchor=\"start\" x=\"163.5\" y=\"-420.3\" font-family=\"Helvetica,sans-Serif\" font-size=\"14.00\">mse = 140.56</text>\n",
       "<text text-anchor=\"start\" x=\"157\" y=\"-405.3\" font-family=\"Helvetica,sans-Serif\" font-size=\"14.00\">samples = 2480</text>\n",
       "<text text-anchor=\"start\" x=\"160.5\" y=\"-390.3\" font-family=\"Helvetica,sans-Serif\" font-size=\"14.00\">value = 44.903</text>\n",
       "</g>\n",
       "<!-- 0&#45;&gt;14 -->\n",
       "<g id=\"edge14\" class=\"edge\"><title>0&#45;&gt;14</title>\n",
       "<path fill=\"none\" stroke=\"black\" d=\"M113.074,-456.304C121.672,-452.561 130.619,-448.666 139.403,-444.842\"/>\n",
       "<polygon fill=\"black\" stroke=\"black\" points=\"141.075,-447.931 148.847,-440.73 138.281,-441.513 141.075,-447.931\"/>\n",
       "<text text-anchor=\"middle\" x=\"125.582\" y=\"-427.878\" font-family=\"Helvetica,sans-Serif\" font-size=\"14.00\">False</text>\n",
       "</g>\n",
       "<!-- 2 -->\n",
       "<g id=\"node3\" class=\"node\"><title>2</title>\n",
       "<path fill=\"#e58139\" fill-opacity=\"0.101961\" stroke=\"black\" d=\"M395.5,-798.5C395.5,-798.5 313.5,-798.5 313.5,-798.5 307.5,-798.5 301.5,-792.5 301.5,-786.5 301.5,-786.5 301.5,-742.5 301.5,-742.5 301.5,-736.5 307.5,-730.5 313.5,-730.5 313.5,-730.5 395.5,-730.5 395.5,-730.5 401.5,-730.5 407.5,-736.5 407.5,-742.5 407.5,-742.5 407.5,-786.5 407.5,-786.5 407.5,-792.5 401.5,-798.5 395.5,-798.5\"/>\n",
       "<text text-anchor=\"start\" x=\"322.5\" y=\"-783.3\" font-family=\"Helvetica,sans-Serif\" font-size=\"14.00\">Hour ≤ 2.5</text>\n",
       "<text text-anchor=\"start\" x=\"312.5\" y=\"-768.3\" font-family=\"Helvetica,sans-Serif\" font-size=\"14.00\">mse = 10.163</text>\n",
       "<text text-anchor=\"start\" x=\"309.5\" y=\"-753.3\" font-family=\"Helvetica,sans-Serif\" font-size=\"14.00\">samples = 480</text>\n",
       "<text text-anchor=\"start\" x=\"309.5\" y=\"-738.3\" font-family=\"Helvetica,sans-Serif\" font-size=\"14.00\">value = 30.429</text>\n",
       "</g>\n",
       "<!-- 1&#45;&gt;2 -->\n",
       "<g id=\"edge2\" class=\"edge\"><title>1&#45;&gt;2</title>\n",
       "<path fill=\"none\" stroke=\"black\" d=\"M229.469,-578.875C255.251,-617.461 297.112,-680.11 324.971,-721.804\"/>\n",
       "<polygon fill=\"black\" stroke=\"black\" points=\"322.227,-723.996 330.693,-730.366 328.047,-720.107 322.227,-723.996\"/>\n",
       "</g>\n",
       "<!-- 9 -->\n",
       "<g id=\"node10\" class=\"node\"><title>9</title>\n",
       "<path fill=\"#e58139\" fill-opacity=\"0.815686\" stroke=\"black\" d=\"M395.5,-578.5C395.5,-578.5 313.5,-578.5 313.5,-578.5 307.5,-578.5 301.5,-572.5 301.5,-566.5 301.5,-566.5 301.5,-522.5 301.5,-522.5 301.5,-516.5 307.5,-510.5 313.5,-510.5 313.5,-510.5 395.5,-510.5 395.5,-510.5 401.5,-510.5 407.5,-516.5 407.5,-522.5 407.5,-522.5 407.5,-566.5 407.5,-566.5 407.5,-572.5 401.5,-578.5 395.5,-578.5\"/>\n",
       "<text text-anchor=\"start\" x=\"322.5\" y=\"-563.3\" font-family=\"Helvetica,sans-Serif\" font-size=\"14.00\">Hour ≤ 2.5</text>\n",
       "<text text-anchor=\"start\" x=\"316.5\" y=\"-548.3\" font-family=\"Helvetica,sans-Serif\" font-size=\"14.00\">mse = 2.397</text>\n",
       "<text text-anchor=\"start\" x=\"313.5\" y=\"-533.3\" font-family=\"Helvetica,sans-Serif\" font-size=\"14.00\">samples = 16</text>\n",
       "<text text-anchor=\"start\" x=\"309.5\" y=\"-518.3\" font-family=\"Helvetica,sans-Serif\" font-size=\"14.00\">value = 48.844</text>\n",
       "</g>\n",
       "<!-- 1&#45;&gt;9 -->\n",
       "<g id=\"edge9\" class=\"edge\"><title>1&#45;&gt;9</title>\n",
       "<path fill=\"none\" stroke=\"black\" d=\"M258.741,-544.5C269.247,-544.5 280.387,-544.5 291.197,-544.5\"/>\n",
       "<polygon fill=\"black\" stroke=\"black\" points=\"291.428,-548 301.428,-544.5 291.428,-541 291.428,-548\"/>\n",
       "</g>\n",
       "<!-- 3 -->\n",
       "<g id=\"node4\" class=\"node\"><title>3</title>\n",
       "<path fill=\"#e58139\" fill-opacity=\"0.070588\" stroke=\"black\" d=\"M575.5,-912.5C575.5,-912.5 462.5,-912.5 462.5,-912.5 456.5,-912.5 450.5,-906.5 450.5,-900.5 450.5,-900.5 450.5,-856.5 450.5,-856.5 450.5,-850.5 456.5,-844.5 462.5,-844.5 462.5,-844.5 575.5,-844.5 575.5,-844.5 581.5,-844.5 587.5,-850.5 587.5,-856.5 587.5,-856.5 587.5,-900.5 587.5,-900.5 587.5,-906.5 581.5,-912.5 575.5,-912.5\"/>\n",
       "<text text-anchor=\"start\" x=\"458.5\" y=\"-897.3\" font-family=\"Helvetica,sans-Serif\" font-size=\"14.00\">Temperature ≤ 44.9</text>\n",
       "<text text-anchor=\"start\" x=\"481\" y=\"-882.3\" font-family=\"Helvetica,sans-Serif\" font-size=\"14.00\">mse = 4.163</text>\n",
       "<text text-anchor=\"start\" x=\"474\" y=\"-867.3\" font-family=\"Helvetica,sans-Serif\" font-size=\"14.00\">samples = 360</text>\n",
       "<text text-anchor=\"start\" x=\"478\" y=\"-852.3\" font-family=\"Helvetica,sans-Serif\" font-size=\"14.00\">value = 29.62</text>\n",
       "</g>\n",
       "<!-- 2&#45;&gt;3 -->\n",
       "<g id=\"edge3\" class=\"edge\"><title>2&#45;&gt;3</title>\n",
       "<path fill=\"none\" stroke=\"black\" d=\"M404.255,-798.704C422.091,-811.216 442.428,-825.483 460.925,-838.46\"/>\n",
       "<polygon fill=\"black\" stroke=\"black\" points=\"459.083,-841.443 469.279,-844.32 463.103,-835.712 459.083,-841.443\"/>\n",
       "</g>\n",
       "<!-- 6 -->\n",
       "<g id=\"node7\" class=\"node\"><title>6</title>\n",
       "<path fill=\"#e58139\" fill-opacity=\"0.196078\" stroke=\"black\" d=\"M560,-798.5C560,-798.5 478,-798.5 478,-798.5 472,-798.5 466,-792.5 466,-786.5 466,-786.5 466,-742.5 466,-742.5 466,-736.5 472,-730.5 478,-730.5 478,-730.5 560,-730.5 560,-730.5 566,-730.5 572,-736.5 572,-742.5 572,-742.5 572,-786.5 572,-786.5 572,-792.5 566,-798.5 560,-798.5\"/>\n",
       "<text text-anchor=\"start\" x=\"489.5\" y=\"-783.3\" font-family=\"Helvetica,sans-Serif\" font-size=\"14.00\">Day ≤ 5.5</text>\n",
       "<text text-anchor=\"start\" x=\"477\" y=\"-768.3\" font-family=\"Helvetica,sans-Serif\" font-size=\"14.00\">mse = 20.318</text>\n",
       "<text text-anchor=\"start\" x=\"474\" y=\"-753.3\" font-family=\"Helvetica,sans-Serif\" font-size=\"14.00\">samples = 120</text>\n",
       "<text text-anchor=\"start\" x=\"474\" y=\"-738.3\" font-family=\"Helvetica,sans-Serif\" font-size=\"14.00\">value = 32.854</text>\n",
       "</g>\n",
       "<!-- 2&#45;&gt;6 -->\n",
       "<g id=\"edge6\" class=\"edge\"><title>2&#45;&gt;6</title>\n",
       "<path fill=\"none\" stroke=\"black\" d=\"M407.81,-764.5C423.032,-764.5 439.813,-764.5 455.591,-764.5\"/>\n",
       "<polygon fill=\"black\" stroke=\"black\" points=\"455.788,-768 465.788,-764.5 455.787,-761 455.788,-768\"/>\n",
       "</g>\n",
       "<!-- 4 -->\n",
       "<g id=\"node5\" class=\"node\"><title>4</title>\n",
       "<path fill=\"#e58139\" fill-opacity=\"0.090196\" stroke=\"black\" d=\"M721,-976C721,-976 639,-976 639,-976 633,-976 627,-970 627,-964 627,-964 627,-935 627,-935 627,-929 633,-923 639,-923 639,-923 721,-923 721,-923 727,-923 733,-929 733,-935 733,-935 733,-964 733,-964 733,-970 727,-976 721,-976\"/>\n",
       "<text text-anchor=\"start\" x=\"642\" y=\"-960.8\" font-family=\"Helvetica,sans-Serif\" font-size=\"14.00\">mse = 3.699</text>\n",
       "<text text-anchor=\"start\" x=\"635\" y=\"-945.8\" font-family=\"Helvetica,sans-Serif\" font-size=\"14.00\">samples = 288</text>\n",
       "<text text-anchor=\"start\" x=\"635\" y=\"-930.8\" font-family=\"Helvetica,sans-Serif\" font-size=\"14.00\">value = 30.089</text>\n",
       "</g>\n",
       "<!-- 3&#45;&gt;4 -->\n",
       "<g id=\"edge4\" class=\"edge\"><title>3&#45;&gt;4</title>\n",
       "<path fill=\"none\" stroke=\"black\" d=\"M587.892,-908.816C597.742,-913.215 607.835,-917.722 617.549,-922.06\"/>\n",
       "<polygon fill=\"black\" stroke=\"black\" points=\"616.168,-925.276 626.726,-926.157 619.022,-918.884 616.168,-925.276\"/>\n",
       "</g>\n",
       "<!-- 5 -->\n",
       "<g id=\"node6\" class=\"node\"><title>5</title>\n",
       "<path fill=\"none\" stroke=\"black\" d=\"M721,-905C721,-905 639,-905 639,-905 633,-905 627,-899 627,-893 627,-893 627,-864 627,-864 627,-858 633,-852 639,-852 639,-852 721,-852 721,-852 727,-852 733,-858 733,-864 733,-864 733,-893 733,-893 733,-899 727,-905 721,-905\"/>\n",
       "<text text-anchor=\"start\" x=\"642\" y=\"-889.8\" font-family=\"Helvetica,sans-Serif\" font-size=\"14.00\">mse = 1.633</text>\n",
       "<text text-anchor=\"start\" x=\"639\" y=\"-874.8\" font-family=\"Helvetica,sans-Serif\" font-size=\"14.00\">samples = 72</text>\n",
       "<text text-anchor=\"start\" x=\"635\" y=\"-859.8\" font-family=\"Helvetica,sans-Serif\" font-size=\"14.00\">value = 27.747</text>\n",
       "</g>\n",
       "<!-- 3&#45;&gt;5 -->\n",
       "<g id=\"edge5\" class=\"edge\"><title>3&#45;&gt;5</title>\n",
       "<path fill=\"none\" stroke=\"black\" d=\"M587.892,-878.5C597.437,-878.5 607.211,-878.5 616.647,-878.5\"/>\n",
       "<polygon fill=\"black\" stroke=\"black\" points=\"616.726,-882 626.726,-878.5 616.726,-875 616.726,-882\"/>\n",
       "</g>\n",
       "<!-- 7 -->\n",
       "<g id=\"node8\" class=\"node\"><title>7</title>\n",
       "<path fill=\"#e58139\" fill-opacity=\"0.039216\" stroke=\"black\" d=\"M721,-834C721,-834 639,-834 639,-834 633,-834 627,-828 627,-822 627,-822 627,-793 627,-793 627,-787 633,-781 639,-781 639,-781 721,-781 721,-781 727,-781 733,-787 733,-793 733,-793 733,-822 733,-822 733,-828 727,-834 721,-834\"/>\n",
       "<text text-anchor=\"start\" x=\"642\" y=\"-818.8\" font-family=\"Helvetica,sans-Serif\" font-size=\"14.00\">mse = 0.743</text>\n",
       "<text text-anchor=\"start\" x=\"639\" y=\"-803.8\" font-family=\"Helvetica,sans-Serif\" font-size=\"14.00\">samples = 20</text>\n",
       "<text text-anchor=\"start\" x=\"635\" y=\"-788.8\" font-family=\"Helvetica,sans-Serif\" font-size=\"14.00\">value = 28.725</text>\n",
       "</g>\n",
       "<!-- 6&#45;&gt;7 -->\n",
       "<g id=\"edge7\" class=\"edge\"><title>6&#45;&gt;7</title>\n",
       "<path fill=\"none\" stroke=\"black\" d=\"M572.063,-778.58C586.338,-782.441 601.96,-786.665 616.745,-790.664\"/>\n",
       "<polygon fill=\"black\" stroke=\"black\" points=\"616.254,-794.156 626.82,-793.389 618.081,-787.399 616.254,-794.156\"/>\n",
       "</g>\n",
       "<!-- 8 -->\n",
       "<g id=\"node9\" class=\"node\"><title>8</title>\n",
       "<path fill=\"#e58139\" fill-opacity=\"0.227451\" stroke=\"black\" d=\"M721,-763C721,-763 639,-763 639,-763 633,-763 627,-757 627,-751 627,-751 627,-722 627,-722 627,-716 633,-710 639,-710 639,-710 721,-710 721,-710 727,-710 733,-716 733,-722 733,-722 733,-751 733,-751 733,-757 727,-763 721,-763\"/>\n",
       "<text text-anchor=\"start\" x=\"638\" y=\"-747.8\" font-family=\"Helvetica,sans-Serif\" font-size=\"14.00\">mse = 20.141</text>\n",
       "<text text-anchor=\"start\" x=\"635\" y=\"-732.8\" font-family=\"Helvetica,sans-Serif\" font-size=\"14.00\">samples = 100</text>\n",
       "<text text-anchor=\"start\" x=\"639\" y=\"-717.8\" font-family=\"Helvetica,sans-Serif\" font-size=\"14.00\">value = 33.68</text>\n",
       "</g>\n",
       "<!-- 6&#45;&gt;8 -->\n",
       "<g id=\"edge8\" class=\"edge\"><title>6&#45;&gt;8</title>\n",
       "<path fill=\"none\" stroke=\"black\" d=\"M572.063,-755.332C586.338,-752.818 601.96,-750.067 616.745,-747.463\"/>\n",
       "<polygon fill=\"black\" stroke=\"black\" points=\"617.579,-750.87 626.82,-745.689 616.365,-743.976 617.579,-750.87\"/>\n",
       "</g>\n",
       "<!-- 10 -->\n",
       "<g id=\"node11\" class=\"node\"><title>10</title>\n",
       "<path fill=\"#e58139\" fill-opacity=\"0.807843\" stroke=\"black\" d=\"M579,-655.5C579,-655.5 459,-655.5 459,-655.5 453,-655.5 447,-649.5 447,-643.5 447,-643.5 447,-599.5 447,-599.5 447,-593.5 453,-587.5 459,-587.5 459,-587.5 579,-587.5 579,-587.5 585,-587.5 591,-593.5 591,-599.5 591,-599.5 591,-643.5 591,-643.5 591,-649.5 585,-655.5 579,-655.5\"/>\n",
       "<text text-anchor=\"start\" x=\"455\" y=\"-640.3\" font-family=\"Helvetica,sans-Serif\" font-size=\"14.00\">Temperature ≤ 33.45</text>\n",
       "<text text-anchor=\"start\" x=\"481\" y=\"-625.3\" font-family=\"Helvetica,sans-Serif\" font-size=\"14.00\">mse = 2.876</text>\n",
       "<text text-anchor=\"start\" x=\"478\" y=\"-610.3\" font-family=\"Helvetica,sans-Serif\" font-size=\"14.00\">samples = 12</text>\n",
       "<text text-anchor=\"start\" x=\"478\" y=\"-595.3\" font-family=\"Helvetica,sans-Serif\" font-size=\"14.00\">value = 48.65</text>\n",
       "</g>\n",
       "<!-- 9&#45;&gt;10 -->\n",
       "<g id=\"edge10\" class=\"edge\"><title>9&#45;&gt;10</title>\n",
       "<path fill=\"none\" stroke=\"black\" d=\"M407.81,-569.287C417.329,-573.798 427.458,-578.597 437.569,-583.388\"/>\n",
       "<polygon fill=\"black\" stroke=\"black\" points=\"436.297,-586.658 446.832,-587.777 439.294,-580.332 436.297,-586.658\"/>\n",
       "</g>\n",
       "<!-- 13 -->\n",
       "<g id=\"node14\" class=\"node\"><title>13</title>\n",
       "<path fill=\"#e58139\" fill-opacity=\"0.835294\" stroke=\"black\" d=\"M560,-569C560,-569 478,-569 478,-569 472,-569 466,-563 466,-557 466,-557 466,-528 466,-528 466,-522 472,-516 478,-516 478,-516 560,-516 560,-516 566,-516 572,-522 572,-528 572,-528 572,-557 572,-557 572,-563 566,-569 560,-569\"/>\n",
       "<text text-anchor=\"start\" x=\"481\" y=\"-553.8\" font-family=\"Helvetica,sans-Serif\" font-size=\"14.00\">mse = 0.512</text>\n",
       "<text text-anchor=\"start\" x=\"481.5\" y=\"-538.8\" font-family=\"Helvetica,sans-Serif\" font-size=\"14.00\">samples = 4</text>\n",
       "<text text-anchor=\"start\" x=\"474\" y=\"-523.8\" font-family=\"Helvetica,sans-Serif\" font-size=\"14.00\">value = 49.425</text>\n",
       "</g>\n",
       "<!-- 9&#45;&gt;13 -->\n",
       "<g id=\"edge13\" class=\"edge\"><title>9&#45;&gt;13</title>\n",
       "<path fill=\"none\" stroke=\"black\" d=\"M407.81,-543.856C423.032,-543.669 439.813,-543.462 455.591,-543.268\"/>\n",
       "<polygon fill=\"black\" stroke=\"black\" points=\"455.831,-546.766 465.788,-543.143 455.745,-539.766 455.831,-546.766\"/>\n",
       "</g>\n",
       "<!-- 11 -->\n",
       "<g id=\"node12\" class=\"node\"><title>11</title>\n",
       "<path fill=\"#e58139\" fill-opacity=\"0.815686\" stroke=\"black\" d=\"M721,-692C721,-692 639,-692 639,-692 633,-692 627,-686 627,-680 627,-680 627,-651 627,-651 627,-645 633,-639 639,-639 639,-639 721,-639 721,-639 727,-639 733,-645 733,-651 733,-651 733,-680 733,-680 733,-686 727,-692 721,-692\"/>\n",
       "<text text-anchor=\"start\" x=\"642\" y=\"-676.8\" font-family=\"Helvetica,sans-Serif\" font-size=\"14.00\">mse = 3.662</text>\n",
       "<text text-anchor=\"start\" x=\"642.5\" y=\"-661.8\" font-family=\"Helvetica,sans-Serif\" font-size=\"14.00\">samples = 4</text>\n",
       "<text text-anchor=\"start\" x=\"635\" y=\"-646.8\" font-family=\"Helvetica,sans-Serif\" font-size=\"14.00\">value = 48.875</text>\n",
       "</g>\n",
       "<!-- 10&#45;&gt;11 -->\n",
       "<g id=\"edge11\" class=\"edge\"><title>10&#45;&gt;11</title>\n",
       "<path fill=\"none\" stroke=\"black\" d=\"M591.129,-641.184C599.806,-643.585 608.617,-646.023 617.143,-648.382\"/>\n",
       "<polygon fill=\"black\" stroke=\"black\" points=\"616.425,-651.815 626.996,-651.109 618.292,-645.069 616.425,-651.815\"/>\n",
       "</g>\n",
       "<!-- 12 -->\n",
       "<g id=\"node13\" class=\"node\"><title>12</title>\n",
       "<path fill=\"#e58139\" fill-opacity=\"0.803922\" stroke=\"black\" d=\"M721,-621C721,-621 639,-621 639,-621 633,-621 627,-615 627,-609 627,-609 627,-580 627,-580 627,-574 633,-568 639,-568 639,-568 721,-568 721,-568 727,-568 733,-574 733,-580 733,-580 733,-609 733,-609 733,-615 727,-621 721,-621\"/>\n",
       "<text text-anchor=\"start\" x=\"642\" y=\"-605.8\" font-family=\"Helvetica,sans-Serif\" font-size=\"14.00\">mse = 2.445</text>\n",
       "<text text-anchor=\"start\" x=\"642.5\" y=\"-590.8\" font-family=\"Helvetica,sans-Serif\" font-size=\"14.00\">samples = 8</text>\n",
       "<text text-anchor=\"start\" x=\"635\" y=\"-575.8\" font-family=\"Helvetica,sans-Serif\" font-size=\"14.00\">value = 48.537</text>\n",
       "</g>\n",
       "<!-- 10&#45;&gt;12 -->\n",
       "<g id=\"edge12\" class=\"edge\"><title>10&#45;&gt;12</title>\n",
       "<path fill=\"none\" stroke=\"black\" d=\"M591.129,-609.421C599.711,-607.964 608.425,-606.484 616.865,-605.051\"/>\n",
       "<polygon fill=\"black\" stroke=\"black\" points=\"617.723,-608.456 626.996,-603.331 616.551,-601.555 617.723,-608.456\"/>\n",
       "</g>\n",
       "<!-- 15 -->\n",
       "<g id=\"node16\" class=\"node\"><title>15</title>\n",
       "<path fill=\"#e58139\" fill-opacity=\"0.466667\" stroke=\"black\" d=\"M399,-450.5C399,-450.5 310,-450.5 310,-450.5 304,-450.5 298,-444.5 298,-438.5 298,-438.5 298,-394.5 298,-394.5 298,-388.5 304,-382.5 310,-382.5 310,-382.5 399,-382.5 399,-382.5 405,-382.5 411,-388.5 411,-394.5 411,-394.5 411,-438.5 411,-438.5 411,-444.5 405,-450.5 399,-450.5\"/>\n",
       "<text text-anchor=\"start\" x=\"318.5\" y=\"-435.3\" font-family=\"Helvetica,sans-Serif\" font-size=\"14.00\">Hour ≤ 17.5</text>\n",
       "<text text-anchor=\"start\" x=\"309\" y=\"-420.3\" font-family=\"Helvetica,sans-Serif\" font-size=\"14.00\">mse = 155.555</text>\n",
       "<text text-anchor=\"start\" x=\"306\" y=\"-405.3\" font-family=\"Helvetica,sans-Serif\" font-size=\"14.00\">samples = 1280</text>\n",
       "<text text-anchor=\"start\" x=\"309.5\" y=\"-390.3\" font-family=\"Helvetica,sans-Serif\" font-size=\"14.00\">value = 39.859</text>\n",
       "</g>\n",
       "<!-- 14&#45;&gt;15 -->\n",
       "<g id=\"edge15\" class=\"edge\"><title>14&#45;&gt;15</title>\n",
       "<path fill=\"none\" stroke=\"black\" d=\"M262.074,-416.5C270.489,-416.5 279.238,-416.5 287.842,-416.5\"/>\n",
       "<polygon fill=\"black\" stroke=\"black\" points=\"287.847,-420 297.847,-416.5 287.847,-413 287.847,-420\"/>\n",
       "</g>\n",
       "<!-- 22 -->\n",
       "<g id=\"node23\" class=\"node\"><title>22</title>\n",
       "<path fill=\"#e58139\" fill-opacity=\"0.870588\" stroke=\"black\" d=\"M399,-245.5C399,-245.5 310,-245.5 310,-245.5 304,-245.5 298,-239.5 298,-233.5 298,-233.5 298,-189.5 298,-189.5 298,-183.5 304,-177.5 310,-177.5 310,-177.5 399,-177.5 399,-177.5 405,-177.5 411,-183.5 411,-189.5 411,-189.5 411,-233.5 411,-233.5 411,-239.5 405,-245.5 399,-245.5\"/>\n",
       "<text text-anchor=\"start\" x=\"322.5\" y=\"-230.3\" font-family=\"Helvetica,sans-Serif\" font-size=\"14.00\">Hour ≤ 7.5</text>\n",
       "<text text-anchor=\"start\" x=\"312.5\" y=\"-215.3\" font-family=\"Helvetica,sans-Serif\" font-size=\"14.00\">mse = 68.461</text>\n",
       "<text text-anchor=\"start\" x=\"306\" y=\"-200.3\" font-family=\"Helvetica,sans-Serif\" font-size=\"14.00\">samples = 1200</text>\n",
       "<text text-anchor=\"start\" x=\"309.5\" y=\"-185.3\" font-family=\"Helvetica,sans-Serif\" font-size=\"14.00\">value = 50.285</text>\n",
       "</g>\n",
       "<!-- 14&#45;&gt;22 -->\n",
       "<g id=\"edge22\" class=\"edge\"><title>14&#45;&gt;22</title>\n",
       "<path fill=\"none\" stroke=\"black\" d=\"M231.104,-382.188C256.408,-346.901 295.861,-291.881 323.101,-253.893\"/>\n",
       "<polygon fill=\"black\" stroke=\"black\" points=\"326.077,-255.749 329.06,-245.583 320.389,-251.67 326.077,-255.749\"/>\n",
       "</g>\n",
       "<!-- 16 -->\n",
       "<g id=\"node17\" class=\"node\"><title>16</title>\n",
       "<path fill=\"#e58139\" fill-opacity=\"0.635294\" stroke=\"black\" d=\"M560.5,-494.5C560.5,-494.5 477.5,-494.5 477.5,-494.5 471.5,-494.5 465.5,-488.5 465.5,-482.5 465.5,-482.5 465.5,-438.5 465.5,-438.5 465.5,-432.5 471.5,-426.5 477.5,-426.5 477.5,-426.5 560.5,-426.5 560.5,-426.5 566.5,-426.5 572.5,-432.5 572.5,-438.5 572.5,-438.5 572.5,-482.5 572.5,-482.5 572.5,-488.5 566.5,-494.5 560.5,-494.5\"/>\n",
       "<text text-anchor=\"start\" x=\"485.5\" y=\"-479.3\" font-family=\"Helvetica,sans-Serif\" font-size=\"14.00\">Day ≤ 13.5</text>\n",
       "<text text-anchor=\"start\" x=\"473.5\" y=\"-464.3\" font-family=\"Helvetica,sans-Serif\" font-size=\"14.00\">mse = 157.072</text>\n",
       "<text text-anchor=\"start\" x=\"474\" y=\"-449.3\" font-family=\"Helvetica,sans-Serif\" font-size=\"14.00\">samples = 896</text>\n",
       "<text text-anchor=\"start\" x=\"474\" y=\"-434.3\" font-family=\"Helvetica,sans-Serif\" font-size=\"14.00\">value = 44.166</text>\n",
       "</g>\n",
       "<!-- 15&#45;&gt;16 -->\n",
       "<g id=\"edge16\" class=\"edge\"><title>15&#45;&gt;16</title>\n",
       "<path fill=\"none\" stroke=\"black\" d=\"M411.423,-431.642C425.596,-435.48 440.911,-439.627 455.391,-443.548\"/>\n",
       "<polygon fill=\"black\" stroke=\"black\" points=\"454.691,-446.984 465.258,-446.219 456.521,-440.227 454.691,-446.984\"/>\n",
       "</g>\n",
       "<!-- 19 -->\n",
       "<g id=\"node20\" class=\"node\"><title>19</title>\n",
       "<path fill=\"#e58139\" fill-opacity=\"0.078431\" stroke=\"black\" d=\"M560,-408.5C560,-408.5 478,-408.5 478,-408.5 472,-408.5 466,-402.5 466,-396.5 466,-396.5 466,-352.5 466,-352.5 466,-346.5 472,-340.5 478,-340.5 478,-340.5 560,-340.5 560,-340.5 566,-340.5 572,-346.5 572,-352.5 572,-352.5 572,-396.5 572,-396.5 572,-402.5 566,-408.5 560,-408.5\"/>\n",
       "<text text-anchor=\"start\" x=\"485.5\" y=\"-393.3\" font-family=\"Helvetica,sans-Serif\" font-size=\"14.00\">Day ≤ 15.5</text>\n",
       "<text text-anchor=\"start\" x=\"484.5\" y=\"-378.3\" font-family=\"Helvetica,sans-Serif\" font-size=\"14.00\">mse = 7.69</text>\n",
       "<text text-anchor=\"start\" x=\"474\" y=\"-363.3\" font-family=\"Helvetica,sans-Serif\" font-size=\"14.00\">samples = 384</text>\n",
       "<text text-anchor=\"start\" x=\"474\" y=\"-348.3\" font-family=\"Helvetica,sans-Serif\" font-size=\"14.00\">value = 29.807</text>\n",
       "</g>\n",
       "<!-- 15&#45;&gt;19 -->\n",
       "<g id=\"edge19\" class=\"edge\"><title>15&#45;&gt;19</title>\n",
       "<path fill=\"none\" stroke=\"black\" d=\"M411.423,-402.046C425.745,-398.344 441.234,-394.341 455.848,-390.564\"/>\n",
       "<polygon fill=\"black\" stroke=\"black\" points=\"456.996,-393.882 465.802,-387.991 455.244,-387.105 456.996,-393.882\"/>\n",
       "</g>\n",
       "<!-- 17 -->\n",
       "<g id=\"node18\" class=\"node\"><title>17</title>\n",
       "<path fill=\"#e58139\" fill-opacity=\"0.749020\" stroke=\"black\" d=\"M721,-550C721,-550 639,-550 639,-550 633,-550 627,-544 627,-538 627,-538 627,-509 627,-509 627,-503 633,-497 639,-497 639,-497 721,-497 721,-497 727,-497 733,-503 733,-509 733,-509 733,-538 733,-538 733,-544 727,-550 721,-550\"/>\n",
       "<text text-anchor=\"start\" x=\"638\" y=\"-534.8\" font-family=\"Helvetica,sans-Serif\" font-size=\"14.00\">mse = 135.49</text>\n",
       "<text text-anchor=\"start\" x=\"635\" y=\"-519.8\" font-family=\"Helvetica,sans-Serif\" font-size=\"14.00\">samples = 728</text>\n",
       "<text text-anchor=\"start\" x=\"635\" y=\"-504.8\" font-family=\"Helvetica,sans-Serif\" font-size=\"14.00\">value = 47.143</text>\n",
       "</g>\n",
       "<!-- 16&#45;&gt;17 -->\n",
       "<g id=\"edge17\" class=\"edge\"><title>16&#45;&gt;17</title>\n",
       "<path fill=\"none\" stroke=\"black\" d=\"M572.503,-481.303C586.824,-486.977 602.471,-493.177 617.255,-499.035\"/>\n",
       "<polygon fill=\"black\" stroke=\"black\" points=\"616.237,-502.396 626.823,-502.826 618.816,-495.889 616.237,-502.396\"/>\n",
       "</g>\n",
       "<!-- 18 -->\n",
       "<g id=\"node19\" class=\"node\"><title>18</title>\n",
       "<path fill=\"#e58139\" fill-opacity=\"0.137255\" stroke=\"black\" d=\"M721,-479C721,-479 639,-479 639,-479 633,-479 627,-473 627,-467 627,-467 627,-438 627,-438 627,-432 633,-426 639,-426 639,-426 721,-426 721,-426 727,-426 733,-432 733,-438 733,-438 733,-467 733,-467 733,-473 727,-479 721,-479\"/>\n",
       "<text text-anchor=\"start\" x=\"638\" y=\"-463.8\" font-family=\"Helvetica,sans-Serif\" font-size=\"14.00\">mse = 45.866</text>\n",
       "<text text-anchor=\"start\" x=\"635\" y=\"-448.8\" font-family=\"Helvetica,sans-Serif\" font-size=\"14.00\">samples = 168</text>\n",
       "<text text-anchor=\"start\" x=\"635\" y=\"-433.8\" font-family=\"Helvetica,sans-Serif\" font-size=\"14.00\">value = 31.269</text>\n",
       "</g>\n",
       "<!-- 16&#45;&gt;18 -->\n",
       "<g id=\"edge18\" class=\"edge\"><title>16&#45;&gt;18</title>\n",
       "<path fill=\"none\" stroke=\"black\" d=\"M572.503,-457.858C586.688,-457.145 602.173,-456.365 616.833,-455.628\"/>\n",
       "<polygon fill=\"black\" stroke=\"black\" points=\"617.012,-459.123 626.823,-455.125 616.66,-452.132 617.012,-459.123\"/>\n",
       "</g>\n",
       "<!-- 20 -->\n",
       "<g id=\"node21\" class=\"node\"><title>20</title>\n",
       "<path fill=\"#e58139\" fill-opacity=\"0.066667\" stroke=\"black\" d=\"M721,-408C721,-408 639,-408 639,-408 633,-408 627,-402 627,-396 627,-396 627,-367 627,-367 627,-361 633,-355 639,-355 639,-355 721,-355 721,-355 727,-355 733,-361 733,-367 733,-367 733,-396 733,-396 733,-402 727,-408 721,-408\"/>\n",
       "<text text-anchor=\"start\" x=\"642\" y=\"-392.8\" font-family=\"Helvetica,sans-Serif\" font-size=\"14.00\">mse = 1.568</text>\n",
       "<text text-anchor=\"start\" x=\"635\" y=\"-377.8\" font-family=\"Helvetica,sans-Serif\" font-size=\"14.00\">samples = 360</text>\n",
       "<text text-anchor=\"start\" x=\"635\" y=\"-362.8\" font-family=\"Helvetica,sans-Serif\" font-size=\"14.00\">value = 29.499</text>\n",
       "</g>\n",
       "<!-- 19&#45;&gt;20 -->\n",
       "<g id=\"edge20\" class=\"edge\"><title>19&#45;&gt;20</title>\n",
       "<path fill=\"none\" stroke=\"black\" d=\"M572.063,-376.792C586.338,-377.421 601.96,-378.108 616.745,-378.759\"/>\n",
       "<polygon fill=\"black\" stroke=\"black\" points=\"616.676,-382.259 626.82,-379.203 616.984,-375.266 616.676,-382.259\"/>\n",
       "</g>\n",
       "<!-- 21 -->\n",
       "<g id=\"node22\" class=\"node\"><title>21</title>\n",
       "<path fill=\"#e58139\" fill-opacity=\"0.258824\" stroke=\"black\" d=\"M721,-337C721,-337 639,-337 639,-337 633,-337 627,-331 627,-325 627,-325 627,-296 627,-296 627,-290 633,-284 639,-284 639,-284 721,-284 721,-284 727,-284 733,-290 733,-296 733,-296 733,-325 733,-325 733,-331 727,-337 721,-337\"/>\n",
       "<text text-anchor=\"start\" x=\"638\" y=\"-321.8\" font-family=\"Helvetica,sans-Serif\" font-size=\"14.00\">mse = 76.779</text>\n",
       "<text text-anchor=\"start\" x=\"639\" y=\"-306.8\" font-family=\"Helvetica,sans-Serif\" font-size=\"14.00\">samples = 24</text>\n",
       "<text text-anchor=\"start\" x=\"635\" y=\"-291.8\" font-family=\"Helvetica,sans-Serif\" font-size=\"14.00\">value = 34.425</text>\n",
       "</g>\n",
       "<!-- 19&#45;&gt;21 -->\n",
       "<g id=\"edge21\" class=\"edge\"><title>19&#45;&gt;21</title>\n",
       "<path fill=\"none\" stroke=\"black\" d=\"M572.063,-353.544C586.476,-347.742 602.26,-341.389 617.171,-335.387\"/>\n",
       "<polygon fill=\"black\" stroke=\"black\" points=\"618.851,-338.484 626.82,-331.503 616.237,-331.99 618.851,-338.484\"/>\n",
       "</g>\n",
       "<!-- 23 -->\n",
       "<g id=\"node24\" class=\"node\"><title>23</title>\n",
       "<path fill=\"#e58139\" fill-opacity=\"0.623529\" stroke=\"black\" d=\"M579,-245.5C579,-245.5 459,-245.5 459,-245.5 453,-245.5 447,-239.5 447,-233.5 447,-233.5 447,-189.5 447,-189.5 447,-183.5 453,-177.5 459,-177.5 459,-177.5 579,-177.5 579,-177.5 585,-177.5 591,-183.5 591,-189.5 591,-189.5 591,-233.5 591,-233.5 591,-239.5 585,-245.5 579,-245.5\"/>\n",
       "<text text-anchor=\"start\" x=\"455\" y=\"-230.3\" font-family=\"Helvetica,sans-Serif\" font-size=\"14.00\">Temperature ≤ 49.35</text>\n",
       "<text text-anchor=\"start\" x=\"477\" y=\"-215.3\" font-family=\"Helvetica,sans-Serif\" font-size=\"14.00\">mse = 67.132</text>\n",
       "<text text-anchor=\"start\" x=\"474\" y=\"-200.3\" font-family=\"Helvetica,sans-Serif\" font-size=\"14.00\">samples = 240</text>\n",
       "<text text-anchor=\"start\" x=\"474\" y=\"-185.3\" font-family=\"Helvetica,sans-Serif\" font-size=\"14.00\">value = 43.911</text>\n",
       "</g>\n",
       "<!-- 22&#45;&gt;23 -->\n",
       "<g id=\"edge23\" class=\"edge\"><title>22&#45;&gt;23</title>\n",
       "<path fill=\"none\" stroke=\"black\" d=\"M411.423,-211.5C419.606,-211.5 428.169,-211.5 436.732,-211.5\"/>\n",
       "<polygon fill=\"black\" stroke=\"black\" points=\"436.762,-215 446.762,-211.5 436.762,-208 436.762,-215\"/>\n",
       "</g>\n",
       "<!-- 26 -->\n",
       "<g id=\"node27\" class=\"node\"><title>26</title>\n",
       "<path fill=\"#e58139\" fill-opacity=\"0.933333\" stroke=\"black\" d=\"M560,-131.5C560,-131.5 478,-131.5 478,-131.5 472,-131.5 466,-125.5 466,-119.5 466,-119.5 466,-75.5 466,-75.5 466,-69.5 472,-63.5 478,-63.5 478,-63.5 560,-63.5 560,-63.5 566,-63.5 572,-69.5 572,-75.5 572,-75.5 572,-119.5 572,-119.5 572,-125.5 566,-131.5 560,-131.5\"/>\n",
       "<text text-anchor=\"start\" x=\"474.5\" y=\"-116.3\" font-family=\"Helvetica,sans-Serif\" font-size=\"14.00\">Workday ≤ 0.5</text>\n",
       "<text text-anchor=\"start\" x=\"477\" y=\"-101.3\" font-family=\"Helvetica,sans-Serif\" font-size=\"14.00\">mse = 56.098</text>\n",
       "<text text-anchor=\"start\" x=\"474\" y=\"-86.3\" font-family=\"Helvetica,sans-Serif\" font-size=\"14.00\">samples = 960</text>\n",
       "<text text-anchor=\"start\" x=\"474\" y=\"-71.3\" font-family=\"Helvetica,sans-Serif\" font-size=\"14.00\">value = 51.878</text>\n",
       "</g>\n",
       "<!-- 22&#45;&gt;26 -->\n",
       "<g id=\"edge26\" class=\"edge\"><title>22&#45;&gt;26</title>\n",
       "<path fill=\"none\" stroke=\"black\" d=\"M404.255,-177.296C422.091,-164.784 442.428,-150.517 460.925,-137.54\"/>\n",
       "<polygon fill=\"black\" stroke=\"black\" points=\"463.103,-140.288 469.279,-131.68 459.083,-134.557 463.103,-140.288\"/>\n",
       "</g>\n",
       "<!-- 24 -->\n",
       "<g id=\"node25\" class=\"node\"><title>24</title>\n",
       "<path fill=\"#e58139\" fill-opacity=\"0.690196\" stroke=\"black\" d=\"M721,-266C721,-266 639,-266 639,-266 633,-266 627,-260 627,-254 627,-254 627,-225 627,-225 627,-219 633,-213 639,-213 639,-213 721,-213 721,-213 727,-213 733,-219 733,-225 733,-225 733,-254 733,-254 733,-260 727,-266 721,-266\"/>\n",
       "<text text-anchor=\"start\" x=\"638\" y=\"-250.8\" font-family=\"Helvetica,sans-Serif\" font-size=\"14.00\">mse = 52.011</text>\n",
       "<text text-anchor=\"start\" x=\"635\" y=\"-235.8\" font-family=\"Helvetica,sans-Serif\" font-size=\"14.00\">samples = 180</text>\n",
       "<text text-anchor=\"start\" x=\"635\" y=\"-220.8\" font-family=\"Helvetica,sans-Serif\" font-size=\"14.00\">value = 45.652</text>\n",
       "</g>\n",
       "<!-- 23&#45;&gt;24 -->\n",
       "<g id=\"edge24\" class=\"edge\"><title>23&#45;&gt;24</title>\n",
       "<path fill=\"none\" stroke=\"black\" d=\"M591.129,-224.026C599.806,-225.554 608.617,-227.106 617.143,-228.607\"/>\n",
       "<polygon fill=\"black\" stroke=\"black\" points=\"616.54,-232.055 626.996,-230.342 617.754,-225.161 616.54,-232.055\"/>\n",
       "</g>\n",
       "<!-- 25 -->\n",
       "<g id=\"node26\" class=\"node\"><title>25</title>\n",
       "<path fill=\"#e58139\" fill-opacity=\"0.423529\" stroke=\"black\" d=\"M721,-195C721,-195 639,-195 639,-195 633,-195 627,-189 627,-183 627,-183 627,-154 627,-154 627,-148 633,-142 639,-142 639,-142 721,-142 721,-142 727,-142 733,-148 733,-154 733,-154 733,-183 733,-183 733,-189 727,-195 721,-195\"/>\n",
       "<text text-anchor=\"start\" x=\"638\" y=\"-179.8\" font-family=\"Helvetica,sans-Serif\" font-size=\"14.00\">mse = 76.129</text>\n",
       "<text text-anchor=\"start\" x=\"639\" y=\"-164.8\" font-family=\"Helvetica,sans-Serif\" font-size=\"14.00\">samples = 60</text>\n",
       "<text text-anchor=\"start\" x=\"635\" y=\"-149.8\" font-family=\"Helvetica,sans-Serif\" font-size=\"14.00\">value = 38.688</text>\n",
       "</g>\n",
       "<!-- 23&#45;&gt;25 -->\n",
       "<g id=\"edge25\" class=\"edge\"><title>23&#45;&gt;25</title>\n",
       "<path fill=\"none\" stroke=\"black\" d=\"M591.129,-192.264C599.806,-189.917 608.617,-187.534 617.143,-185.229\"/>\n",
       "<polygon fill=\"black\" stroke=\"black\" points=\"618.256,-188.553 626.996,-182.564 616.429,-181.796 618.256,-188.553\"/>\n",
       "</g>\n",
       "<!-- 27 -->\n",
       "<g id=\"node28\" class=\"node\"><title>27</title>\n",
       "<path fill=\"#e58139\" fill-opacity=\"0.745098\" stroke=\"black\" d=\"M721,-124C721,-124 639,-124 639,-124 633,-124 627,-118 627,-112 627,-112 627,-83 627,-83 627,-77 633,-71 639,-71 639,-71 721,-71 721,-71 727,-71 733,-77 733,-83 733,-83 733,-112 733,-112 733,-118 727,-124 721,-124\"/>\n",
       "<text text-anchor=\"start\" x=\"638\" y=\"-108.8\" font-family=\"Helvetica,sans-Serif\" font-size=\"14.00\">mse = 82.854</text>\n",
       "<text text-anchor=\"start\" x=\"635\" y=\"-93.8\" font-family=\"Helvetica,sans-Serif\" font-size=\"14.00\">samples = 256</text>\n",
       "<text text-anchor=\"start\" x=\"635\" y=\"-78.8\" font-family=\"Helvetica,sans-Serif\" font-size=\"14.00\">value = 46.999</text>\n",
       "</g>\n",
       "<!-- 26&#45;&gt;27 -->\n",
       "<g id=\"edge27\" class=\"edge\"><title>26&#45;&gt;27</title>\n",
       "<path fill=\"none\" stroke=\"black\" d=\"M572.063,-97.5C586.338,-97.5 601.96,-97.5 616.745,-97.5\"/>\n",
       "<polygon fill=\"black\" stroke=\"black\" points=\"616.821,-101 626.82,-97.5 616.82,-94.0001 616.821,-101\"/>\n",
       "</g>\n",
       "<!-- 28 -->\n",
       "<g id=\"node29\" class=\"node\"><title>28</title>\n",
       "<path fill=\"#e58139\" stroke=\"black\" d=\"M721,-53C721,-53 639,-53 639,-53 633,-53 627,-47 627,-41 627,-41 627,-12 627,-12 627,-6 633,-3.55271e-15 639,-3.55271e-15 639,-3.55271e-15 721,-3.55271e-15 721,-3.55271e-15 727,-3.55271e-15 733,-6 733,-12 733,-12 733,-41 733,-41 733,-47 727,-53 721,-53\"/>\n",
       "<text text-anchor=\"start\" x=\"638\" y=\"-37.8\" font-family=\"Helvetica,sans-Serif\" font-size=\"14.00\">mse = 34.563</text>\n",
       "<text text-anchor=\"start\" x=\"635\" y=\"-22.8\" font-family=\"Helvetica,sans-Serif\" font-size=\"14.00\">samples = 704</text>\n",
       "<text text-anchor=\"start\" x=\"635\" y=\"-7.8\" font-family=\"Helvetica,sans-Serif\" font-size=\"14.00\">value = 53.652</text>\n",
       "</g>\n",
       "<!-- 26&#45;&gt;28 -->\n",
       "<g id=\"edge28\" class=\"edge\"><title>26&#45;&gt;28</title>\n",
       "<path fill=\"none\" stroke=\"black\" d=\"M572.063,-74.2519C586.613,-67.7546 602.561,-60.6331 617.597,-53.919\"/>\n",
       "<polygon fill=\"black\" stroke=\"black\" points=\"619.117,-57.0736 626.82,-49.8003 616.262,-50.6819 619.117,-57.0736\"/>\n",
       "</g>\n",
       "</g>\n",
       "</svg>\n"
      ],
      "text/plain": [
       "<graphviz.files.Source at 0x7f6a52b133d0>"
      ]
     },
     "execution_count": 10,
     "metadata": {},
     "output_type": "execute_result"
    }
   ],
   "source": [
    "dot_data = tree.export_graphviz(clf5, out_file=None, \n",
    "                         feature_names=[\"Temperature\",\"Day\",\"Hour\",\"Workday\"],    \n",
    "                         filled=True, rounded=True,  \n",
    "                         special_characters=True,\n",
    "                               rotate=True)\n",
    "graph = graphviz.Source(dot_data) \n",
    "graph\n"
   ]
  },
  {
   "cell_type": "code",
   "execution_count": 11,
   "metadata": {},
   "outputs": [],
   "source": [
    "# Split into Features and Labels\n",
    "\n",
    "X = month1.drop(['CONSUMPTION','Date_Time'], axis = 1)\n",
    "\n",
    "y = month1[['CONSUMPTION']]"
   ]
  },
  {
   "cell_type": "code",
   "execution_count": 12,
   "metadata": {},
   "outputs": [
    {
     "name": "stderr",
     "output_type": "stream",
     "text": [
      "/usr/local/lib/python2.7/dist-packages/sklearn/model_selection/_split.py:2026: FutureWarning: From version 0.21, test_size will always complement train_size unless both are specified.\n",
      "  FutureWarning)\n"
     ]
    }
   ],
   "source": [
    "# Split into train and test data\n",
    "\n",
    "from sklearn.model_selection import train_test_split\n",
    "\n",
    "X_train, X_test, y_train, y_test = train_test_split(X,y, train_size = 0.8, shuffle = True, random_state = 42)"
   ]
  },
  {
   "cell_type": "code",
   "execution_count": 13,
   "metadata": {},
   "outputs": [
    {
     "data": {
      "text/plain": [
       "LinearRegression(copy_X=True, fit_intercept=True, n_jobs=1, normalize=False)"
      ]
     },
     "execution_count": 13,
     "metadata": {},
     "output_type": "execute_result"
    }
   ],
   "source": [
    "from sklearn.linear_model import LinearRegression\n",
    "\n",
    "lin_reg = LinearRegression()\n",
    "lin_reg.fit(X_train, y_train)"
   ]
  },
  {
   "cell_type": "code",
   "execution_count": 14,
   "metadata": {},
   "outputs": [
    {
     "data": {
      "text/html": [
       "<div>\n",
       "<style scoped>\n",
       "    .dataframe tbody tr th:only-of-type {\n",
       "        vertical-align: middle;\n",
       "    }\n",
       "\n",
       "    .dataframe tbody tr th {\n",
       "        vertical-align: top;\n",
       "    }\n",
       "\n",
       "    .dataframe thead th {\n",
       "        text-align: right;\n",
       "    }\n",
       "</style>\n",
       "<table border=\"1\" class=\"dataframe\">\n",
       "  <thead>\n",
       "    <tr style=\"text-align: right;\">\n",
       "      <th></th>\n",
       "      <th>Date_Time</th>\n",
       "      <th>TEMPERATURE</th>\n",
       "      <th>Day</th>\n",
       "      <th>Hour</th>\n",
       "      <th>Workday</th>\n",
       "      <th>CONSUMPTION</th>\n",
       "    </tr>\n",
       "  </thead>\n",
       "  <tbody>\n",
       "    <tr>\n",
       "      <th>0</th>\n",
       "      <td>01-01-17 0:00</td>\n",
       "      <td>35.099998</td>\n",
       "      <td>1</td>\n",
       "      <td>0</td>\n",
       "      <td>1</td>\n",
       "      <td>27.8</td>\n",
       "    </tr>\n",
       "    <tr>\n",
       "      <th>1</th>\n",
       "      <td>01-01-17 0:15</td>\n",
       "      <td>35.099998</td>\n",
       "      <td>1</td>\n",
       "      <td>0</td>\n",
       "      <td>1</td>\n",
       "      <td>29.0</td>\n",
       "    </tr>\n",
       "    <tr>\n",
       "      <th>2</th>\n",
       "      <td>01-01-17 0:30</td>\n",
       "      <td>35.099998</td>\n",
       "      <td>1</td>\n",
       "      <td>0</td>\n",
       "      <td>1</td>\n",
       "      <td>28.5</td>\n",
       "    </tr>\n",
       "    <tr>\n",
       "      <th>3</th>\n",
       "      <td>01-01-17 0:45</td>\n",
       "      <td>35.099998</td>\n",
       "      <td>1</td>\n",
       "      <td>0</td>\n",
       "      <td>1</td>\n",
       "      <td>28.0</td>\n",
       "    </tr>\n",
       "    <tr>\n",
       "      <th>4</th>\n",
       "      <td>01-01-17 1:00</td>\n",
       "      <td>33.200001</td>\n",
       "      <td>1</td>\n",
       "      <td>1</td>\n",
       "      <td>1</td>\n",
       "      <td>27.7</td>\n",
       "    </tr>\n",
       "  </tbody>\n",
       "</table>\n",
       "</div>"
      ],
      "text/plain": [
       "       Date_Time  TEMPERATURE  Day  Hour  Workday  CONSUMPTION\n",
       "0  01-01-17 0:00    35.099998    1     0        1         27.8\n",
       "1  01-01-17 0:15    35.099998    1     0        1         29.0\n",
       "2  01-01-17 0:30    35.099998    1     0        1         28.5\n",
       "3  01-01-17 0:45    35.099998    1     0        1         28.0\n",
       "4  01-01-17 1:00    33.200001    1     1        1         27.7"
      ]
     },
     "execution_count": 14,
     "metadata": {},
     "output_type": "execute_result"
    }
   ],
   "source": [
    "month1.head()"
   ]
  },
  {
   "cell_type": "code",
   "execution_count": 15,
   "metadata": {},
   "outputs": [
    {
     "data": {
      "text/plain": [
       "Index([u'Date_Time', u'TEMPERATURE', u'Day', u'Hour', u'Workday',\n",
       "       u'CONSUMPTION'],\n",
       "      dtype='object')"
      ]
     },
     "execution_count": 15,
     "metadata": {},
     "output_type": "execute_result"
    }
   ],
   "source": [
    "month1.columns\n"
   ]
  },
  {
   "cell_type": "code",
   "execution_count": 16,
   "metadata": {},
   "outputs": [
    {
     "data": {
      "text/plain": [
       "pandas.core.frame.DataFrame"
      ]
     },
     "execution_count": 16,
     "metadata": {},
     "output_type": "execute_result"
    }
   ],
   "source": [
    "type(month1)"
   ]
  },
  {
   "cell_type": "code",
   "execution_count": 17,
   "metadata": {},
   "outputs": [
    {
     "data": {
      "text/plain": [
       "17856"
      ]
     },
     "execution_count": 17,
     "metadata": {},
     "output_type": "execute_result"
    }
   ],
   "source": [
    "month1.size"
   ]
  },
  {
   "cell_type": "code",
   "execution_count": 18,
   "metadata": {},
   "outputs": [
    {
     "data": {
      "text/html": [
       "<div>\n",
       "<style scoped>\n",
       "    .dataframe tbody tr th:only-of-type {\n",
       "        vertical-align: middle;\n",
       "    }\n",
       "\n",
       "    .dataframe tbody tr th {\n",
       "        vertical-align: top;\n",
       "    }\n",
       "\n",
       "    .dataframe thead th {\n",
       "        text-align: right;\n",
       "    }\n",
       "</style>\n",
       "<table border=\"1\" class=\"dataframe\">\n",
       "  <thead>\n",
       "    <tr style=\"text-align: right;\">\n",
       "      <th></th>\n",
       "      <th>TEMPERATURE</th>\n",
       "      <th>Day</th>\n",
       "      <th>Hour</th>\n",
       "      <th>Workday</th>\n",
       "    </tr>\n",
       "  </thead>\n",
       "  <tbody>\n",
       "    <tr>\n",
       "      <th>1557</th>\n",
       "      <td>53.000000</td>\n",
       "      <td>17</td>\n",
       "      <td>5</td>\n",
       "      <td>1</td>\n",
       "    </tr>\n",
       "    <tr>\n",
       "      <th>509</th>\n",
       "      <td>7.600000</td>\n",
       "      <td>6</td>\n",
       "      <td>7</td>\n",
       "      <td>0</td>\n",
       "    </tr>\n",
       "    <tr>\n",
       "      <th>2044</th>\n",
       "      <td>49.700001</td>\n",
       "      <td>22</td>\n",
       "      <td>7</td>\n",
       "      <td>1</td>\n",
       "    </tr>\n",
       "    <tr>\n",
       "      <th>1847</th>\n",
       "      <td>45.900002</td>\n",
       "      <td>20</td>\n",
       "      <td>5</td>\n",
       "      <td>0</td>\n",
       "    </tr>\n",
       "    <tr>\n",
       "      <th>2097</th>\n",
       "      <td>54.700001</td>\n",
       "      <td>22</td>\n",
       "      <td>20</td>\n",
       "      <td>1</td>\n",
       "    </tr>\n",
       "  </tbody>\n",
       "</table>\n",
       "</div>"
      ],
      "text/plain": [
       "      TEMPERATURE  Day  Hour  Workday\n",
       "1557    53.000000   17     5        1\n",
       "509      7.600000    6     7        0\n",
       "2044    49.700001   22     7        1\n",
       "1847    45.900002   20     5        0\n",
       "2097    54.700001   22    20        1"
      ]
     },
     "execution_count": 18,
     "metadata": {},
     "output_type": "execute_result"
    }
   ],
   "source": [
    "X_train.head()\n"
   ]
  },
  {
   "cell_type": "code",
   "execution_count": 19,
   "metadata": {},
   "outputs": [
    {
     "data": {
      "text/html": [
       "<div>\n",
       "<style scoped>\n",
       "    .dataframe tbody tr th:only-of-type {\n",
       "        vertical-align: middle;\n",
       "    }\n",
       "\n",
       "    .dataframe tbody tr th {\n",
       "        vertical-align: top;\n",
       "    }\n",
       "\n",
       "    .dataframe thead th {\n",
       "        text-align: right;\n",
       "    }\n",
       "</style>\n",
       "<table border=\"1\" class=\"dataframe\">\n",
       "  <thead>\n",
       "    <tr style=\"text-align: right;\">\n",
       "      <th></th>\n",
       "      <th>CONSUMPTION</th>\n",
       "    </tr>\n",
       "  </thead>\n",
       "  <tbody>\n",
       "    <tr>\n",
       "      <th>1557</th>\n",
       "      <td>45.3</td>\n",
       "    </tr>\n",
       "    <tr>\n",
       "      <th>509</th>\n",
       "      <td>52.3</td>\n",
       "    </tr>\n",
       "    <tr>\n",
       "      <th>2044</th>\n",
       "      <td>29.3</td>\n",
       "    </tr>\n",
       "    <tr>\n",
       "      <th>1847</th>\n",
       "      <td>49.5</td>\n",
       "    </tr>\n",
       "    <tr>\n",
       "      <th>2097</th>\n",
       "      <td>47.2</td>\n",
       "    </tr>\n",
       "  </tbody>\n",
       "</table>\n",
       "</div>"
      ],
      "text/plain": [
       "      CONSUMPTION\n",
       "1557         45.3\n",
       "509          52.3\n",
       "2044         29.3\n",
       "1847         49.5\n",
       "2097         47.2"
      ]
     },
     "execution_count": 19,
     "metadata": {},
     "output_type": "execute_result"
    }
   ],
   "source": [
    "y_train.head()\n"
   ]
  },
  {
   "cell_type": "markdown",
   "metadata": {},
   "source": [
    "# LinearRegression"
   ]
  },
  {
   "cell_type": "code",
   "execution_count": 20,
   "metadata": {},
   "outputs": [
    {
     "data": {
      "text/plain": [
       "LinearRegression(copy_X=True, fit_intercept=True, n_jobs=1, normalize=False)"
      ]
     },
     "execution_count": 20,
     "metadata": {},
     "output_type": "execute_result"
    }
   ],
   "source": [
    "from sklearn.linear_model import LinearRegression\n",
    "\n",
    "lin_reg = LinearRegression()\n",
    "lin_reg.fit(X_train, y_train)"
   ]
  },
  {
   "cell_type": "code",
   "execution_count": 21,
   "metadata": {},
   "outputs": [
    {
     "data": {
      "text/plain": [
       "11.098564594418308"
      ]
     },
     "execution_count": 21,
     "metadata": {},
     "output_type": "execute_result"
    }
   ],
   "source": [
    "# Calculating the MSE\n",
    "\n",
    "from sklearn.metrics import mean_squared_error\n",
    "\n",
    "y_predict = lin_reg.predict(X_train)\n",
    "\n",
    "lin_mse = mean_squared_error(y_train, y_predict)\n",
    "lin_rmse = np.sqrt(lin_mse)\n",
    "lin_rmse"
   ]
  },
  {
   "cell_type": "code",
   "execution_count": 22,
   "metadata": {},
   "outputs": [
    {
     "data": {
      "text/plain": [
       "CONSUMPTION    1.000000\n",
       "Day            0.332697\n",
       "Hour           0.179267\n",
       "TEMPERATURE    0.123094\n",
       "Workday        0.094034\n",
       "Name: CONSUMPTION, dtype: float64"
      ]
     },
     "execution_count": 22,
     "metadata": {},
     "output_type": "execute_result"
    }
   ],
   "source": [
    "corr_matrix = month1.corr()\n",
    "\n",
    "corr_matrix[\"CONSUMPTION\"].sort_values(ascending=False)"
   ]
  },
  {
   "cell_type": "markdown",
   "metadata": {},
   "source": [
    "# Ridge Regression"
   ]
  },
  {
   "cell_type": "code",
   "execution_count": 23,
   "metadata": {},
   "outputs": [
    {
     "data": {
      "text/plain": [
       "0.15998564764120593"
      ]
     },
     "execution_count": 23,
     "metadata": {},
     "output_type": "execute_result"
    }
   ],
   "source": [
    "from sklearn.linear_model import Ridge\n",
    "\n",
    "ridge_reg = Ridge(alpha=0.05, solver=\"cholesky\")\n",
    "ridge_reg.fit(X_train, y_train)\n",
    "\n",
    "ridge_reg.score(X_train, y_train)"
   ]
  },
  {
   "cell_type": "code",
   "execution_count": 24,
   "metadata": {},
   "outputs": [
    {
     "data": {
      "text/plain": [
       "11.098564595511466"
      ]
     },
     "execution_count": 24,
     "metadata": {},
     "output_type": "execute_result"
    }
   ],
   "source": [
    "# Calculating the MSE\n",
    "\n",
    "from sklearn.metrics import mean_squared_error\n",
    "\n",
    "y_predict_ridge = ridge_reg.predict(X_train)\n",
    "\n",
    "ridge_mse = mean_squared_error(y_train, y_predict_ridge)\n",
    "ridge_rmse = np.sqrt(ridge_mse)\n",
    "ridge_rmse"
   ]
  },
  {
   "cell_type": "code",
   "execution_count": 25,
   "metadata": {},
   "outputs": [
    {
     "data": {
      "text/plain": [
       "11.121371059856115"
      ]
     },
     "execution_count": 25,
     "metadata": {},
     "output_type": "execute_result"
    }
   ],
   "source": [
    "# Cross Validation\n",
    "\n",
    "from sklearn.model_selection import cross_val_score\n",
    "\n",
    "\n",
    "scores_ridge = cross_val_score(ridge_reg, X_train, y_train, cv=5, n_jobs=-1, scoring = \"neg_mean_squared_error\")\n",
    "\n",
    "ridge_rmse_scores = np.sqrt(-scores_ridge)\n",
    "ridge_rmse_scores.mean()"
   ]
  },
  {
   "cell_type": "markdown",
   "metadata": {},
   "source": [
    "# Lasso Regression"
   ]
  },
  {
   "cell_type": "code",
   "execution_count": 26,
   "metadata": {},
   "outputs": [
    {
     "data": {
      "text/plain": [
       "0.1598910805377527"
      ]
     },
     "execution_count": 26,
     "metadata": {},
     "output_type": "execute_result"
    }
   ],
   "source": [
    "from sklearn.linear_model import Lasso\n",
    "\n",
    "lasso_reg = Lasso(alpha=0.05, random_state = 42)\n",
    "lasso_reg.fit(X_train, y_train)\n",
    "\n",
    "lasso_reg.score(X_train, y_train)"
   ]
  },
  {
   "cell_type": "code",
   "execution_count": 27,
   "metadata": {},
   "outputs": [
    {
     "data": {
      "text/plain": [
       "11.09918930481893"
      ]
     },
     "execution_count": 27,
     "metadata": {},
     "output_type": "execute_result"
    }
   ],
   "source": [
    "# Calculating the MSE\n",
    "\n",
    "from sklearn.metrics import mean_squared_error\n",
    "\n",
    "y_predict_lasso = lasso_reg.predict(X_train)\n",
    "\n",
    "lasso_mse = mean_squared_error(y_train, y_predict_lasso)\n",
    "lasso_rmse = np.sqrt(lasso_mse)\n",
    "lasso_rmse"
   ]
  },
  {
   "cell_type": "code",
   "execution_count": 28,
   "metadata": {},
   "outputs": [
    {
     "data": {
      "text/plain": [
       "11.122099240384962"
      ]
     },
     "execution_count": 28,
     "metadata": {},
     "output_type": "execute_result"
    }
   ],
   "source": [
    "# Cross Validation\n",
    "\n",
    "from sklearn.model_selection import cross_val_score\n",
    "\n",
    "\n",
    "scores_lasso = cross_val_score(lasso_reg, X_train, y_train, cv=5, n_jobs=-1, scoring = \"neg_mean_squared_error\")\n",
    "\n",
    "lasso_rmse_scores = np.sqrt(-scores_lasso)\n",
    "lasso_rmse_scores.mean()"
   ]
  },
  {
   "cell_type": "markdown",
   "metadata": {},
   "source": [
    "# ElasticNet"
   ]
  },
  {
   "cell_type": "code",
   "execution_count": 29,
   "metadata": {},
   "outputs": [
    {
     "data": {
      "text/plain": [
       "0.15998169062065692"
      ]
     },
     "execution_count": 29,
     "metadata": {},
     "output_type": "execute_result"
    }
   ],
   "source": [
    "from sklearn.linear_model import ElasticNet\n",
    "\n",
    "# l1_ratio = 0 = penalty = l2 (Ridge)\n",
    "# l1_ratio = 1 = panalty = l1 (Lasso)\n",
    "\n",
    "elastic_reg = ElasticNet(alpha=0.005, l1_ratio = 0.5, random_state = 42)\n",
    "elastic_reg.fit(X_train, y_train)\n",
    "\n",
    "elastic_reg.score(X_train, y_train)"
   ]
  },
  {
   "cell_type": "code",
   "execution_count": 30,
   "metadata": {},
   "outputs": [
    {
     "data": {
      "text/plain": [
       "11.098590736253184"
      ]
     },
     "execution_count": 30,
     "metadata": {},
     "output_type": "execute_result"
    }
   ],
   "source": [
    "# Calculating the MSE\n",
    "\n",
    "from sklearn.metrics import mean_squared_error\n",
    "\n",
    "y_predict_elastic = elastic_reg.predict(X_train)\n",
    "\n",
    "elastic_mse = mean_squared_error(y_train, y_predict_elastic)\n",
    "elastic_rmse = np.sqrt(elastic_mse)\n",
    "elastic_rmse"
   ]
  },
  {
   "cell_type": "code",
   "execution_count": 31,
   "metadata": {},
   "outputs": [
    {
     "data": {
      "text/plain": [
       "11.121298809765884"
      ]
     },
     "execution_count": 31,
     "metadata": {},
     "output_type": "execute_result"
    }
   ],
   "source": [
    "# Cross Validation\n",
    "\n",
    "from sklearn.model_selection import cross_val_score\n",
    "\n",
    "\n",
    "scores_elastic = cross_val_score(elastic_reg, X_train, y_train, cv=5, n_jobs=-1, scoring = \"neg_mean_squared_error\")\n",
    "\n",
    "elastic_rmse_scores = np.sqrt(-scores_elastic)\n",
    "elastic_rmse_scores.mean()"
   ]
  },
  {
   "cell_type": "code",
   "execution_count": 32,
   "metadata": {},
   "outputs": [],
   "source": [
    "y_train_rs = y_train.as_matrix()\n"
   ]
  },
  {
   "cell_type": "code",
   "execution_count": 33,
   "metadata": {},
   "outputs": [
    {
     "data": {
      "text/plain": [
       "-0.03713483072137347"
      ]
     },
     "execution_count": 33,
     "metadata": {},
     "output_type": "execute_result"
    }
   ],
   "source": [
    "#Stochastic Gradient Descent\n",
    "\n",
    "from sklearn.linear_model import SGDRegressor\n",
    "\n",
    "sgd_reg = SGDRegressor(penalty=None, max_iter = 1000, random_state = 42)\n",
    "sgd_reg.fit(X_train, y_train_rs.ravel())\n",
    "\n",
    "sgd_reg.score(X_train, y_train_rs.ravel())"
   ]
  },
  {
   "cell_type": "code",
   "execution_count": 34,
   "metadata": {},
   "outputs": [
    {
     "data": {
      "text/plain": [
       "12.332214519177967"
      ]
     },
     "execution_count": 34,
     "metadata": {},
     "output_type": "execute_result"
    }
   ],
   "source": [
    "# Calculating the MSE\n",
    "\n",
    "from sklearn.metrics import mean_squared_error\n",
    "\n",
    "y_predict_sgd = sgd_reg.predict(X_train)\n",
    "\n",
    "sgd_mse = mean_squared_error(y_train, y_predict_sgd)\n",
    "sgd_rmse = np.sqrt(sgd_mse)\n",
    "sgd_rmse\n"
   ]
  },
  {
   "cell_type": "code",
   "execution_count": 35,
   "metadata": {},
   "outputs": [
    {
     "data": {
      "text/plain": [
       "13.07684359009672"
      ]
     },
     "execution_count": 35,
     "metadata": {},
     "output_type": "execute_result"
    }
   ],
   "source": [
    "# Cross Validation\n",
    "\n",
    "from sklearn.model_selection import cross_val_score\n",
    "\n",
    "\n",
    "scores_sgd = cross_val_score(sgd_reg, X_train, y_train_rs.ravel(), cv=5, n_jobs=-1, scoring = \"neg_mean_squared_error\")\n",
    "\n",
    "sgd_rmse_scores = np.sqrt(-scores_sgd)\n",
    "sgd_rmse_scores.mean()"
   ]
  },
  {
   "cell_type": "markdown",
   "metadata": {},
   "source": [
    "# Polynomial Regression"
   ]
  },
  {
   "cell_type": "code",
   "execution_count": 36,
   "metadata": {},
   "outputs": [],
   "source": [
    "from sklearn.preprocessing import PolynomialFeatures\n",
    "poly_features = PolynomialFeatures(degree=4, include_bias=False)\n",
    "\n",
    "X_poly = poly_features.fit_transform(X_train)"
   ]
  },
  {
   "cell_type": "code",
   "execution_count": 37,
   "metadata": {},
   "outputs": [
    {
     "data": {
      "text/plain": [
       "LinearRegression(copy_X=True, fit_intercept=True, n_jobs=1, normalize=False)"
      ]
     },
     "execution_count": 37,
     "metadata": {},
     "output_type": "execute_result"
    }
   ],
   "source": [
    "poly_reg = LinearRegression()\n",
    "poly_reg.fit(X_poly, y_train)"
   ]
  },
  {
   "cell_type": "code",
   "execution_count": 38,
   "metadata": {},
   "outputs": [
    {
     "data": {
      "text/plain": [
       "0.6894429867490037"
      ]
     },
     "execution_count": 38,
     "metadata": {},
     "output_type": "execute_result"
    }
   ],
   "source": [
    "poly_reg.score(X_poly, y_train)\n"
   ]
  },
  {
   "cell_type": "code",
   "execution_count": 39,
   "metadata": {},
   "outputs": [],
   "source": [
    "y_poly_predicted = poly_reg.predict(X_poly)\n"
   ]
  },
  {
   "cell_type": "code",
   "execution_count": 40,
   "metadata": {},
   "outputs": [
    {
     "data": {
      "text/plain": [
       "14.147015644967345"
      ]
     },
     "execution_count": 40,
     "metadata": {},
     "output_type": "execute_result"
    }
   ],
   "source": [
    "#THIS IS MAPE ERROR CALCULATION\n",
    "import numpy as np\n",
    "\n",
    "def mean_absolute_percentage_error(y_train, y_poly_predicted): \n",
    "    y_train, y_poly_predicted = np.array(y_train), np.array(y_poly_predicted)\n",
    "    return np.mean(np.abs((y_train - y_poly_predicted) / y_train)) * 100\n",
    "mean_absolute_percentage_error(y_train,y_poly_predicted)"
   ]
  },
  {
   "cell_type": "markdown",
   "metadata": {},
   "source": [
    "# LinearSVR"
   ]
  },
  {
   "cell_type": "code",
   "execution_count": 41,
   "metadata": {},
   "outputs": [
    {
     "data": {
      "text/plain": [
       "0.07586368439080415"
      ]
     },
     "execution_count": 41,
     "metadata": {},
     "output_type": "execute_result"
    }
   ],
   "source": [
    "from sklearn.svm import LinearSVR # I could have also used SVR with kernel=\"linear\", but LinearSVR is faster\n",
    "\n",
    "svm_reg_linear = LinearSVR(epsilon = 1, C = 1)\n",
    "\n",
    "svm_reg_linear.fit(X_train, y_train_rs.ravel())\n",
    "\n",
    "svm_reg_linear.score(X_train, y_train_rs.ravel())"
   ]
  },
  {
   "cell_type": "code",
   "execution_count": 42,
   "metadata": {},
   "outputs": [
    {
     "data": {
      "text/plain": [
       "11.641031899784643"
      ]
     },
     "execution_count": 42,
     "metadata": {},
     "output_type": "execute_result"
    }
   ],
   "source": [
    "# Calculating the MSE\n",
    "\n",
    "from sklearn.metrics import mean_squared_error\n",
    "\n",
    "y_predict_svm_linear = svm_reg_linear.predict(X_train)\n",
    "\n",
    "svm_linear_mse = mean_squared_error(y_train_rs.ravel(), y_predict_svm_linear)\n",
    "svm_linear_rmse = np.sqrt(svm_linear_mse)\n",
    "svm_linear_rmse"
   ]
  },
  {
   "cell_type": "code",
   "execution_count": 43,
   "metadata": {},
   "outputs": [
    {
     "data": {
      "text/plain": [
       "11.596561272030296"
      ]
     },
     "execution_count": 43,
     "metadata": {},
     "output_type": "execute_result"
    }
   ],
   "source": [
    "# Cross Validation\n",
    "\n",
    "from sklearn.model_selection import cross_val_score\n",
    "\n",
    "scores_svm_linear = cross_val_score(svm_reg_linear, X_train, y_train_rs.ravel(), cv=5, n_jobs=-1, scoring = \"neg_mean_squared_error\")\n",
    "\n",
    "svm_reg_linear_scores = np.sqrt(-scores_svm_linear)\n",
    "svm_reg_linear_scores.mean()"
   ]
  },
  {
   "cell_type": "code",
   "execution_count": 44,
   "metadata": {},
   "outputs": [
    {
     "data": {
      "text/plain": [
       "0.2914231390646952"
      ]
     },
     "execution_count": 44,
     "metadata": {},
     "output_type": "execute_result"
    }
   ],
   "source": [
    "#THIS MODEL NEED TO NORMALIZE THE INPUTS\n",
    "from sklearn import preprocessing\n",
    "X_train = preprocessing.scale(X_train)\n",
    "y_test = preprocessing.scale(y_test)\n",
    "\n",
    "from sklearn.svm import SVR\n",
    "\n",
    "svm_reg_poly = SVR(kernel = \"poly\", degree = 2, C=1, epsilon = 0)\n",
    "\n",
    "svm_reg_poly.fit(X_train, y_train_rs.ravel())\n",
    "\n",
    "svm_reg_poly.score(X_train, y_train_rs.ravel())"
   ]
  },
  {
   "cell_type": "code",
   "execution_count": 45,
   "metadata": {},
   "outputs": [
    {
     "data": {
      "text/plain": [
       "10.193350174016311"
      ]
     },
     "execution_count": 45,
     "metadata": {},
     "output_type": "execute_result"
    }
   ],
   "source": [
    "# Calculating the MSE\n",
    "\n",
    "from sklearn.metrics import mean_squared_error\n",
    "\n",
    "y_predict_svm_poly = svm_reg_poly.predict(X_train)\n",
    "\n",
    "svm_poly_mse = mean_squared_error(y_train_rs.ravel(), y_predict_svm_poly)\n",
    "svm_poly_rmse = np.sqrt(svm_poly_mse)\n",
    "svm_poly_rmse"
   ]
  },
  {
   "cell_type": "code",
   "execution_count": 46,
   "metadata": {},
   "outputs": [
    {
     "data": {
      "text/plain": [
       "10.206807812168275"
      ]
     },
     "execution_count": 46,
     "metadata": {},
     "output_type": "execute_result"
    }
   ],
   "source": [
    "# Cross Validation\n",
    "\n",
    "from sklearn.model_selection import cross_val_score\n",
    "\n",
    "scores_svm_poly = cross_val_score(svm_reg_poly, X_train, y_train_rs.ravel(), cv=5, n_jobs=-1, scoring = \"neg_mean_squared_error\")\n",
    "\n",
    "svm_reg_poly_scores = np.sqrt(-scores_svm_poly)\n",
    "svm_reg_poly_scores.mean()"
   ]
  },
  {
   "cell_type": "code",
   "execution_count": 47,
   "metadata": {},
   "outputs": [
    {
     "data": {
      "text/plain": [
       "0.5356854144248764"
      ]
     },
     "execution_count": 47,
     "metadata": {},
     "output_type": "execute_result"
    }
   ],
   "source": [
    "#RBF Kernel\n",
    "\n",
    "from sklearn.svm import SVR\n",
    "\n",
    "svm_reg_rbf = SVR(kernel = \"rbf\", C=1)\n",
    "\n",
    "svm_reg_rbf.fit(X_train, y_train_rs.ravel())\n",
    "\n",
    "svm_reg_rbf.score(X_train, y_train_rs.ravel())"
   ]
  },
  {
   "cell_type": "code",
   "execution_count": 48,
   "metadata": {},
   "outputs": [
    {
     "data": {
      "text/plain": [
       "8.251437681970515"
      ]
     },
     "execution_count": 48,
     "metadata": {},
     "output_type": "execute_result"
    }
   ],
   "source": [
    "# Calculating the MSE\n",
    "\n",
    "from sklearn.metrics import mean_squared_error\n",
    "\n",
    "y_predict_svm_rbf = svm_reg_rbf.predict(X_train)\n",
    "\n",
    "svm_rbf_mse = mean_squared_error(y_train_rs.ravel(), y_predict_svm_rbf)\n",
    "svm_rbf_rmse = np.sqrt(svm_rbf_mse)\n",
    "svm_rbf_rmse"
   ]
  },
  {
   "cell_type": "code",
   "execution_count": 49,
   "metadata": {},
   "outputs": [
    {
     "data": {
      "text/plain": [
       "8.456226771981974"
      ]
     },
     "execution_count": 49,
     "metadata": {},
     "output_type": "execute_result"
    }
   ],
   "source": [
    "# Cross Validation\n",
    "\n",
    "from sklearn.model_selection import cross_val_score\n",
    "\n",
    "scores_svm_rbf = cross_val_score(svm_reg_rbf, X_train, y_train_rs.ravel(), cv=5, n_jobs=-1, scoring = \"neg_mean_squared_error\")\n",
    "\n",
    "svm_reg_rbf_scores = np.sqrt(-scores_svm_rbf)\n",
    "svm_reg_rbf_scores.mean()"
   ]
  },
  {
   "cell_type": "code",
   "execution_count": 50,
   "metadata": {},
   "outputs": [
    {
     "data": {
      "text/plain": [
       "RandomizedSearchCV(cv=5, error_score='raise',\n",
       "          estimator=SVR(C=1.0, cache_size=200, coef0=0.0, degree=3, epsilon=0.1, gamma='auto',\n",
       "  kernel='rbf', max_iter=-1, shrinking=True, tol=0.001, verbose=False),\n",
       "          fit_params=None, iid=True, n_iter=10, n_jobs=-1,\n",
       "          param_distributions={'kernel': ['rbf'], 'C': <scipy.stats._distn_infrastructure.rv_frozen object at 0x7f6a52ac2890>, 'gamma': <scipy.stats._distn_infrastructure.rv_frozen object at 0x7f6a515dc390>},\n",
       "          pre_dispatch='2*n_jobs', random_state=42, refit=True,\n",
       "          return_train_score='warn', scoring='neg_mean_squared_error',\n",
       "          verbose=0)"
      ]
     },
     "execution_count": 50,
     "metadata": {},
     "output_type": "execute_result"
    }
   ],
   "source": [
    "# Due to the promising scores we will do a randomizes search on the RBF Kernel\n",
    "\n",
    "from sklearn.model_selection import RandomizedSearchCV\n",
    "from scipy.stats import expon, reciprocal\n",
    "\n",
    "params = {\n",
    "        'kernel': ['rbf'],\n",
    "        'C': reciprocal(1, 200),\n",
    "        'gamma': expon(scale=1.0),\n",
    "    }\n",
    "\n",
    "svm_reg = SVR()\n",
    "rnd_search = RandomizedSearchCV(svm_reg, param_distributions= params, cv=5, scoring='neg_mean_squared_error', n_jobs=-1, random_state=42)\n",
    "rnd_search.fit(X_train, y_train_rs.ravel())"
   ]
  },
  {
   "cell_type": "code",
   "execution_count": 52,
   "metadata": {},
   "outputs": [
    {
     "data": {
      "text/plain": [
       "{'C': 7.2749170880278085, 'gamma': 3.010121430917521, 'kernel': 'rbf'}"
      ]
     },
     "execution_count": 52,
     "metadata": {},
     "output_type": "execute_result"
    }
   ],
   "source": [
    "rnd_search.best_params_\n"
   ]
  },
  {
   "cell_type": "code",
   "execution_count": 53,
   "metadata": {},
   "outputs": [
    {
     "data": {
      "text/plain": [
       "-15.934399200412996"
      ]
     },
     "execution_count": 53,
     "metadata": {},
     "output_type": "execute_result"
    }
   ],
   "source": [
    "rnd_search.best_score_\n"
   ]
  },
  {
   "cell_type": "markdown",
   "metadata": {},
   "source": [
    "# GradientBoostingRegressor"
   ]
  },
  {
   "cell_type": "code",
   "execution_count": 65,
   "metadata": {},
   "outputs": [
    {
     "name": "stdout",
     "output_type": "stream",
     "text": [
      "GradientBoostingRegressor(alpha=0.9, criterion='friedman_mse', init=None,\n",
      "             learning_rate=0.05, loss='huber', max_depth=3,\n",
      "             max_features='sqrt', max_leaf_nodes=None,\n",
      "             min_impurity_decrease=0.0, min_impurity_split=None,\n",
      "             min_samples_leaf=15, min_samples_split=10,\n",
      "             min_weight_fraction_leaf=0.0, n_estimators=3000,\n",
      "             presort='auto', random_state=None, subsample=1.0, verbose=0,\n",
      "             warm_start=False)\n",
      "R2: 0.969737826182\n",
      "RMSE: 2.05420129212\n",
      "Test\n",
      "R2: -1119.82964645\n",
      "RMSE: 46.4388590237\n"
     ]
    }
   ],
   "source": [
    "#https://www.kaggle.com/neviadomski/how-to-get-to-top-25-with-simple-model-sklearn\n",
    "\n",
    "# Adding needed libraries and reading data\n",
    "import pandas as pd\n",
    "import numpy as np\n",
    "import matplotlib.pyplot as plt\n",
    "import seaborn as sns\n",
    "from sklearn import ensemble, tree, linear_model\n",
    "from sklearn.model_selection import train_test_split, cross_val_score\n",
    "from sklearn.metrics import r2_score, mean_squared_error\n",
    "from sklearn.utils import shuffle\n",
    "\n",
    "%matplotlib inline\n",
    "#import warnings\n",
    "\n",
    "\n",
    "# Prints R2 and RMSE scores\n",
    "def get_score(prediction, lables):    \n",
    "    print('R2: {}'.format(r2_score(prediction, lables)))\n",
    "    print('RMSE: {}'.format(np.sqrt(mean_squared_error(prediction, lables))))\n",
    "\n",
    "# Shows scores for train and validation sets    \n",
    "def train_test(estimator, x_trn, x_tst, y_trn, y_tst):\n",
    "    prediction_train = estimator.predict(x_trn)\n",
    "    # Printing estimator\n",
    "    print(estimator)\n",
    "    # Printing train scores\n",
    "    get_score(prediction_train, y_trn)\n",
    "    prediction_test = estimator.predict(x_tst)\n",
    "    # Printing test scores\n",
    "    print(\"Test\")\n",
    "    get_score(prediction_test, y_tst)\n",
    "\n",
    "GBest = ensemble.GradientBoostingRegressor(n_estimators=3000, learning_rate=0.05, max_depth=3, max_features='sqrt',\n",
    "                                               min_samples_leaf=15, min_samples_split=10, loss='huber').fit(X_train, y_train)\n",
    "train_test(GBest, X_train, X_test, y_train, y_test)"
   ]
  },
  {
   "cell_type": "code",
   "execution_count": 67,
   "metadata": {},
   "outputs": [],
   "source": [
    "from sklearn.linear_model import Ridge, RidgeCV, ElasticNet, LassoCV, LassoLarsCV\n",
    "from sklearn.model_selection import cross_val_score\n",
    "\n",
    "def rmse_cv(model):\n",
    "    rmse= np.sqrt(-cross_val_score(model, X_train, y_train, scoring=\"neg_mean_squared_error\", cv = 5))\n",
    "    return(rmse)"
   ]
  },
  {
   "cell_type": "code",
   "execution_count": 71,
   "metadata": {},
   "outputs": [],
   "source": [
    "model_ridge = Ridge()\n"
   ]
  },
  {
   "cell_type": "code",
   "execution_count": 72,
   "metadata": {},
   "outputs": [],
   "source": [
    "alphas = [0.05, 0.1, 0.3, 1, 3, 5, 10, 15, 30, 50, 75]\n",
    "cv_ridge = [rmse_cv(Ridge(alpha = alpha)).mean() \n",
    "            for alpha in alphas]"
   ]
  },
  {
   "cell_type": "code",
   "execution_count": 73,
   "metadata": {},
   "outputs": [
    {
     "data": {
      "text/plain": [
       "Text(0,0.5,'rmse')"
      ]
     },
     "execution_count": 73,
     "metadata": {},
     "output_type": "execute_result"
    },
    {
     "data": {
      "image/png": "[encoded data removed]",
      "text/plain": [
       "<Figure size 432x288 with 1 Axes>"
      ]
     },
     "metadata": {},
     "output_type": "display_data"
    }
   ],
   "source": [
    "cv_ridge = pd.Series(cv_ridge, index = alphas)\n",
    "cv_ridge.plot(title = \"Validation\")\n",
    "plt.xlabel(\"alpha\")\n",
    "plt.ylabel(\"rmse\")"
   ]
  },
  {
   "cell_type": "code",
   "execution_count": 74,
   "metadata": {},
   "outputs": [
    {
     "data": {
      "text/plain": [
       "11.12125686005244"
      ]
     },
     "execution_count": 74,
     "metadata": {},
     "output_type": "execute_result"
    }
   ],
   "source": [
    "cv_ridge.min()"
   ]
  },
  {
   "cell_type": "code",
   "execution_count": 76,
   "metadata": {},
   "outputs": [
    {
     "data": {
      "text/plain": [
       "11.12093753115057"
      ]
     },
     "execution_count": 76,
     "metadata": {},
     "output_type": "execute_result"
    }
   ],
   "source": [
    "model_lasso = LassoCV(alphas = [1, 0.1, 0.001, 0.0005]).fit(X_train, y_train)\n",
    "rmse_cv(model_lasso).mean()\n"
   ]
  },
  {
   "cell_type": "markdown",
   "metadata": {},
   "source": [
    "# Xgboost"
   ]
  },
  {
   "cell_type": "code",
   "execution_count": 117,
   "metadata": {},
   "outputs": [],
   "source": [
    "import xgboost as xgb\n",
    "params = {\"max_depth\":2, \"eta\":0.1}\n",
    "label = np.random.randint(2, size=4)  # binary target\n",
    "dtrain = xgb.DMatrix(X_train,label=y_train)\n",
    "dtest = xgb.DMatrix(X_test, label=y_test)\n",
    "model = xgb.cv(params, dtrain,  num_boost_round=500, early_stopping_rounds=100)"
   ]
  },
  {
   "cell_type": "code",
   "execution_count": 118,
   "metadata": {},
   "outputs": [
    {
     "data": {
      "text/plain": [
       "<matplotlib.axes._subplots.AxesSubplot at 0x7f6a4c0e23d0>"
      ]
     },
     "execution_count": 118,
     "metadata": {},
     "output_type": "execute_result"
    },
    {
     "data": {
      "image/png": "[encoded data removed]",
      "text/plain": [
       "<Figure size 432x288 with 1 Axes>"
      ]
     },
     "metadata": {},
     "output_type": "display_data"
    }
   ],
   "source": [
    "model.loc[30:,[\"test-rmse-mean\", \"train-rmse-mean\"]].plot()\n"
   ]
  },
  {
   "cell_type": "code",
   "execution_count": 119,
   "metadata": {},
   "outputs": [
    {
     "data": {
      "text/plain": [
       "XGBRegressor(base_score=0.5, booster='gbtree', colsample_bylevel=1,\n",
       "       colsample_bytree=1, gamma=0, learning_rate=0.1, max_delta_step=0,\n",
       "       max_depth=2, min_child_weight=1, missing=None, n_estimators=360,\n",
       "       n_jobs=1, nthread=None, objective='reg:linear', random_state=0,\n",
       "       reg_alpha=0, reg_lambda=1, scale_pos_weight=1, seed=None,\n",
       "       silent=True, subsample=1)"
      ]
     },
     "execution_count": 119,
     "metadata": {},
     "output_type": "execute_result"
    }
   ],
   "source": [
    "model_xgb = xgb.XGBRegressor(n_estimators=360, max_depth=2, learning_rate=0.1) #the params were tuned using xgb.cv\n",
    "model_xgb.fit(X_train, y_train)"
   ]
  },
  {
   "cell_type": "code",
   "execution_count": 138,
   "metadata": {},
   "outputs": [],
   "source": [
    "preds = model_xgb.predict(X_train)\n"
   ]
  },
  {
   "cell_type": "code",
   "execution_count": 133,
   "metadata": {},
   "outputs": [
    {
     "data": {
      "text/plain": [
       "array([44.446064, 49.779896, 38.598686, ..., 35.883244, 35.63639 ,\n",
       "       33.565453], dtype=float32)"
      ]
     },
     "execution_count": 133,
     "metadata": {},
     "output_type": "execute_result"
    }
   ],
   "source": [
    "preds"
   ]
  },
  {
   "cell_type": "code",
   "execution_count": 143,
   "metadata": {},
   "outputs": [],
   "source": [
    "model_lasso = LassoCV(alphas = [1, 0.1, 0.001, 0.0005]).fit(X_train, y_train)\n"
   ]
  },
  {
   "cell_type": "code",
   "execution_count": 149,
   "metadata": {},
   "outputs": [],
   "source": [
    "lasso_preds = np.expm1(model_lasso.predict(X_test))\n"
   ]
  },
  {
   "cell_type": "code",
   "execution_count": null,
   "metadata": {},
   "outputs": [],
   "source": [
    "predictions = pd.DataFrame({\"xgb\":xgb_preds, \"lasso\":lasso_preds})\n",
    "predictions.plot(x = \"xgb\", y = \"lasso\", kind = \"scatter\")"
   ]
  }
 ],
 "metadata": {
  "kernelspec": {
   "display_name": "Python 3",
   "language": "python",
   "name": "python3"
  },
  "language_info": {
   "codemirror_mode": {
    "name": "ipython",
    "version": 3
   },
   "file_extension": ".py",
   "mimetype": "text/x-python",
   "name": "python",
   "nbconvert_exporter": "python",
   "pygments_lexer": "ipython3",
   "version": "3.5.2"
  }
 },
 "nbformat": 4,
 "nbformat_minor": 2
}
